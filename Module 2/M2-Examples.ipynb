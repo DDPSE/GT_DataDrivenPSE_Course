{
 "cells": [
  {
   "cell_type": "markdown",
   "metadata": {},
   "source": [
    "## Module 2 - Pyomo Examples"
   ]
  },
  {
   "cell_type": "markdown",
   "metadata": {},
   "source": [
    "## Knapsack Example (Linear)"
   ]
  },
  {
   "cell_type": "code",
   "execution_count": null,
   "metadata": {},
   "outputs": [],
   "source": [
    "from pyomo.environ import *\n",
    "\n",
    "v={'hammer':8,'wrench':3,'screwdriver':6,'towel':11}\n",
    "w={'hammer':5,'wrench':7,'screwdriver':4,'towel':3}\n",
    "W_max=14\n",
    "\n",
    "model=ConcreteModel()\n",
    "model.Items=['hammer','wrench','screwdriver','towel']\n",
    "model.x=Var(model.Items, within=Binary)\n",
    "\n",
    "model.Wmax= Constraint(expr=sum(w[i]*model.x[i] for i in model.Items)<=W_max)\n",
    "model.Obj=Objective(expr=sum(v[i]*model.x[i] for i in model.Items), sense=maximize)\n",
    "solver=SolverFactory('glpk')\n",
    "solver.solve(model);"
   ]
  },
  {
   "cell_type": "code",
   "execution_count": null,
   "metadata": {},
   "outputs": [],
   "source": [
    "model.pprint()\n",
    "print(value(model.Obj))"
   ]
  },
  {
   "cell_type": "markdown",
   "metadata": {},
   "source": [
    "## Rosenbrock Example (Non-linear)"
   ]
  },
  {
   "cell_type": "code",
   "execution_count": null,
   "metadata": {},
   "outputs": [],
   "source": [
    "from pyomo.environ import *\n",
    "\n",
    "model=ConcreteModel()\n",
    "model.x=Var()\n",
    "model.y=Var()\n",
    "\n",
    "def rosenbrock(m):\n",
    "    obj=(1.0-m.x)**2+100*(m.y-m.x**2)**2\n",
    "    return obj\n",
    "\n",
    "model.obj=Objective(rule=rosenbrock, sense=minimize)\n",
    "solver=SolverFactory('ipopt')\n",
    "solver.solve(model)"
   ]
  },
  {
   "cell_type": "code",
   "execution_count": null,
   "metadata": {},
   "outputs": [],
   "source": [
    "model.pprint()\n",
    "print(value(model.obj))"
   ]
  },
  {
   "cell_type": "code",
   "execution_count": null,
   "metadata": {
    "scrolled": true
   },
   "outputs": [],
   "source": [
    "import matplotlib.pyplot as plt\n",
    "from mpl_toolkits import mplot3d\n",
    "import numpy as np\n",
    "\n",
    "x = np.linspace(-2,2)\n",
    "y = np.linspace(-1,3)\n",
    "\n",
    "def f(x, y):\n",
    "    return (1.0-x)**2+100*(y-x**2)**2 \n",
    "\n",
    "X, Y = np.meshgrid(x,y)\n",
    "Z = np.zeros((50,50))\n",
    "\n",
    "for i in range(50):\n",
    "    for j in range(50):\n",
    "        Z[i,j] = f(X[i,j],Y[i,j])\n",
    "fig = plt.figure()\n",
    "ax = plt.axes(projection='3d')\n",
    "surf = ax.plot_surface(X, Y, Z,linewidth=0, antialiased=False,cmap='terrain')\n",
    "ax.view_init(30, -110)\n",
    "plt.show()"
   ]
  },
  {
   "cell_type": "markdown",
   "metadata": {},
   "source": [
    "## Solvers, Statuses, Termination Conditions"
   ]
  },
  {
   "cell_type": "code",
   "execution_count": null,
   "metadata": {},
   "outputs": [],
   "source": [
    "import pyomo.environ as pyo\n",
    "from itertools import compress\n",
    "\n",
    "pyomo_solvers_list = pyo.SolverFactory.__dict__['_cls'].keys()\n",
    "print(pyomo_solvers_list)"
   ]
  }
 ],
 "metadata": {
  "kernelspec": {
   "display_name": "Python 3",
   "language": "python",
   "name": "python3"
  },
  "language_info": {
   "codemirror_mode": {
    "name": "ipython",
    "version": 3
   },
   "file_extension": ".py",
   "mimetype": "text/x-python",
   "name": "python",
   "nbconvert_exporter": "python",
   "pygments_lexer": "ipython3",
   "version": "3.8.5"
  }
 },
 "nbformat": 4,
 "nbformat_minor": 2
}
