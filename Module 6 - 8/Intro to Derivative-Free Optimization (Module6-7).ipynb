{
 "cells": [
  {
   "cell_type": "markdown",
   "metadata": {},
   "source": [
    "# Intro to Derivative-Free Optimization\n",
    "\n",
    "In this module we will run our first derivative-free algorithm for low dimensional problems. We will start with 1 dimension problems. <br>\n",
    "\n",
    "### Motivating Example:\n",
    "Consider the following problem: <br>\n",
    "$min $   $f(x) = 2x^2 + \\frac{16}{x} $ <br>\n",
    "$1 \\le x \\le 5$ <br>\n",
    "\n",
    "The first thing we want to do is identify the nature of this problem: <br>\n",
    " - Non-linear <br>\n",
    " - 1Dimension <br>\n",
    " - Unconstrained <br>\n",
    " - Convex or non convex? <br>\n",
    " \n",
    "Since it is just 1D problem, let's plot it. The formal way would be to calculate its first derivative to find the stationary point: \n",
    "\n",
    "$x^3 = 4 => x=1.5874 $ <br>\n",
    "\n",
    "Second derivative is positive, so it's a minimum! <br>"
   ]
  },
  {
   "cell_type": "code",
   "execution_count": 1,
   "metadata": {},
   "outputs": [
    {
     "data": {
      "image/png": "[encoded data removed]",
      "text/plain": [
       "<Figure size 432x288 with 1 Axes>"
      ]
     },
     "metadata": {
      "needs_background": "light"
     },
     "output_type": "display_data"
    }
   ],
   "source": [
    "%matplotlib inline\n",
    "from pylab import *\n",
    "x = linspace(1,5,50)\n",
    "y = 2*x**2 + 16/x\n",
    "plot(x,y)\n",
    "xlabel('x')\n",
    "ylabel('fx')\n",
    "show()"
   ]
  },
  {
   "cell_type": "markdown",
   "metadata": {},
   "source": [
    "**Now suppose you have no access to the equation of $f(x)$, but I have provided you with the bounds and the fact that it is a convex function. Suppose you had the ability to only collect 3 points total, and give me your best guess of the optimum. What would you do?**\n"
   ]
  },
  {
   "cell_type": "markdown",
   "metadata": {},
   "source": [
    "### Notes:\n",
    " Collect 3 points, 2 end points and one in the middle.\n"
   ]
  },
  {
   "cell_type": "code",
   "execution_count": 2,
   "metadata": {},
   "outputs": [
    {
     "name": "stdout",
     "output_type": "stream",
     "text": [
      "18.0 23.333333333333332 53.2\n"
     ]
    }
   ],
   "source": [
    "y1 = 2*1**2 + 16/1\n",
    "y2 = 2*3**2 + 16/3\n",
    "y3 = 2*5**2 + 16/5\n",
    "print(y1,y2,y3)"
   ]
  },
  {
   "cell_type": "markdown",
   "metadata": {},
   "source": [
    "### Approach 1: Only using samples\n",
    "#### Step 1: Pick starting point:\n",
    "For this example, I would start at an endpoint. For example, let's make it harder and start at $x=5$"
   ]
  },
  {
   "cell_type": "code",
   "execution_count": 3,
   "metadata": {},
   "outputs": [
    {
     "name": "stdout",
     "output_type": "stream",
     "text": [
      "53.2\n"
     ]
    }
   ],
   "source": [
    "x_0 = 5\n",
    "y_0 = 2*x_0**2 + 16/x_0\n",
    "print(y_0)"
   ]
  },
  {
   "cell_type": "markdown",
   "metadata": {},
   "source": [
    "#### Step 2: Pick step size:\n",
    "My entire search space is 5-1 = 4, so I can pick a step size of 0.5.\n",
    "My next evaluation is: "
   ]
  },
  {
   "cell_type": "code",
   "execution_count": 4,
   "metadata": {},
   "outputs": [
    {
     "name": "stdout",
     "output_type": "stream",
     "text": [
      "44.05555555555556\n"
     ]
    }
   ],
   "source": [
    "step = 0.5\n",
    "x_1 = 5 - step\n",
    "y_1 = 2*x_1**2 + 16/x_1\n",
    "print(y_1)"
   ]
  },
  {
   "cell_type": "markdown",
   "metadata": {},
   "source": [
    "#### Step 3: Take another step:\n",
    "To do this, first I compare my results: y_1<y_0<br>\n",
    "\n",
    "This means my function value decreased, I am moving towards the correct direction. I have two options:<br>\n",
    "\n",
    "1. Continue moving towards this direction with same step<br>\n",
    "\n",
    "2. Continue moving towards this direction with a different step size<br>\n",
    "<br>\n",
    "\n",
    "**What would you do???**\n",
    "**In class exercise: Write a short algorithm that will get to as close as possible to the optimal value, using only a loop, a step size that can change in every iteration and function evaluations. WORK IN GROUPS. You have 10 minutes!** <br>\n",
    "\n",
    "**Given:** <br>\n",
    "1. You have to start from x0=5 <br>\n"
   ]
  },
  {
   "cell_type": "markdown",
   "metadata": {},
   "source": [
    "**Algorithmically, what is the first thing that you should do???** <br>\n",
    "\n",
    "**Create a function for f(x). This is your \"black-box\" function** <br>"
   ]
  },
  {
   "cell_type": "code",
   "execution_count": 5,
   "metadata": {},
   "outputs": [
    {
     "name": "stdout",
     "output_type": "stream",
     "text": [
      "53.2\n",
      "step -0.75 from: 5.0 to: 4.25 where: 44.05555555555556\n",
      "step -1.125 from: 4.25 to: 3.125 where: 29.07142857142857\n",
      "step -1.6875 from: 3.125 to: 1.4375 where: 16.0\n",
      "step -2.53125 from: 1.4375 to: -1.09375 where: -63.875\n",
      "step 1.265625 from: -1.09375 to: 0.171875 where: 21.867456896551722\n",
      "step 1.8984375 from: 0.171875 to: 2.0703125 where: 15.263247282608695\n",
      "step -0.94921875 from: 2.0703125 to: 1.12109375 where: 35.533449187992126\n",
      "step 0.474609375 from: 1.12109375 to: 1.595703125 where: 93.1499911221591\n",
      "step 0.7119140625 from: 1.595703125 to: 2.3076171875 where: 16.30068958210495\n",
      "step -0.35595703125 from: 2.3076171875 to: 1.95166015625 where: 23.533973644498403\n",
      "step -0.533935546875 from: 1.95166015625 to: 1.417724609375 where: 15.119464710847254\n",
      "step 0.2669677734375 from: 1.417724609375 to: 1.6846923828125 where: 19.666033617304176\n",
      "step 0.40045166015625 from: 1.6846923828125 to: 2.08514404296875 where: 15.816103342446143\n",
      "step -0.200225830078125 from: 2.08514404296875 to: 1.884918212890625 where: 18.793460693414172\n",
      "step -0.3003387451171875 from: 1.884918212890625 to: 1.5845794677734375 where: 15.173659655006716\n",
      "step 0.15016937255859375 from: 1.5845794677734375 to: 1.7347488403320312 where: 15.757271912160492\n",
      "step 0.22525405883789062 from: 1.7347488403320312 to: 1.9600028991699219 where: 15.594265298421385\n",
      "step -0.11262702941894531 from: 1.9600028991699219 to: 1.8473758697509766 where: 16.872489357652306\n",
      "step -0.16894054412841797 from: 1.8473758697509766 to: 1.6784353256225586 where: 15.24194425684903\n",
      "step -0.25341081619262695 from: 1.6784353256225586 to: 1.4250245094299316 where: 15.156721904881943\n",
      "step 0.12670540809631348 from: 1.4250245094299316 to: 1.5517299175262451 where: 16.40173574914711\n",
      "step 0.19005811214447021 from: 1.5517299175262451 to: 1.7417880296707153 where: 15.16697811340129\n",
      "step -0.09502905607223511 from: 1.7417880296707153 to: 1.6467589735984802 where: 15.746292100312214\n",
      "step -0.14254358410835266 from: 1.6467589735984802 to: 1.5042153894901276 where: 15.12680418009276\n",
      "step 0.07127179205417633 from: 1.5042153894901276 to: 1.575487181544304 where: 15.458561865062233\n",
      "step 0.1069076880812645 from: 1.575487181544304 to: 1.6823948696255684 where: 15.139684773211432\n",
      "step -0.05345384404063225 from: 1.6823948696255684 to: 1.6289410255849361 where: 15.345238878780819\n",
      "step -0.08018076606094837 from: 1.6289410255849361 to: 1.5487602595239878 where: 15.119908534012895\n",
      "step 0.040090383030474186 from: 1.5487602595239878 to: 1.588850642554462 where: 15.208333260519886\n",
      "1.588850642554462 29\n"
     ]
    }
   ],
   "source": [
    "def bbf(xin):\n",
    "    return 2*xin**2 + 16/xin\n",
    "\n",
    "# First define your step size:\n",
    "step = -0.5\n",
    "# Define your starting point:\n",
    "x0 = 5\n",
    "f0 = bbf(x0)\n",
    "print(f0)\n",
    "\n",
    "#Write your algorithm here:\n",
    "count=0\n",
    "while abs(step)>.05:\n",
    "    fn=bbf(x0+step)\n",
    "    if fn<f0:\n",
    "        step=step*1.5\n",
    "    else:\n",
    "        step=step*-.5\n",
    "    f0=fn\n",
    "    x0=x0+step\n",
    "    count=count+1\n",
    "    print('step',step,'from:',x0-step,'to:',x0,'where:',f0)\n",
    "print(x0,count)\n",
    "#Reminder of syntax:\n",
    "\n",
    "##While loop:\n",
    "#count = 0\n",
    "#while (count < 5):\n",
    "#    print(\"count =\", count)\n",
    "#    count = count + 1\n",
    "#print(\"goodbye\")\n",
    "\n",
    "##Reminder of syntax for:\n",
    "#count = 1\n",
    "#l = [1,2,3,4]\n",
    "#for item in l:\n",
    "#    count = count + item\n",
    "#    print(\"count\",count)\n",
    "#print('loop completed')\n",
    "\n",
    "##Reminder of syntax if:\n",
    "#temp = 38.\n",
    "#if temp > 40:\n",
    "#    print('Wear shorts')\n",
    "#else:\n",
    "#    print('Wear pants')"
   ]
  },
  {
   "cell_type": "markdown",
   "metadata": {},
   "source": [
    "### Approach 2: Using approximations:\n",
    "#### Important theorem (Weierstrass Approximation Theorem): \n",
    "The Weierstrass theorem states that if a function is continuous in an interval, then it can be perfectly approximated by a polynomial of high enough order. The higher the order of the polynomial, the better the approximation. \n",
    "\n",
    "**Important conditions of Weierstrass theorem:** The location of the points you collect as well as the type of polynomial you select to approximate the function with play a role towards the convergence towards a perfect approximation. In fact, Runge showed a counter example, where when using equidistant points and singe-term polynomials (i.e., only polynomials with terms: $x,x^2,x^3,...$, then the approximations actually DIVERGE from true function. This is known as the \"Runge phenomenon\" (https://en.wikipedia.org/wiki/Runge%27s_phenomenon)"
   ]
  },
  {
   "cell_type": "markdown",
   "metadata": {},
   "source": [
    "#### Let's go back to our example: \n",
    "Since we know it is convex, perhaps a quadratic approximation might be enough to approximate the function. How would we fit the quadratic approximation?\n",
    "\n",
    "##### Step 1: Collect at least 3 points: \n",
    "$x_1 = 1$\n",
    "$x_2 = 3$\n",
    "$x_3 = 5$"
   ]
  },
  {
   "cell_type": "code",
   "execution_count": 6,
   "metadata": {},
   "outputs": [
    {
     "name": "stdout",
     "output_type": "stream",
     "text": [
      "18.0 23.333333333333332 53.2\n"
     ]
    }
   ],
   "source": [
    "x1=1\n",
    "x2=3\n",
    "x3=5\n",
    "f1=bbf(x1)\n",
    "f2=bbf(x2)\n",
    "f3=bbf(x3)\n",
    "print(f1,f2,f3)"
   ]
  },
  {
   "cell_type": "markdown",
   "metadata": {},
   "source": [
    "#### Step 2: Build the quadratic approximation:\n",
    "$q(x) = a_0 + a_1(x-x_1)+a_2(x-x_1)(x-x_2)$\n",
    "Since we are trying to find $a_0,a_1,a_2$ to best approximate the function, we need to interpolate the points.\n",
    "\n",
    "**IMPORTANT: We have 3 points, 3 parameters --> CLOSED FORM SOLUTION! **\n",
    "\n",
    "$q(x_1) = a_0 = f(x_1)$\n",
    "\n",
    "$q(x_2) = f(x_1) + a_1(x_2 - x_1) = f(x_2)$\n",
    "\n",
    "$q(x_3) = f(x_1) + \\frac{f(x_2)-f(x_1)}{x_2-x_1} + a_2(x_3-x_1)(x_3-x_2) = f(x_3)$\n",
    "\n",
    "**From the above system of equations we can calculate the three parameters explicitly**"
   ]
  },
  {
   "cell_type": "code",
   "execution_count": 7,
   "metadata": {},
   "outputs": [
    {
     "name": "stdout",
     "output_type": "stream",
     "text": [
      "18.0 2.666666666666666 3.0666666666666673\n"
     ]
    }
   ],
   "source": [
    "a0=f1\n",
    "a1=(f2-f1)/(x2-x1)\n",
    "a2=(1/(x3-x2))*(((f3-f1)/(x3-x1))-((f2-f1)/(x2-x1)))\n",
    "print(a0,a1,a2)"
   ]
  },
  {
   "cell_type": "markdown",
   "metadata": {},
   "source": [
    "Then all we need to do is find the stationary point of $q(x)$\n",
    "If we set the derivative of $q(x)=0$, we get the stationary point of 1.565"
   ]
  },
  {
   "cell_type": "code",
   "execution_count": 8,
   "metadata": {},
   "outputs": [
    {
     "name": "stdout",
     "output_type": "stream",
     "text": [
      "relative err= 1.411112511024315\n"
     ]
    }
   ],
   "source": [
    "print(\"relative err=\",(100*(1.5874-1.565)/1.5874))"
   ]
  },
  {
   "cell_type": "markdown",
   "metadata": {},
   "source": [
    "We found the optimum with a 1.4% relative error!!!"
   ]
  },
  {
   "cell_type": "markdown",
   "metadata": {},
   "source": [
    "# Derivative-Free Optimization using \"surrogates\" \n",
    "\n",
    "## Reminders from last lectures:\n",
    "\n",
    "1. We talked about the basics of using **only samples** to locate stationary point. The three things needed are:\n",
    " - Initial Point\n",
    " - Initial Step size\n",
    " - Mechanism to move towards \"descent\" or \"minimum\" directions, while driving the step-size to small value (And remaining within feasible region!).\n",
    " \n",
    "2. The alternative is to collect more than 1 data point at a time, and use those to fit functions. Then the functions are used as **\"surrogates\"**, which are optimized using gradient-based solvers.\n",
    "\n",
    "\n",
    "Let's pick up where we left off:"
   ]
  },
  {
   "cell_type": "code",
   "execution_count": 9,
   "metadata": {},
   "outputs": [
    {
     "data": {
      "image/png": "[encoded data removed]",
      "text/plain": [
       "<Figure size 432x288 with 1 Axes>"
      ]
     },
     "metadata": {
      "needs_background": "light"
     },
     "output_type": "display_data"
    }
   ],
   "source": [
    "%matplotlib inline\n",
    "from pylab import *\n",
    "import numpy as np\n",
    "\n",
    "def bbf(xin):\n",
    "    return 2*xin**2 + 16/xin \n",
    "\n",
    "x = linspace(1,5,50)\n",
    "y = bbf(x)\n",
    "plot(x,y)\n",
    "xlabel('x')\n",
    "ylabel('fx')\n",
    "show()"
   ]
  },
  {
   "cell_type": "markdown",
   "metadata": {},
   "source": [
    "We used three points to fit a quadratic function to this \"unknown\" $f(x)$:\n",
    "$x_1 = 1$\n",
    "$x_2 = 3$\n",
    "$x_3 = 5$"
   ]
  },
  {
   "cell_type": "code",
   "execution_count": 10,
   "metadata": {},
   "outputs": [
    {
     "name": "stdout",
     "output_type": "stream",
     "text": [
      "18.756129062891265 2.979917538306177 2.8994070416175353\n"
     ]
    },
    {
     "data": {
      "image/png": "[encoded data removed]",
      "text/plain": [
       "<Figure size 432x288 with 1 Axes>"
      ]
     },
     "metadata": {
      "needs_background": "light"
     },
     "output_type": "display_data"
    }
   ],
   "source": [
    "x1=1\n",
    "x2=3\n",
    "x3=5\n",
    "f1=bbf(x1)+ np.random.uniform(0.1,2)\n",
    "f2=bbf(x2)+ np.random.uniform(0.1,2)\n",
    "f3=bbf(x3)+ np.random.uniform(0.1,2)\n",
    "a0=f1\n",
    "a1=(f2-f1)/(x2-x1)\n",
    "a2=(1/(x3-x2))*(((f3-f1)/(x3-x1))-((f2-f1)/(x2-x1)))\n",
    "print(a0,a1,a2)\n",
    "\n",
    "def quad_surr(xin):\n",
    "    return a0 + a1*(xin-x1) + a2*(xin-x1)*(xin-x2)\n",
    "\n",
    "#PLOT THE SURROGATE APPROXIMATION. IS IT A GOOD APPROXIMATION????\n",
    "#x = linspace(1,5,50)\n",
    "y1 = bbf(x)\n",
    "y2 = quad_surr(x)\n",
    "fig, ax = subplots()\n",
    "ax.plot(x,y1,'b',label=\"true\")\n",
    "ax.plot(x,y2,'r',label=\"surrogate\")\n",
    "ax.legend(loc=2)\n",
    "xlabel('x')\n",
    "ylabel('fx')\n",
    "show()"
   ]
  },
  {
   "cell_type": "markdown",
   "metadata": {},
   "source": [
    "You should verify that this approximation is good, but not perfect. So, I can now use *Ipopt* in Pyomo to optimize this function:"
   ]
  },
  {
   "cell_type": "code",
   "execution_count": 11,
   "metadata": {},
   "outputs": [
    {
     "name": "stdout",
     "output_type": "stream",
     "text": [
      "WARNING: Could not locate the 'ipopt' executable, which is required for solver\n",
      "    ipopt\n"
     ]
    },
    {
     "ename": "ApplicationError",
     "evalue": "No executable found for solver 'ipopt'",
     "output_type": "error",
     "traceback": [
      "\u001b[1;31m---------------------------------------------------------------------------\u001b[0m",
      "\u001b[1;31mApplicationError\u001b[0m                          Traceback (most recent call last)",
      "\u001b[1;32m<ipython-input-11-69cab863ff35>\u001b[0m in \u001b[0;36m<module>\u001b[1;34m\u001b[0m\n\u001b[0;32m     10\u001b[0m \u001b[1;33m\u001b[0m\u001b[0m\n\u001b[0;32m     11\u001b[0m \u001b[0msolver\u001b[0m \u001b[1;33m=\u001b[0m \u001b[0mSolverFactory\u001b[0m\u001b[1;33m(\u001b[0m\u001b[1;34m'ipopt'\u001b[0m\u001b[1;33m)\u001b[0m\u001b[1;33m\u001b[0m\u001b[1;33m\u001b[0m\u001b[0m\n\u001b[1;32m---> 12\u001b[1;33m \u001b[0msolver\u001b[0m\u001b[1;33m.\u001b[0m\u001b[0msolve\u001b[0m\u001b[1;33m(\u001b[0m\u001b[0mmodel\u001b[0m\u001b[1;33m)\u001b[0m\u001b[1;33m\u001b[0m\u001b[1;33m\u001b[0m\u001b[0m\n\u001b[0m\u001b[0;32m     13\u001b[0m \u001b[0mmodel\u001b[0m\u001b[1;33m.\u001b[0m\u001b[0mpprint\u001b[0m\u001b[1;33m(\u001b[0m\u001b[1;33m)\u001b[0m\u001b[1;33m\u001b[0m\u001b[1;33m\u001b[0m\u001b[0m\n",
      "\u001b[1;32m~\\Anaconda3\\lib\\site-packages\\pyomo\\opt\\base\\solvers.py\u001b[0m in \u001b[0;36msolve\u001b[1;34m(self, *args, **kwds)\u001b[0m\n\u001b[0;32m    512\u001b[0m         \u001b[1;34m\"\"\" Solve the problem \"\"\"\u001b[0m\u001b[1;33m\u001b[0m\u001b[1;33m\u001b[0m\u001b[0m\n\u001b[0;32m    513\u001b[0m \u001b[1;33m\u001b[0m\u001b[0m\n\u001b[1;32m--> 514\u001b[1;33m         \u001b[0mself\u001b[0m\u001b[1;33m.\u001b[0m\u001b[0mavailable\u001b[0m\u001b[1;33m(\u001b[0m\u001b[0mexception_flag\u001b[0m\u001b[1;33m=\u001b[0m\u001b[1;32mTrue\u001b[0m\u001b[1;33m)\u001b[0m\u001b[1;33m\u001b[0m\u001b[1;33m\u001b[0m\u001b[0m\n\u001b[0m\u001b[0;32m    515\u001b[0m         \u001b[1;31m#\u001b[0m\u001b[1;33m\u001b[0m\u001b[1;33m\u001b[0m\u001b[1;33m\u001b[0m\u001b[0m\n\u001b[0;32m    516\u001b[0m         \u001b[1;31m# If the inputs are models, then validate that they have been\u001b[0m\u001b[1;33m\u001b[0m\u001b[1;33m\u001b[0m\u001b[1;33m\u001b[0m\u001b[0m\n",
      "\u001b[1;32m~\\Anaconda3\\lib\\site-packages\\pyomo\\opt\\solver\\shellcmd.py\u001b[0m in \u001b[0;36mavailable\u001b[1;34m(self, exception_flag)\u001b[0m\n\u001b[0;32m    115\u001b[0m             \u001b[1;32mif\u001b[0m \u001b[0mexception_flag\u001b[0m\u001b[1;33m:\u001b[0m\u001b[1;33m\u001b[0m\u001b[1;33m\u001b[0m\u001b[0m\n\u001b[0;32m    116\u001b[0m                 \u001b[0mmsg\u001b[0m \u001b[1;33m=\u001b[0m \u001b[1;34m\"No executable found for solver '%s'\"\u001b[0m\u001b[1;33m\u001b[0m\u001b[1;33m\u001b[0m\u001b[0m\n\u001b[1;32m--> 117\u001b[1;33m                 \u001b[1;32mraise\u001b[0m \u001b[0mApplicationError\u001b[0m\u001b[1;33m(\u001b[0m\u001b[0mmsg\u001b[0m \u001b[1;33m%\u001b[0m \u001b[0mself\u001b[0m\u001b[1;33m.\u001b[0m\u001b[0mname\u001b[0m\u001b[1;33m)\u001b[0m\u001b[1;33m\u001b[0m\u001b[1;33m\u001b[0m\u001b[0m\n\u001b[0m\u001b[0;32m    118\u001b[0m             \u001b[1;32mreturn\u001b[0m \u001b[1;32mFalse\u001b[0m\u001b[1;33m\u001b[0m\u001b[1;33m\u001b[0m\u001b[0m\n\u001b[0;32m    119\u001b[0m         \u001b[1;32mreturn\u001b[0m \u001b[1;32mTrue\u001b[0m\u001b[1;33m\u001b[0m\u001b[1;33m\u001b[0m\u001b[0m\n",
      "\u001b[1;31mApplicationError\u001b[0m: No executable found for solver 'ipopt'"
     ]
    }
   ],
   "source": [
    "from pyomo.environ import *\n",
    "\n",
    "model = ConcreteModel()\n",
    "model.x = Var(within=NonNegativeReals)\n",
    "model.N = [1,2,3]\n",
    "model.a = {1:a0,2:a1,3:a2}\n",
    "model.fx = {1:x1,2:x2,3:x3}\n",
    "\n",
    "model.obj = Objective(expr=model.a[1]+model.a[2]*(model.x-model.fx[1]) + model.a[3]*(model.x-model.fx[1])*(model.x-model.fx[2]))\n",
    "\n",
    "solver = SolverFactory('ipopt')\n",
    "solver.solve(model)\n",
    "model.pprint()"
   ]
  },
  {
   "cell_type": "markdown",
   "metadata": {},
   "source": [
    "We found an optimum that is very close to the actual optimum, but this is due to two reasons:\n",
    "1. The approximation was very good <br>\n",
    "2. The approximation was a nice quadratic model that Ipopt can optimize globally <br>\n",
    "\n",
    "Now you should start to 'foresee' the issues of fitting models. The quality of model-based optimization algorithms depend on:\n",
    "\n",
    "1. the quality of the fit,\n",
    "2. whether the fit is convex or not so that we can actually optimize it\n",
    "\n",
    "**TIP: Remember these when choosing what you are going to do for your projects!!!**"
   ]
  },
  {
   "cell_type": "markdown",
   "metadata": {},
   "source": [
    "### Fitting \"local\" models for optimization:\n",
    "Imagine now the function we wanted to minimize looked like this:\n",
    "\n",
    "$f(x)=x^2 + 20sin(2x)$\n",
    "\n",
    "$1 \\le x \\le 5$\n",
    "\n",
    "**IN CLASS EXERCISE: Take the same thee points and use the same approach to fit a quadratic model to this function. Plot the two to compare: **"
   ]
  },
  {
   "cell_type": "code",
   "execution_count": 12,
   "metadata": {},
   "outputs": [
    {
     "name": "stdout",
     "output_type": "stream",
     "text": [
      "18.756129062891265 2.979917538306177 2.8994070416175353\n"
     ]
    },
    {
     "data": {
      "image/png": "[encoded data removed]",
      "text/plain": [
       "<Figure size 432x288 with 1 Axes>"
      ]
     },
     "metadata": {
      "needs_background": "light"
     },
     "output_type": "display_data"
    }
   ],
   "source": [
    "from numpy import sin\n",
    "\n",
    "def bbf2(xin):\n",
    "    return xin**2 + 20*sin(2*xin)\n",
    "\n",
    "x1=1\n",
    "x2=3\n",
    "x3=5\n",
    "f1=bbf2(x1)\n",
    "f2=bbf2(x2)\n",
    "f3=bbf2(x3)\n",
    "a20=f1\n",
    "a21=(f2-f1)/(x2-x1)\n",
    "a22=(1/(x3-x2))*(((f3-f1)/(x3-x1))-((f2-f1)/(x2-x1)))\n",
    "print(a0,a1,a2)\n",
    "\n",
    "def quad_surr2(xin):\n",
    "    return a20 + a21*(xin-x1) + a22*(xin-x1)*(xin-x2)\n",
    "\n",
    "#PLOT THE SURROGATE APPROXIMATION. IS IT A GOOD APPROXIMATION????\n",
    "#x = linspace(1,5,50)\n",
    "y1 = bbf2(x)\n",
    "y2 = quad_surr2(x)\n",
    "fig, ax = subplots()\n",
    "ax.plot(x,y1,'b',label=\"true\")\n",
    "ax.plot(x,y2,'r',label=\"surrogate\")\n",
    "ax.legend(loc=2)\n",
    "xlabel('x')\n",
    "ylabel('fx')\n",
    "show()"
   ]
  },
  {
   "cell_type": "markdown",
   "metadata": {},
   "source": [
    "**You must have observed that even if the fit, perfectly \"fits\" the data at the three points, it is a very bad approximation otherwise. As a result:**\n",
    " -  *If we simply optimized this function, we would get a very 'wrong' approximate objective.*\n",
    " \n",
    "**How can we fix this? ANY IDEAS???**\n",
    "\n",
    " - Idea 1: Add samples, check errors, refit.\n",
    " - Idea 2: Use different type of surrogate function.\n",
    " - One more idea is to fit \"local\" models. No matter how \"multimodal\" a function is, if you break the search space into pieces, each piece will behave either like a \"quadratic-type\" function or even a \"linear-type\" function.\n",
    "**This is the concept \"local-search\" \"model-based\" derivative-free algorithms are based on. They are also called *\"TRUST-REGION\"* methods!**\n",
    " \n",
    "#### Powell's Successive Quadratic Estimation Method:\n",
    "Steps of the algorithm:\n",
    "\n",
    "Let $x_1$ be the initial point and $dx$ be the step size. <br>\n",
    "\n",
    "**STEP 1:** Compute $x_2 = x_1 + dx$ <br>\n",
    "\n",
    "**STEP 2:** Evaluate $f(x_1), f(x_2)$ <br>\n",
    "\n",
    "**STEP 3:** If $f(x_1) \\gt f(x_2)$, let $x_3=x_1+2dx$ <br>\n",
    "            If $f(x_1) \\le f(x_2)$, let $x_3=x_1-dx$\n",
    "\n",
    "**STEP 4:** Evaluate $f(x_3)$ and find minimum so far: $F_{min} = min[f(x_1),f(x_2),f(x_3)]$. Also $X_{min} =$ point corresponding to $F_{min}$. <br> \n",
    " \n",
    "**STEP 5:** Use points $x_1,x_2,x_3$ to fit a quadratic function. Optimize it, or calculate the stationary point analytically, to find $x_{qmin}$, which corresponds to the minimum of the quadratic fit. <br>\n",
    "\n",
    "**STEP 6:** Check for termination/convergence:\n",
    " 1. Is the distance between $F_{min}$ and $f(x_{qmin})$ very small?\n",
    " 2. Is the distance between $X_{min}$ and $x_{qmin}$ very small?\n",
    "If both 1 and 2 are satisfied, terminate. Otherwise go to Step 7.<br>\n",
    "\n",
    "**STEP 7:** Save the currently best point ($X_{min}$  or  $x_{qmin}$), and the two points bracketing the best point. Go to Step 4.<br>\n",
    "\n",
    "**END OF ALGORITHM**"
   ]
  },
  {
   "cell_type": "markdown",
   "metadata": {},
   "source": [
    "# Direct-Search Optimization in multiple dimensions:\n",
    "\n",
    "### A bit of history: \n",
    "*From the paper: Kolda, Lewis, Torczon, Optimization by Direct-Search, SIAM Review, 2003:* <br>\n",
    "\n",
    "...Enrico Fermi and Nicholas Metropolis used one of the first digital computers,the Los Alamos Maniac, to determine which values of certain theoretical parameters (phase shifts) best fit experimental data (scattering cross sections). They varied one theoretical parameter at a time by steps of the same magnitude, and when no such increase or decrease in any one\n",
    "parameter further improved the fit to the experimental data, they halved the step size and repeated the process until the steps were deemed sufficiently small. Their simple procedure was slow but sure, and several of us used it on the Avidac computer at the Argonne National Laboratory for adjusting six theoretical parameters to fit the pion-proton scattering data\n",
    "we had gathered using the University of Chicago **synchrocyclotron**.... <br> \n",
    "\n",
    "The first simplest direct-search algorithm in multiple dimensions, is called **\"COMPASS-SEARCH\"**. It is slow but sure, if there is no significant noise in the data. So if your problem is relatively low dimension ~2-5 variables and it does not take a long time to get one sample, this can work quite well. <br>\n",
    "\n",
    "**Below is a figure from the same paper, showing how the compass algorithm works on solving the following problem:**\n",
    "\n",
    "$min$  $f(x_1,x_2)$ = $|(3-2x_1)x_1-2x_2+1|^{(7/3)}$ + $|(3-2x_2)x_2-x_1+1|^{(7/3)}$"
   ]
  },
  {
   "cell_type": "markdown",
   "metadata": {},
   "source": [
    "<img src=\"direct_search.tif\" width=\"1000\" />"
   ]
  },
  {
   "cell_type": "markdown",
   "metadata": {},
   "source": [
    "## Optimization Algorithms in scipy package:\n",
    "\n",
    " - So far we have talked about optimization in **Pyomo**. Pyomo is a sophisticated package, specifically designed to solve problems with advanced derivative-based optimization solvers. <br>\n",
    " - There are other sources of optimization codes, within the scipy package and also many user implementations that are shared on github. <br>\n",
    " - How do I know what to use? <br>\n",
    "     - If you want to use gradient-based solvers, use Pyomo solvers that you already have access to.\n",
    "     - If you need to solve large MILP and MINLP problems (where the nonlinearity is only quadratic and bilinear terms), use \"GUROBI\". (You can get free academic license using your gatech email).\n",
    "     - Some direct-search solvers are also available via *scipy* package.\n",
    "     - Always have some idea of what your model is, and look into the characteristics of the algorithm you are about to use to make informed decisions!!!\n",
    "     - There are also github, open-source scripts that are reproductions of algorithms you might want to use. Generally, be mindful of what you use and the extent of which you trust it. A lot of codes out there are reliable, but don't automatically assume they are 100% \"bug-free\". Developers want you to identify those and report back to them. <br>\n",
    " \n",
    " \n",
    "### Scipy.optimize: \n",
    " - What optimization solvers can be found in the *scipy.optimize* package? <br>"
   ]
  },
  {
   "cell_type": "code",
   "execution_count": null,
   "metadata": {},
   "outputs": [],
   "source": [
    "from pylab import *\n",
    "from scipy.optimize import minimize\n",
    "\n",
    "def rosen(x):\n",
    "    \"\"\"The Rosenbrock function\"\"\"\n",
    "    return sum(100.0*(x[1:]-x[:-1]**2.0)**2.0 + (1-x[:-1])**2.0)\n",
    "\n",
    "x0 = np.array([1.3, 0.7])\n",
    "res = minimize(rosen, x0, method='nelder-mead',options={'xtol': 1e-8, 'disp': True})\n",
    "print(res.x)\n"
   ]
  },
  {
   "cell_type": "markdown",
   "metadata": {},
   "source": [
    "## Positive spanning sets and Positive Basis:\n",
    "\n",
    "**ASSUMPTIONS:** <br>\n",
    "1. Minimizing a function\n",
    "\n",
    "**Direct - search**: <br>\n",
    "\n",
    " - All DIRECT-SEARCH algorithms depend on the idea that when the algorithm samples on the \"pattern\" (i.e., north, south, west, east), if there exists a \"descent direction\", they will definitely find it.\n",
    " - If that property does not hold, then none of them would work, since there would be a chance they would miss a stationary point.\n",
    " - How is that ensured? --> By using **\"positive basis\"** sets:\n",
    " "
   ]
  },
  {
   "cell_type": "markdown",
   "metadata": {},
   "source": [
    "**DEFINITION 1:**\n",
    "\n",
    "A positive linear span of a set of vectors $[v_1, v_2,...,v_r]$ in $\\mathbb{R}^n$ is the convex cone:\n",
    "\n",
    "${v \\in \\mathbb{R}^n: v=a_1v_1+a_2v_2 + .. + a_rv_r, a_i \\ge 0, i=1,..,r}$ <br>"
   ]
  },
  {
   "cell_type": "markdown",
   "metadata": {},
   "source": [
    "**DEFINITION 2:**\n",
    "\n",
    "A positive spanning set in $\\mathbb{R}^n$  is a set of vectors whose positive span is $\\mathbb{R}^n$."
   ]
  },
  {
   "cell_type": "markdown",
   "metadata": {},
   "source": [
    "**DEFINITION 3:**\n",
    "\n",
    "The set of vectors $[v_1, v_2,...,v_r]$ is positively *dependent* if one of the vectors is a positive combination of others. Otherwise, the set is known as positively *independent*."
   ]
  },
  {
   "cell_type": "markdown",
   "metadata": {},
   "source": [
    "**DEFINITION 4:**\n",
    "\n",
    "A **Positive Basis** in $\\mathbb{R}^n$ is a positively independent set whose positive span is $\\mathbb{R}^n$.\n"
   ]
  },
  {
   "cell_type": "markdown",
   "metadata": {},
   "source": [
    "**We know the following about positive basis sets:**\n",
    "\n",
    "1. A positive basis cannot contain more than $2n$ elements and no less than $n+1$ elements, where $n$ is the dimension of the problem.\n",
    "\n",
    "2. A positive basis with $2n$ elements is called a maximal positive basis.\n",
    "\n",
    "3. A positive basis with $n+1$ elements is called a minimal positive basis."
   ]
  },
  {
   "cell_type": "markdown",
   "metadata": {},
   "source": [
    "**EXAMPLE:**\n",
    "\n",
    "For $n=2$ (or else in $\\mathbb{R}^2$ which means in the 2-Dimensional continuous space of real numbers), a maximal positive basis set is:\n",
    "\n",
    "$D_{max} = \\left( \\begin{array}{cc} 1 & 0 & -1 & 0 \\\\\n",
    "0 & 1 & 0 & -1 \\end{array} \\right) $\n",
    "\n",
    "For $n=2$, a minimal positive basis set is:\n",
    "\n",
    "$D_{min} = \\left( \\begin{array}{cc} 1 & 0 & \\frac{-\\sqrt{2}}{2}  \\\\\n",
    "0 & 1 & \\frac{-\\sqrt{2}}{2} \\end{array} \\right) $ \n",
    "\n",
    "\n",
    "For $n=2$, if we add the following vector to the minimal positive basis above:\n",
    "$D = \\left( \\begin{array}{cc} 1 & 0 & \\frac{-\\sqrt{2}}{2}  & 0\\\\\n",
    "0 & 1 & \\frac{-\\sqrt{2}}{2} & -1\\end{array} \\right) $ \n",
    "\n",
    "We have created a positive spanning set that is not a positive basis. Because the vectors are not independent.\n",
    "\n",
    "**Can you figure out why???**"
   ]
  },
  {
   "cell_type": "code",
   "execution_count": 13,
   "metadata": {},
   "outputs": [
    {
     "data": {
      "image/png": "[encoded data removed]",
      "text/plain": [
       "<Figure size 432x288 with 1 Axes>"
      ]
     },
     "metadata": {
      "needs_background": "light"
     },
     "output_type": "display_data"
    },
    {
     "data": {
      "image/png": "[encoded data removed]",
      "text/plain": [
       "<Figure size 432x288 with 1 Axes>"
      ]
     },
     "metadata": {
      "needs_background": "light"
     },
     "output_type": "display_data"
    },
    {
     "data": {
      "image/png": "[encoded data removed]",
      "text/plain": [
       "<Figure size 432x288 with 1 Axes>"
      ]
     },
     "metadata": {
      "needs_background": "light"
     },
     "output_type": "display_data"
    }
   ],
   "source": [
    "%matplotlib inline\n",
    "from pylab import *\n",
    "import numpy as np\n",
    "\n",
    "x = linspace(0,1,10)\n",
    "x1 = linspace(0,sqrt(2)/2,10)\n",
    "y3 = x*0\n",
    "y1 = x*-(sqrt(2)/2)\n",
    "fig1, ax1 = subplots()\n",
    "ax1.plot(x,y3,'b')\n",
    "ax1.plot(-x,y3,'r')\n",
    "ax1.plot(y3,x,'g')\n",
    "ax1.plot(y3,-x,'m')\n",
    "title('maximal positive basis')\n",
    "show()\n",
    "\n",
    "fig2, ax2 = subplots()\n",
    "ax2.plot(x,y3,'b')\n",
    "ax2.plot(y3,x,'g')\n",
    "ax2.plot(y1,-x1,'r')\n",
    "title('minimal positive basis')\n",
    "show()\n",
    "\n",
    "fig3, ax3 = subplots()\n",
    "ax3.plot(x,y3,'b')\n",
    "ax3.plot(y3,x,'g')\n",
    "ax3.plot(y1,-x1,'r')\n",
    "ax3.plot(y3,-x,'m')\n",
    "title('not a positive basis')\n",
    "show()"
   ]
  },
  {
   "cell_type": "markdown",
   "metadata": {},
   "source": [
    "**WHY DO WE CARE ABOUT ALL ABOVE?**\n",
    "1. There is a lot of theory accompanying direct-search algorithms (the simple ideas of moving north,south,west,east) have a theoretical meaning.\n",
    "\n",
    "2. If we collect data in \"positive basis\" sets, then there are theorems that guarantee:\n",
    " - The \"descent\" direction can be found.\n",
    " - If we use this data to fit surrogate models (i.e., linear or quadratic), we will not have to deal with problems of inverting singular matrices.\n",
    " - If we use a minimal positive basis, we basically sample the least possible, to guarantee that \"descent\" directions are found when they exist.\n"
   ]
  },
  {
   "cell_type": "markdown",
   "metadata": {},
   "source": [
    "## Simplex:\n",
    "\n",
    "The concept of a simplex is related to the **minimal positive bases** that we defined above, and the concept of the **convex hull**.\n",
    "\n",
    "**DEFINITION: Convex Hull:**\n",
    "A *convex hull* of a set of points $X$, is the smallest *Convex Set* that contains $X$. It is also called a convex envelope.\n",
    "\n",
    "<img src=\"258px-ConvexHull.svg.png\" width=\"500\" />"
   ]
  },
  {
   "cell_type": "markdown",
   "metadata": {},
   "source": [
    "**DEFINITION: Simplex:**\n",
    "A simplex is the convex hull of a given set. For example:\n",
    " - a simplex of dimension 0 is a point,\n",
    " - a simplex of dimension 1 is a line segment,\n",
    " - a simplex of dimension 2 is a triangle,\n",
    " - a simplex of dimension 3 is a tetrahedron,"
   ]
  },
  {
   "cell_type": "markdown",
   "metadata": {},
   "source": [
    "## Nelder - Mead algorithm:\n",
    "\n",
    "1. Developed in 1965\n",
    "2. Original publication cited *27983* times (google data)\n",
    "3. The method uses a \"simplex\" but do not confuse this with the LP \"Simplex\" method\n",
    "\n",
    "**Algorithm:**\n",
    "\n",
    " - The algorithm searches over points that belong on a simplex. \n",
    " - The main search strategy of the algorithm is to identify the **worse** vertex or point (one with highest value) and modify it.\n",
    " - Rules exist on how to replace the worse vertex, and whether to expand the search or contract the search.\n",
    " - Typically, reflective steps are taken, as shown below:\n",
    " \n",
    " \n",
    "<img src=\"nm.png\" width=\"500\" />"
   ]
  },
  {
   "cell_type": "markdown",
   "metadata": {},
   "source": [
    "**Does it always work???**\n",
    " - No, and counter-examples have been shown:\n",
    " - Issues that can arise are cycling between vertices if the right contractions/expansions/shrinkage steps are not taken.\n",
    " - Other trust-region algorithms that ensure satisfying the use of positive basis sets, suffer from this problem less.\n",
    " \n",
    "<img src=\"Nelder-Mead_Rosenbrock.gif\" width=\"500\" />"
   ]
  },
  {
   "cell_type": "code",
   "execution_count": 14,
   "metadata": {},
   "outputs": [
    {
     "name": "stdout",
     "output_type": "stream",
     "text": [
      "Optimization terminated successfully.\n",
      "         Current function value: 0.000000\n",
      "         Iterations: 79\n",
      "         Function evaluations: 150\n",
      "[1. 1.]\n"
     ]
    }
   ],
   "source": [
    "## Python implementation of N-M algorithm.\n",
    "from pylab import *\n",
    "from scipy.optimize import minimize\n",
    "\n",
    "def rosen(x):\n",
    "    \"\"\"The Rosenbrock function\"\"\"\n",
    "    return sum(100.0*(x[1:]-x[:-1]**2.0)**2.0 + (1-x[:-1])**2.0)\n",
    "\n",
    "x0 = np.array([1.3, 0.7])\n",
    "res = minimize(rosen, x0, method='nelder-mead',options={'xtol': 1e-8, 'disp': True})\n",
    "print(res.x)"
   ]
  },
  {
   "cell_type": "markdown",
   "metadata": {},
   "source": [
    "**State of the art software using direct-search algorithms:**\n",
    "The software **NOMAD**, developed by a group in Canada is a state-of-the-art direct-search algorithm that has capabilities of doing local, direct-search with and without constraints, with and without the use of surrogates."
   ]
  }
 ],
 "metadata": {
  "kernelspec": {
   "display_name": "Python 3",
   "language": "python",
   "name": "python3"
  },
  "language_info": {
   "codemirror_mode": {
    "name": "ipython",
    "version": 3
   },
   "file_extension": ".py",
   "mimetype": "text/x-python",
   "name": "python",
   "nbconvert_exporter": "python",
   "pygments_lexer": "ipython3",
   "version": "3.8.5"
  }
 },
 "nbformat": 4,
 "nbformat_minor": 2
}
