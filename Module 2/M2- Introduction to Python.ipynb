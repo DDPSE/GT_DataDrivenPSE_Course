{
 "cells": [
  {
   "cell_type": "markdown",
   "metadata": {},
   "source": [
    "# Jupyter: What is this file?\n",
    "\n",
    "**Before we start a Primer/Reminder of Python, we'll introduce Jupyter Notebooks:**\n",
    "\n",
    "- This file is a Jupyter notebook. \n",
    "- In this class we will use these files when solving interactive problems in Python. \n",
    "- The Jupyter application is incuded in the Anaconda installation that you must have installed on your laptop by now. \n",
    "\n",
    "- Jupyter notebooks allow you to read text, click on links, and modify and run code interactively all at the same time. \n",
    "- If you are interested in modifying Jupyter notebooks, and even creating your own in the future, there are tons of resources (turorials and videos) online to help. \n",
    "- You can also use these provided files as a way of teaching yourself how to edit and eventually create your own.\n",
    "\n",
    "**Below is some basic info:**\n",
    "\n",
    "The most commonly used types of entries you will make inculde:\n",
    "- Markdown: (this box) Includes text and notes, look up available resources for formatting (e.g., how to go to new line, how to insert equation, how to write in bold, insert bullet points etc)\n",
    "- Code: Python code \n",
    "- Double-click on each \"box\" to see the code/editable text.\n",
    "- Click on \"Run\" to transform the code into \"final product\". This should make the Markdown look like a document and run code and display results underneath. \n",
    "\n",
    "**You must learn how to use Jupyter notebooks because our exams will be in the form of Jupyter notebooks. It will also be very convenient for you and us to work on homework assignments and the class project in Jupyter.**\n"
   ]
  },
  {
   "cell_type": "markdown",
   "metadata": {},
   "source": [
    "# What is Python and its main differences to Matlab?\n",
    "*These notes are built upon material from:* https://github.com/jrjohansson/scientific-python-lectures*\n",
    "\n",
    "Python is a modern, free, general-purpose high-level programming language. Python is used a lot for data analysis and its usage is growing rapidly.\n",
    "\n",
    "Two resources contain some discussion on the differences between Matlab and Python: \n",
    "1. [Python versus Matlab](http://www.pyzo.org/python_vs_matlab.html)\n",
    "2. [Overview of differences between Matlab and Python](https://bastibe.de/2013-01-20-a-python-primer-for-matlab-users.html)\n",
    "\n",
    "**Users and developers are finding Python to have certain advantages, such as:**\n",
    "-  Flexibility, it's free and open source, large community that shares material\n",
    "\n",
    "**Of course Matlab still has some advantages over Python:**\n",
    "-  Specialized toolboxes (i.e., simulink), handling of matrices, speed, handling of new versions is less of an issue, user-friendly interface.\n",
    "\n",
    "**Python \"Packages\":**\n",
    "These extend the functionality in Python. Similar to \"toolboxes\" in Matlab. In this class, we will use some of the following:\n",
    "-  numpy (matrix operations)\n",
    "-  scipy (scientific algorithms)\n",
    "-  matplotlib (plotting)\n",
    "-  pyomo (optimization)\n",
    "-  scikit-learn (machine learning)\n",
    "\n",
    "**Anaconda (Conda):**\n",
    "Managing packages and versions is one of the main challenges with python. (i.e., if a package is built upon a different version, it might not work in a new version). Platforms like Anaconda are cross-platform installation packages of Python, that aim to make this a bit easier for you. Please follow the instructions on the provided instructions file to download everything you need to use in this class.\n",
    "\n",
    "**Graphical User Interface (Spyder):**\n",
    "With the Anaconda installation, you have access to an interface of Python, that is more user-friendly than writing scripts and running code on the console or terminal. If you open Spyder, you will notice it has a default setup:\n",
    "-  **On the left**, a temporary file is created (**temp.py**). This is where you will start writing a function, that you can store as a .py file to run/execute later.\n",
    "-  On the **bottom right**, you have the **Console**. Here you can interactively execute commands, like the ones we will go over today.\n",
    "\n",
    "\n",
    "### Now let's run our first Python commands and create our first Python files:\n",
    "\n",
    "*Step 1: Open Spyder and type the following examples in your console for now to reproduce the results in this file:*\n"
   ]
  },
  {
   "cell_type": "code",
   "execution_count": 1,
   "metadata": {},
   "outputs": [
    {
     "name": "stdout",
     "output_type": "stream",
     "text": [
      "10\n",
      "<class 'int'>\n",
      "1.0\n",
      "<class 'float'>\n",
      "11.0\n"
     ]
    }
   ],
   "source": [
    "a = 10 #no semicolon is needed at end of line!\n",
    "print(a)\n",
    "print(type(a))\n",
    "b = 1.\n",
    "print(b)\n",
    "print(type(b))\n",
    "c=a+b\n",
    "print(c)"
   ]
  },
  {
   "cell_type": "code",
   "execution_count": 2,
   "metadata": {},
   "outputs": [
    {
     "name": "stdout",
     "output_type": "stream",
     "text": [
      "hello\n",
      "<class 'str'>\n"
     ]
    },
    {
     "ename": "TypeError",
     "evalue": "unsupported operand type(s) for +: 'float' and 'str'",
     "output_type": "error",
     "traceback": [
      "\u001b[1;31m---------------------------------------------------------------------------\u001b[0m",
      "\u001b[1;31mTypeError\u001b[0m                                 Traceback (most recent call last)",
      "\u001b[1;32m<ipython-input-2-172e1a1edb5c>\u001b[0m in \u001b[0;36m<module>\u001b[1;34m\u001b[0m\n\u001b[0;32m      2\u001b[0m \u001b[0mprint\u001b[0m\u001b[1;33m(\u001b[0m\u001b[0mz\u001b[0m\u001b[1;33m)\u001b[0m\u001b[1;33m\u001b[0m\u001b[1;33m\u001b[0m\u001b[0m\n\u001b[0;32m      3\u001b[0m \u001b[0mprint\u001b[0m\u001b[1;33m(\u001b[0m\u001b[0mtype\u001b[0m\u001b[1;33m(\u001b[0m\u001b[0mz\u001b[0m\u001b[1;33m)\u001b[0m\u001b[1;33m)\u001b[0m\u001b[1;33m\u001b[0m\u001b[1;33m\u001b[0m\u001b[0m\n\u001b[1;32m----> 4\u001b[1;33m \u001b[0mw\u001b[0m \u001b[1;33m=\u001b[0m \u001b[0mc\u001b[0m \u001b[1;33m+\u001b[0m \u001b[0mz\u001b[0m\u001b[1;33m\u001b[0m\u001b[1;33m\u001b[0m\u001b[0m\n\u001b[0m\u001b[0;32m      5\u001b[0m \u001b[0mprint\u001b[0m\u001b[1;33m(\u001b[0m\u001b[0mw\u001b[0m\u001b[1;33m)\u001b[0m\u001b[1;33m\u001b[0m\u001b[1;33m\u001b[0m\u001b[0m\n",
      "\u001b[1;31mTypeError\u001b[0m: unsupported operand type(s) for +: 'float' and 'str'"
     ]
    }
   ],
   "source": [
    "z = 'hello'\n",
    "print(z)\n",
    "print(type(z))\n",
    "w = c + z\n",
    "print(w)"
   ]
  },
  {
   "cell_type": "markdown",
   "metadata": {},
   "source": [
    "**Observations:**\n",
    "- When you set a equal to 10, it automatically assumes it is an integer number. \n",
    "- When you specify it as 1. it sets it to a real number (with significant digits). That is called a floating point number.\n",
    "- When you added an integer and a real number, you got a real number.\n",
    "- When you tried to add two incompatible types (float + string), you got an **error**.\n",
    "- Be careful with variable types, because they do not change, unless you specify it with your code.\n",
    "\n",
    "**Lists:** Defined with brackets and comma to separate numbers or text:"
   ]
  },
  {
   "cell_type": "code",
   "execution_count": 3,
   "metadata": {},
   "outputs": [
    {
     "name": "stdout",
     "output_type": "stream",
     "text": [
      "[1, 2, 3]\n",
      "<class 'list'>\n",
      "['d', 'a', 't', 'a']\n",
      "<class 'list'>\n"
     ]
    }
   ],
   "source": [
    "a = [1,2,3]\n",
    "print(a)\n",
    "print(type(a))\n",
    "b = ['d','a','t','a']\n",
    "print(b)\n",
    "print(type(b))"
   ]
  },
  {
   "cell_type": "markdown",
   "metadata": {},
   "source": [
    "As we mentioned above, we need to use some **Packages** in most of the things that we want to do in python. That is why most functions start with importing the right packages. Each package, has functions that can be used as default functions, when the package is imported. \n",
    "\n",
    "-  You can import each package separately and give it a reference name:"
   ]
  },
  {
   "cell_type": "code",
   "execution_count": 4,
   "metadata": {},
   "outputs": [
    {
     "name": "stdout",
     "output_type": "stream",
     "text": [
      "[-0.23333333  0.46666667  0.1       ]\n"
     ]
    }
   ],
   "source": [
    "import numpy as np\n",
    "import scipy as sp\n",
    "import matplotlib as mpl\n",
    "\n",
    "#solve Ax = b\n",
    "A = np.array([[1,2,3],[4,5,6],[7,8,9]])\n",
    "b = np.array([1,2,3])\n",
    "x = np.linalg.solve(A,b)\n",
    "print(x)"
   ]
  },
  {
   "cell_type": "markdown",
   "metadata": {},
   "source": [
    "-  You can import all above packages simultaneously. If you use following command *, you do not need to specify name. All functions become default functions:"
   ]
  },
  {
   "cell_type": "code",
   "execution_count": 5,
   "metadata": {},
   "outputs": [
    {
     "name": "stdout",
     "output_type": "stream",
     "text": [
      "[-0.23333333  0.46666667  0.1       ]\n"
     ]
    }
   ],
   "source": [
    "from pylab import *\n",
    "A = array([[1,2,3],[4,5,6],[7,8,9]])\n",
    "b = array([1,2,3])\n",
    "x = linalg.solve(A,b)\n",
    "print(x)"
   ]
  },
  {
   "cell_type": "markdown",
   "metadata": {},
   "source": [
    "## Index in Arrays/Matrices:\n",
    "-  Index starts from 0, NOT from 1.\n",
    "-  Let's see some examples:"
   ]
  },
  {
   "cell_type": "code",
   "execution_count": 7,
   "metadata": {},
   "outputs": [
    {
     "name": "stdout",
     "output_type": "stream",
     "text": [
      "[ 10.  20.  30.  40.  50.  60.  70.  80.  90. 100.]\n",
      "[70. 80.]\n"
     ]
    }
   ],
   "source": [
    "from pylab import *\n",
    "m = linspace(10,100,10) #create array starting with 10, ending in 100 with 10 elements total:\n",
    "print(m)\n",
    "ten = m[0]\n",
    "twenty = m[1]\n",
    "m1 = m[6:8] #will show you elements 6 and 7 of array! NOT 6, 7 and 8\n",
    "print(m1)\n"
   ]
  },
  {
   "cell_type": "markdown",
   "metadata": {},
   "source": [
    "## Copying Variables does not work like in Matlab:"
   ]
  },
  {
   "cell_type": "code",
   "execution_count": 13,
   "metadata": {},
   "outputs": [
    {
     "name": "stdout",
     "output_type": "stream",
     "text": [
      "[1 2 3 4 5]\n",
      "[2 3 4]\n",
      "[1 2 0 4 5]\n",
      "[2 0 4]\n"
     ]
    }
   ],
   "source": [
    "a = array([1,2,3,4,5])\n",
    "b = a[1:4]\n",
    "print(a)\n",
    "print(b)\n",
    "b[1] = rand() #will insert random number to both first element of a and of b\n",
    "print(a)\n",
    "print(b)"
   ]
  },
  {
   "cell_type": "markdown",
   "metadata": {},
   "source": [
    "**To copy a variable do the following:**"
   ]
  },
  {
   "cell_type": "code",
   "execution_count": 9,
   "metadata": {},
   "outputs": [
    {
     "name": "stdout",
     "output_type": "stream",
     "text": [
      "[1 2 3 4 5]\n",
      "[2 0 4]\n",
      "[1 2 3 4 5]\n",
      "[2 0 4]\n"
     ]
    }
   ],
   "source": [
    "a = array([1,2,3,4,5])\n",
    "c = array(a[1:4],copy=True)\n",
    "c[1] = rand() #this will only change c\n",
    "print(a)\n",
    "print(c)\n",
    "\n",
    "#Also works if you omit \"copy=True\":\n",
    "d=array(a[1:4])\n",
    "d[1] = rand()\n",
    "print(a)\n",
    "print(d)"
   ]
  },
  {
   "cell_type": "markdown",
   "metadata": {},
   "source": [
    "## **For** Loops: \n",
    "-  Everything you can do in Matlab, you can do here, with different syntax\n",
    "-  No end statements needed"
   ]
  },
  {
   "cell_type": "code",
   "execution_count": 17,
   "metadata": {},
   "outputs": [
    {
     "name": "stdout",
     "output_type": "stream",
     "text": [
      "15\n"
     ]
    }
   ],
   "source": [
    "sum = 0\n",
    "for n in [1,2,3,4,5]:\n",
    "    sum = sum + n   \n",
    "print(sum)\n",
    "    "
   ]
  },
  {
   "cell_type": "markdown",
   "metadata": {},
   "source": [
    "The **indentation level** is what informs Python of when a loop is done:"
   ]
  },
  {
   "cell_type": "code",
   "execution_count": 10,
   "metadata": {},
   "outputs": [
    {
     "name": "stdout",
     "output_type": "stream",
     "text": [
      "1\n",
      "2\n",
      "3\n",
      "4\n"
     ]
    }
   ],
   "source": [
    "l = [1,2,3,4]\n",
    "for item in l:\n",
    "    print(item)"
   ]
  },
  {
   "cell_type": "markdown",
   "metadata": {},
   "source": [
    "## IF STATEMENTS:"
   ]
  },
  {
   "cell_type": "code",
   "execution_count": 15,
   "metadata": {},
   "outputs": [
    {
     "name": "stdout",
     "output_type": "stream",
     "text": [
      "Wear pants\n"
     ]
    }
   ],
   "source": [
    "temp = 38.\n",
    "if temp > 40:\n",
    "    print('Wear shorts')\n",
    "else:\n",
    "    print('Wear pants')\n"
   ]
  },
  {
   "cell_type": "code",
   "execution_count": 16,
   "metadata": {},
   "outputs": [
    {
     "name": "stdout",
     "output_type": "stream",
     "text": [
      "A\n"
     ]
    }
   ],
   "source": [
    "score = 95\n",
    "if score >=90:\n",
    "    letter = 'A'\n",
    "elif score >= 80:\n",
    "    letter = 'B'\n",
    "elif score >=70:\n",
    "    letter = 'C'\n",
    "else:\n",
    "    letter = 'D'\n",
    "print(letter)"
   ]
  },
  {
   "cell_type": "markdown",
   "metadata": {},
   "source": [
    "## Defining functions:\n",
    "**In Matlab, you would write:**\n",
    "\n",
    "function [out] = abs(inp)\n",
    "\n",
    "    if inp > 0\n",
    "        out = inp\n",
    "    else \n",
    "        out = -inp\n",
    "    end \n",
    "end\n",
    "\n",
    "**In Python you will write:**"
   ]
  },
  {
   "cell_type": "code",
   "execution_count": 17,
   "metadata": {},
   "outputs": [],
   "source": [
    "def abs(inp):\n",
    "    if inp>0:\n",
    "        return inp\n",
    "    else:\n",
    "        return -inp\n"
   ]
  },
  {
   "cell_type": "code",
   "execution_count": 36,
   "metadata": {},
   "outputs": [
    {
     "data": {
      "text/plain": [
       "10"
      ]
     },
     "execution_count": 36,
     "metadata": {},
     "output_type": "execute_result"
    }
   ],
   "source": [
    "abs(-10)"
   ]
  },
  {
   "cell_type": "markdown",
   "metadata": {},
   "source": [
    "## Creating and storing functions:\n",
    "**Here we will create more complicated functions and store them as python files.**\n",
    "\n",
    "### Single-Variable Optimization Example:\n",
    "**Through this example, we will learn about:** <br>\n",
    " - Formulating a function <br>\n",
    " - Storing and calling .py files <br>\n",
    " - Loops <br>\n",
    " - <font color=red> **NOTE that what we will do below is NOT a way to solve an optimization problem!!!** </font>\n",
    "<br>\n",
    "\n",
    "#### Exercise 1.1:\n",
    "**Find the minimum of function $f(x)= x^3-12x+3$ in the interval $-4<=x<=4$, where $x$ is an real valued variable. <br>\n",
    "Complete the code below to do that:**\n"
   ]
  },
  {
   "cell_type": "code",
   "execution_count": 11,
   "metadata": {},
   "outputs": [
    {
     "name": "stdout",
     "output_type": "stream",
     "text": [
      "-13.0\n"
     ]
    }
   ],
   "source": [
    "from pylab import *\n",
    "fxmin = 100\n",
    "l = linspace(-4,4,100)\n",
    "\n",
    "for i in l:\n",
    "    help = i**3 - 12*i + 3 # power in Python is \"**\" and not \"^\"\n",
    "    if help < fxmin:\n",
    "        fxmin = help      \n",
    "print(fxmin)\n"
   ]
  },
  {
   "cell_type": "code",
   "execution_count": 17,
   "metadata": {},
   "outputs": [
    {
     "name": "stdout",
     "output_type": "stream",
     "text": [
      "-13\n",
      "-13\n"
     ]
    }
   ],
   "source": [
    "# What if x is an integer?\n",
    "# We can solve it in two ways:\n",
    "\n",
    "l1 = np.arange(-4, 4, dtype=int) # note that arange excludes right endpoint in the interval\n",
    "l2 = np.linspace(-4, 4, 9, dtype=int) # '9' here is the number of samples we need\n",
    "fxmin = 100\n",
    "\n",
    "for i in l1:\n",
    "    help = i**3 - 12*i + 3 # power in Python is \"**\" and not \"^\"\n",
    "    if help < fxmin:\n",
    "        fxmin = help      \n",
    "print(fxmin)\n",
    "\n",
    "for i in l2:\n",
    "    help = i**3 - 12*i + 3 # power in Python is \"**\" and not \"^\"\n",
    "    if help < fxmin:\n",
    "        fxmin = help      \n",
    "print(fxmin)\n"
   ]
  },
  {
   "cell_type": "markdown",
   "metadata": {},
   "source": [
    "### Exercise 1.2: \n",
    "**Now, let's bring in the def functions. Re-write the above script but this time, let's store $f(x)$ as a def function.**\n"
   ]
  },
  {
   "cell_type": "code",
   "execution_count": 28,
   "metadata": {},
   "outputs": [
    {
     "name": "stdout",
     "output_type": "stream",
     "text": [
      "-13.0\n"
     ]
    }
   ],
   "source": [
    "from pylab import *\n",
    "\n",
    "def fx(x):\n",
    "    out = x**3 - 12*x + 3\n",
    "    return out\n",
    "\n",
    "fxmin = 100\n",
    "l = linspace(-4,4,100) \n",
    "\n",
    "for i in l:\n",
    "    help = fx(i) \n",
    "    if help < fxmin:\n",
    "        fxmin = help\n",
    "print(fxmin)\n"
   ]
  },
  {
   "cell_type": "markdown",
   "metadata": {},
   "source": [
    "### Exercise 1.3: \n",
    "**Now open Spyder and copy-paste the above code into the Editor. <br> \n",
    "Save it as .py file into a directory and name that you prefer. <br>\n",
    "Run the python script and observe the results in the console.** <br>\n",
    "\n",
    "**Also to do:** <br>\n",
    " - After you have run the script, call function fx in the console for any random value. (i.e., fx(100), should give...?)\n",
    " - Can you call function fx for an array of values???? Try it, which one of below works and why??? <br>\n",
    " \n",
    "*fx(100) = ???* <br>\n",
    "*fx([1,2,3]) = ??? #ERROR* <br>\n",
    "*fx(array([1,2,3])) = ???*"
   ]
  },
  {
   "cell_type": "markdown",
   "metadata": {},
   "source": [
    "### Exercise 1.4 - part a:\n",
    "**Modify your code to find the optimal solution to a problem that solves the following optimization problem (using loop and if statments):**<br>\n",
    "$min$ $f(x)=x^3-12x+3$ <br>\n",
    "subject to: <br>\n",
    "$g(x)= x^2 - 3 <=0$ <br>\n",
    "$x = real $ <br>\n",
    "$-4<=x<=4$ <br>\n",
    "\n",
    "### Exercise 1.4 - part b (more advanced):\n",
    "**Find the same result, by using only arrays of functions $f(x)$ and $g(x)$ and numpy matrix operations!**"
   ]
  },
  {
   "cell_type": "code",
   "execution_count": 32,
   "metadata": {},
   "outputs": [
    {
     "name": "stdout",
     "output_type": "stream",
     "text": [
      "best changed to: 18.332824211918183\n",
      "best changed to: 17.996466037788352\n",
      "best changed to: 17.598370193105424\n",
      "best changed to: 17.141702712256738\n",
      "best changed to: 16.629629629629626\n",
      "best changed to: 16.06531697961144\n",
      "best changed to: 15.451930796589501\n",
      "best changed to: 14.792637114951164\n",
      "best changed to: 14.090601969083755\n",
      "best changed to: 13.348991393374618\n",
      "best changed to: 12.57097142221109\n",
      "best changed to: 11.759708089980506\n",
      "best changed to: 10.918367431070212\n",
      "best changed to: 10.050115479867545\n",
      "best changed to: 9.158118270759836\n",
      "best changed to: 8.245541838134429\n",
      "best changed to: 7.315552216378659\n",
      "best changed to: 6.371315439879867\n",
      "best changed to: 5.415997543025392\n",
      "best changed to: 4.452764560202575\n",
      "best changed to: 3.4847825257987464\n",
      "best changed to: 2.5152174742012483\n",
      "best changed to: 1.547235439797414\n",
      "best changed to: 0.5840024569745976\n",
      "best changed to: -0.3713154398798726\n",
      "best changed to: -1.315552216378669\n",
      "best changed to: -2.245541838134433\n",
      "best changed to: -3.1581182707598456\n",
      "best changed to: -4.05011547986755\n",
      "best changed to: -4.918367431070216\n",
      "best changed to: -5.759708089980517\n",
      "best changed to: -6.570971422211093\n",
      "best changed to: -7.348991393374625\n",
      "best changed to: -8.090601969083759\n",
      "best changed to: -8.792637114951171\n",
      "best changed to: -9.451930796589508\n",
      "best changed to: -10.06531697961144\n",
      "best changed to: -10.629629629629633\n",
      "best changed to: -11.14170271225674\n",
      "best changed to: -11.598370193105428\n",
      "best changed to: -11.996466037788354\n",
      "best changed to: -12.332824211918187\n",
      "final best: -12.332824211918187\n",
      "best changed to: 18.332824211918183\n",
      "best changed to: 17.996466037788352\n",
      "best changed to: 17.598370193105424\n",
      "best changed to: 17.141702712256738\n",
      "best changed to: 16.629629629629626\n",
      "best changed to: 16.06531697961144\n",
      "best changed to: 15.451930796589501\n",
      "best changed to: 14.792637114951164\n",
      "best changed to: 14.090601969083755\n",
      "best changed to: 13.348991393374618\n",
      "best changed to: 12.57097142221109\n",
      "best changed to: 11.759708089980506\n",
      "best changed to: 10.918367431070212\n",
      "best changed to: 10.050115479867545\n",
      "best changed to: 9.158118270759836\n",
      "best changed to: 8.245541838134429\n",
      "best changed to: 7.315552216378659\n",
      "best changed to: 6.371315439879867\n",
      "best changed to: 5.415997543025392\n",
      "best changed to: 4.452764560202575\n",
      "best changed to: 3.4847825257987464\n",
      "best changed to: 2.5152174742012483\n",
      "best changed to: 1.547235439797414\n",
      "best changed to: 0.5840024569745976\n",
      "best changed to: -0.3713154398798726\n",
      "best changed to: -1.315552216378669\n",
      "best changed to: -2.245541838134433\n",
      "best changed to: -3.1581182707598456\n",
      "best changed to: -4.05011547986755\n",
      "best changed to: -4.918367431070216\n",
      "best changed to: -5.759708089980517\n",
      "best changed to: -6.570971422211093\n",
      "best changed to: -7.348991393374625\n",
      "best changed to: -8.090601969083759\n",
      "best changed to: -8.792637114951171\n",
      "best changed to: -9.451930796589508\n",
      "best changed to: -10.06531697961144\n",
      "best changed to: -10.629629629629633\n",
      "best changed to: -11.14170271225674\n",
      "best changed to: -11.598370193105428\n",
      "best changed to: -11.996466037788354\n",
      "best changed to: -12.332824211918187\n",
      "final best: -12.332824211918187\n",
      "final best: -12.332824211918187\n"
     ]
    }
   ],
   "source": [
    "def fx(x):\n",
    "    obj = x**3 -12*x + 3\n",
    "    return obj\n",
    "\n",
    "def gx(x):\n",
    "    c = x**2-3\n",
    "    return c\n",
    "\n",
    "fxmin = 100\n",
    "l = linspace(-4,4,100)\n",
    "for i in l:\n",
    "    help = fx(i)\n",
    "    if gx(i) <= 0:\n",
    "        if help < fxmin:\n",
    "            fxmin =help\n",
    "            print('best changed to:',fxmin)\n",
    "print('final best:',fxmin)\n",
    "\n",
    "#OR:\n",
    "fxmin = 100\n",
    "for i in l:\n",
    "    help = fx(i)\n",
    "    if gx(i) <= 0 and help < fxmin:\n",
    "        fxmin =help\n",
    "        print('best changed to:',fxmin)\n",
    "print('final best:',fxmin)\n",
    "\n",
    "#part b:\n",
    "fxa = fx(l)\n",
    "gxa = gx(l)\n",
    "feas = gxa<=0\n",
    "fbest = min(fxa[feas])\n",
    "print('final best:',fbest)"
   ]
  },
  {
   "cell_type": "markdown",
   "metadata": {},
   "source": [
    "# Conclusions \n",
    "- **At this point, you have some basic knowledge with respect to creating functions, defining variables, writing loops, if statements and scripts.** <br> \n",
    "- There are many more matrix operations and manipulations that are enabled with the numpy package. We can't cover all of these in this class, *however*: <br> \n",
    " - Learn as you need to use, tons of online resources. <br>\n",
    " - Dr. Johansson's scientific computing notes are a GREAT resource (first three chapters are great introduction). \n",
    " \n",
    "## Very Important:\n",
    "**We used 'optimization' as an example above to learn some basic Python operations. HOWEVER: what we did above is enumeration, which is exactly how you should NOT solve an optimization problem after having taken this course!**"
   ]
  },
  {
   "cell_type": "code",
   "execution_count": null,
   "metadata": {},
   "outputs": [],
   "source": []
  }
 ],
 "metadata": {
  "kernelspec": {
   "display_name": "Python 3",
   "language": "python",
   "name": "python3"
  },
  "language_info": {
   "codemirror_mode": {
    "name": "ipython",
    "version": 3
   },
   "file_extension": ".py",
   "mimetype": "text/x-python",
   "name": "python",
   "nbconvert_exporter": "python",
   "pygments_lexer": "ipython3",
   "version": "3.8.8"
  }
 },
 "nbformat": 4,
 "nbformat_minor": 2
}
