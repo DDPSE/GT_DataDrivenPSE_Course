{
  "cells": [
    {
      "cell_type": "markdown",
      "metadata": {
        "id": "3KoNswYVK45W"
      },
      "source": [
        "## Problem 1 (35 points): Nonlinear Constrained Optimization, Duality, Convexity"
      ]
    },
    {
      "cell_type": "markdown",
      "metadata": {
        "id": "omWMnPweK45X"
      },
      "source": [
        "#### A. (10 points): \n",
        "Formulate and solve the following problem in Pyomo. Use the most appropriate solver that you have access to.\n",
        "\n",
        "$ min -x_1-x_2  $ </br>\n",
        "subject to: </br>\n",
        "$x_1x_2 <= 4 $\n",
        "\n"
      ]
    },
    {
      "cell_type": "code",
      "execution_count": null,
      "metadata": {
        "id": "u7BpMILVhssS",
        "outputId": "2e474e3b-b96b-4271-86f4-65d8a94fd4bf"
      },
      "outputs": [
        {
          "name": "stdout",
          "output_type": "stream",
          "text": [
            "optimal x1 = 2.000000011218813\n",
            "optimal x2 = 2.0000000062752834\n",
            "optimal obj = -4.000000017494097\n"
          ]
        }
      ],
      "source": [
        "from pyomo.environ import *\n",
        "\n",
        "# Define the model\n",
        "m = ConcreteModel()\n",
        "\n",
        "# Define the decision variables\n",
        "m.x1 = Var(within=NonNegativeReals)\n",
        "m.x2 = Var(within=NonNegativeReals)\n",
        "\n",
        "# Define the objective function\n",
        "m.obj = Objective(expr = -1*m.x1 + (-1*m.x2), sense = minimize )\n",
        "\n",
        "# Define the constraints\n",
        "m.con1 = Constraint(expr = m.x1*m.x2 <= 4)\n",
        "\n",
        "# Create the solver\n",
        "solver = SolverFactory(\"ipopt\")\n",
        "\n",
        "# Solve the model\n",
        "results = solver.solve(m)\n",
        "\n",
        "# Print the results\n",
        "print('optimal x1 =', value(m.x1))\n",
        "print('optimal x2 =', value(m.x2))\n",
        "print('optimal obj =', value(m.obj))"
      ]
    },
    {
      "cell_type": "markdown",
      "metadata": {
        "id": "3AzKY-NfK45X"
      },
      "source": [
        "### B. (15 points)  \n",
        "Formulate and solve the Dual Formulation of above problem. To get full points, follow the steps outlined in the lecture and explain in text/Markdown cell what you did to formulate the Dual problem. "
      ]
    },
    {
      "cell_type": "markdown",
      "metadata": {
        "id": "ckaDPN67K45Y"
      },
      "source": [
        "#### Text answer of B. here:\n",
        "\n",
        "Step 1: formulate Langrangean:\n",
        "\n",
        "$ L(x_1,x_2,μ) = -x_1 - x_2 + μ(x_1x_2-4) $\n",
        "\n",
        "Step 2: Derivative of L with respect to x1 and x2 = 0:\n",
        "\n",
        "$ dL/dx_1 = -1 + μx_2 = 0  => x_2 = 1/μ $\n",
        "\n",
        "$ dL/dx_2 = -1 + μx_1 = 0  => x_1 = 1/μ $\n",
        "\n",
        "Step 3: Write L in terms of μ and maximize L:\n",
        "\n",
        "$ L(μ) = -(1/μ) - (1/μ) + μ((1/μ^2) - 4) $\n",
        "\n",
        "max L(μ)\n",
        "\n",
        "s.t μ >= 0\n"
      ]
    },
    {
      "cell_type": "code",
      "execution_count": null,
      "metadata": {
        "id": "i_Sv5IY1iw8x",
        "outputId": "1102305b-e8cc-4f95-ede3-33ce3c24ee51"
      },
      "outputs": [
        {
          "name": "stdout",
          "output_type": "stream",
          "text": [
            "optimal mu = 0.5000000003131835\n",
            "optimal obj = -4.0\n",
            "duality gap =  1.7494096837822326e-08\n"
          ]
        }
      ],
      "source": [
        "#Dual formulation here Pyomo solution here:\n",
        "d = ConcreteModel()\n",
        "d.mu = Var(within=NonNegativeReals)\n",
        "\n",
        "def obj(d):\n",
        "    x1 = 1/d.mu\n",
        "    x2 = 1/d.mu\n",
        "    return (-1*x1) + (-1*x2) + d.mu*(x1*x2-4)\n",
        "\n",
        "d.obj = Objective(rule = obj, sense = maximize)\n",
        "\n",
        "# Create the solver\n",
        "solver = SolverFactory(\"ipopt\")\n",
        "\n",
        "# Solve the model\n",
        "results = solver.solve(d)\n",
        "\n",
        "# Print the results\n",
        "print('optimal mu =', value(d.mu))\n",
        "print('optimal obj =', value(d.obj))\n",
        "\n",
        "print('duality gap = ', abs(value(d.obj)-value(m.obj)))"
      ]
    },
    {
      "cell_type": "markdown",
      "metadata": {
        "id": "TpNXTwgdK45Y"
      },
      "source": [
        "### C. (10 points) \n",
        "\n",
        "Compare solutions obtained in part A and part B. \n",
        "What is the duality gap? \n",
        "If not zero, explain why by discussing and proving convexity of original problem (Primal)."
      ]
    },
    {
      "cell_type": "markdown",
      "metadata": {
        "id": "Nq_qitRTK45Y"
      },
      "source": [
        "#### Answer Part C here: \n",
        "\n",
        "Duality gap is essentially zero. This is guaranteed to occur if Primal is convex, gap could be positive if Primal is not convex. So this does not immediately tell us Primal is convex, but it could be. We could check Primal for convexity, but that is not asked here."
      ]
    },
    {
      "cell_type": "markdown",
      "metadata": {
        "id": "5LrHpA-o1A25"
      },
      "source": [
        "## Problem 2 (10 points) - Linear Programming Solutions\n",
        "\n",
        "A LP formulation has been coded in Pyomo below. Solve this problem graphically, by"
      ]
    },
    {
      "cell_type": "code",
      "execution_count": null,
      "metadata": {
        "id": "z1HzzsUz2SVn",
        "outputId": "10391d07-4e98-4291-b5c7-9467db078cd4"
      },
      "outputs": [
        {
          "name": "stdout",
          "output_type": "stream",
          "text": [
            "optimal x = 1.0\n",
            "optimal x = 15.1851851851852\n",
            "optimal obj = 33.370370370370395\n"
          ]
        }
      ],
      "source": [
        "# create a model\n",
        "from pyomo.environ import *\n",
        "lp = ConcreteModel()\n",
        "\n",
        "# create variables\n",
        "lp.x = Var(within=NonNegativeReals)\n",
        "lp.y = Var(within=NonNegativeReals)\n",
        "\n",
        "# set objective function\n",
        "lp.obj = Objective(expr = 3*lp.x + 2*lp.y, sense=minimize)\n",
        "\n",
        "# set constraints\n",
        "lp.con1 = Constraint(expr = 400*lp.x + 270*lp.y >= 4500)\n",
        "lp.con2 = Constraint(expr = lp.x >= 1)\n",
        "lp.con3 = Constraint(expr = lp.y >= 1)\n",
        "\n",
        "# solve the problem\n",
        "solver = SolverFactory('glpk')\n",
        "solver.solve(lp)\n",
        "\n",
        "# print the results\n",
        "# Print the results\n",
        "print('optimal x =', value(lp.x))\n",
        "print('optimal x =', value(lp.y))\n",
        "print('optimal obj =', value(lp.obj))"
      ]
    },
    {
      "cell_type": "code",
      "execution_count": null,
      "metadata": {
        "colab": {
          "base_uri": "https://localhost:8080/",
          "height": 295
        },
        "id": "vnhVjoUo290h",
        "outputId": "4029ffb7-6b16-4aa8-baee-3d9b8e2fed12"
      },
      "outputs": [
        {
          "name": "stderr",
          "output_type": "stream",
          "text": [
            "Matplotlib is building the font cache; this may take a moment.\n"
          ]
        },
        {
          "data": {
            "image/png": "[encoded data removed]",
            "text/plain": [
              "<Figure size 432x288 with 1 Axes>"
            ]
          },
          "metadata": {
            "needs_background": "light"
          },
          "output_type": "display_data"
        }
      ],
      "source": [
        "#Plotting Feasible Region:\n",
        "\n",
        "import numpy as np\n",
        "import matplotlib.pyplot as plt\n",
        "\n",
        "# Define the constraints\n",
        "x = np.linspace(0, 20, 1000)\n",
        "y1 = (4500 - 400*x) / 270\n",
        "y2 = np.ones_like(x)\n",
        "\n",
        "# Plot the constraints\n",
        "plt.plot(x, y1, label=r'con1')\n",
        "plt.plot(x, y2, label=r'con2')\n",
        "plt.plot(y2, x, label=r'con3')\n",
        "\n",
        "# Add labels and legend\n",
        "plt.xlabel('x')\n",
        "plt.ylabel('y')\n",
        "plt.title('Feasible Region')\n",
        "plt.legend()\n",
        "\n",
        "# Show the plot\n",
        "plt.show()"
      ]
    },
    {
      "cell_type": "markdown",
      "metadata": {
        "id": "dPD39sic3YV8"
      },
      "source": [
        "## Answer Problem 2 here:\n",
        "\n",
        "Describe feasible region in figure above:\n",
        "\n",
        "The feasible region is unbounded, and is defined by constraint 1 (right-upper side), con2 (above) and con3 (right side of it). Since this is a minimization problem, that is not a problem. If it was a maximization problem, solution would be inf. There only 2 vertices, defined by intersection of con1+con3 and con1+con2: (1,15.185),(10.575,1) \n",
        "\n",
        "Optimal Solution: 33.373\n",
        "x = 1\n",
        "y = 15.185"
      ]
    },
    {
      "cell_type": "markdown",
      "metadata": {
        "id": "B50ipHqsK45Z"
      },
      "source": [
        "## Problem 3 - Mixed - Integer Formulation & Branch-and-Bound:\n",
        "### A. (25 points) \n",
        "\n",
        "A small planning problem must be solved with the objective to maximize profit, as described below. The problem has been mostly formulated in Pyomo already, your goal is to explain the formulation and make minor edits to it if needed.\n",
        "\n",
        "Product Z must be produced using raw materials X and Y. \n",
        "First X must be processed to produce Y and then Y is processed to produce Z. The technology for each of these processing steps is available, but comes at different fixed costs if it is decided to build them (land, capital cost) and variable costs as they are operated that depend on the amount processed (operating costs for production). \n",
        "Y can also be purchased directly from market. \n",
        "\n",
        "The following are options: Building plant A (converts X to Y), \n",
        "or Building plant B (converts X to Y), or Purchasing Y from the market, \n",
        "Then Plant C must be built that takes in Y and produces Z. \n",
        "\n",
        "Only Plant A or B can be built due to limited resources.\n",
        "\n",
        "Based on costs and correlations that describe the efficiency of each plant to convert a raw material to its product, the following optimization problem has been formulated in Pyomo to solve this planning problem.\n",
        "\n",
        "Decide a solver and solve this problem. In the Markdown text that follows, describe each variable and each constraint, fixed costs, variable costs and any bounds that exist. In other words, understand the formulation and explain it."
      ]
    },
    {
      "cell_type": "code",
      "execution_count": null,
      "metadata": {
        "id": "NdKI_G5vl-Jg",
        "outputId": "96391b5f-f094-431e-d14c-355448ef54eb"
      },
      "outputs": [
        {
          "name": "stdout",
          "output_type": "stream",
          "text": [
            "feedx = 1.30718954248366\n",
            "xtoa = 1.30718954248366\n",
            "xtob = 0.0\n",
            "ytoz = 1.11111111111111\n",
            "ypurch = 0.0\n",
            "yfroma = 1.11111111111111\n",
            "yfromb = 0.0\n",
            "zprod = 1.0\n",
            "b1 = 1.0\n",
            "b2 = 1.0\n",
            "b3 = 0.0\n",
            "objvar = 2.8137254901960826\n"
          ]
        }
      ],
      "source": [
        "from pyomo.environ import *\n",
        "\n",
        "# Create a model object\n",
        "model = ConcreteModel()\n",
        "\n",
        "# Define variables\n",
        "model.feedx = Var(within=NonNegativeReals)\n",
        "model.xtoa = Var(within=NonNegativeReals)\n",
        "model.xtob = Var(within=NonNegativeReals)\n",
        "model.ytoz = Var(within=NonNegativeReals)\n",
        "model.ypurch = Var(within=NonNegativeReals)\n",
        "model.yfroma = Var(within=NonNegativeReals, bounds=(None, 5))\n",
        "model.yfromb = Var(within=NonNegativeReals)\n",
        "model.zprod = Var(within=NonNegativeReals, bounds=(None, 1))\n",
        "\n",
        "model.b1 = Var(within=Binary)\n",
        "model.b2 = Var(within=Binary)\n",
        "model.b3 = Var(within=Binary)\n",
        "\n",
        "# Define objective function - must maximize:\n",
        "model.objvar = Objective(expr = -1.8*model.feedx - 7*model.ypurch + 13*model.zprod\n",
        "                                - model.yfroma - 1.2*model.yfromb - 2*model.ytoz\n",
        "                                - 3.5*model.b1 - model.b2 - 1.5*model.b3, sense = maximize)\n",
        "\n",
        "# Define constraints\n",
        "\n",
        "model.e1 = Constraint(expr = -0.85*model.xtoa + model.yfroma == 0)\n",
        "\n",
        "model.e2 = Constraint(expr = -0.95*model.xtob + model.yfromb == 0)\n",
        "\n",
        "model.e3 = Constraint(expr = -0.9*model.ytoz + model.zprod == 0)\n",
        "\n",
        "model.e4 = Constraint(expr = -model.ytoz + model.ypurch + model.yfroma + model.yfromb  == 0)\n",
        "\n",
        "model.e5 = Constraint(expr = model.feedx - model.xtoa - model.xtob == 0)\n",
        "\n",
        "model.e6 = Constraint(expr = model.ytoz - 100*model.b1 <= 0)\n",
        "\n",
        "model.e7 = Constraint(expr = model.xtoa - 100*model.b2 <= 0)\n",
        "\n",
        "model.e8 = Constraint(expr = model.xtob - 100*model.b3 <= 0)\n",
        "\n",
        "#this constraint is added based on description:\n",
        "model.e9 = Constraint(expr = model.b2 + model.b3 <= 1)\n",
        "\n",
        "# Solve the model\n",
        "SolverFactory('glpk').solve(model)\n",
        "\n",
        "# Print the solution\n",
        "print(f\"feedx = {value(model.feedx)}\")\n",
        "print(f\"xtoa = {value(model.xtoa)}\")\n",
        "print(f\"xtob = {value(model.xtob)}\")\n",
        "print(f\"ytoz = {value(model.ytoz)}\")\n",
        "print(f\"ypurch = {value(model.ypurch)}\")\n",
        "print(f\"yfroma = {value(model.yfroma)}\")\n",
        "print(f\"yfromb = {value(model.yfromb)}\")\n",
        "print(f\"zprod = {value(model.zprod)}\")\n",
        "print(f\"b1 = {value(model.b1)}\")\n",
        "print(f\"b2 = {value(model.b2)}\")\n",
        "print(f\"b3 = {value(model.b3)}\")\n",
        "print(f\"objvar = {value(model.objvar)}\")"
      ]
    },
    {
      "cell_type": "markdown",
      "metadata": {
        "id": "e0INDCYTPf0Q"
      },
      "source": [
        "## Answer Part A:\n",
        "\n",
        "### Variables:\n",
        "\n",
        "feedx = total x purchased/ fed into process\n",
        "\n",
        "xtoa = amount of x sent to a\n",
        "\n",
        "xtob = amount of x sent to b\n",
        "\n",
        "ytoz = amount of y input into C to be turned into z\n",
        "\n",
        "ypurch = amount of y purchased\n",
        "\n",
        "yfroma = amount of y made from A\n",
        "\n",
        "yfromb = amount of y made from B\n",
        "\n",
        "zprod = amount of z produced\n",
        "\n",
        "b1 = fixed cost of making factory C\n",
        "\n",
        "b2 = fixed cost of making plant A\n",
        "\n",
        "b3 = fixed cost of making plant B\n",
        "\n",
        "\n",
        "### Cost parameters: \n",
        "\n",
        "feed stock cost of x = 1.8\n",
        "\n",
        "y purchasing cost = 7\n",
        "\n",
        "z selling price = 13\n",
        "\n",
        "y manufacturing cost A = 1\n",
        "\n",
        "y manufacturing cost B = 1.2\n",
        "\n",
        "y consumption cost C = 2\n",
        "\n",
        "A fixed cost = 1\n",
        "\n",
        "B fixed cost = 1.5\n",
        "\n",
        "C fixed cost = 3.5\n",
        "\n",
        "\n",
        "### Constraint explanations:\n",
        "\n",
        "e1: amount of y produced in factory A based on X conversion\n",
        "\n",
        "e2: amount of y produced in factory B based on X conversion\n",
        "\n",
        "e3: amount of z produced in factory A based on X conversion\n",
        "\n",
        "e4: total amount of y neither purchhased or produced sent to C\n",
        "\n",
        "e5: amount of X feedstock to purchase\n",
        "\n",
        "e6: limit on y consumed by Plant C\n",
        "\n",
        "e7: limit on x consumed by Plant A\n",
        "\n",
        "e8: limit on x consumed by Plant B\n",
        "\n",
        "**e9: Choosing between making only one of Plant A or B**\n",
        "\n",
        "\n",
        "### Bounds explanations:\n",
        "\n",
        "The amount of y that can be produced from A is bounded to (0,5)\n",
        "\n",
        "The amount of Z that can be produced from C is bounded to (0,1)\n",
        "\n",
        "\n",
        "### What type of formulation is this?\n",
        "\n",
        "This is a MILP - mixed integer linear problem\n",
        "\n"
      ]
    },
    {
      "cell_type": "markdown",
      "metadata": {
        "id": "KlGND4e2K45Z"
      },
      "source": [
        "### B. (10 points) If this problem is solved with a branch-and-bound algorithm, solve below the \"Root Node\" formulation only. \n",
        "\n",
        "Is the solution that you get an Upper Bound or a Lower Bound?\n",
        "If you had to make a decision on what variable to branch next, what would you choose and why? No need to solve anything beyond the root node, but just explain in Markdown/text.\n",
        "\n"
      ]
    },
    {
      "cell_type": "code",
      "execution_count": null,
      "metadata": {
        "id": "zpForqwOpqMW",
        "outputId": "0a7c28b1-91a5-4c91-bf17-099a8a2097b6"
      },
      "outputs": [
        {
          "name": "stdout",
          "output_type": "stream",
          "text": [
            "feedx = 1.16959064327485\n",
            "xtoa = 0.0\n",
            "xtob = 1.16959064327485\n",
            "ytoz = 1.11111111111111\n",
            "ypurch = 0.0\n",
            "yfroma = 0.0\n",
            "yfromb = 1.11111111111111\n",
            "zprod = 1.0\n",
            "b1 = 0.0111111111111111\n",
            "b2 = 0.0\n",
            "b3 = 0.0116959064327485\n",
            "objvar = 7.282748538011708\n"
          ]
        }
      ],
      "source": [
        "# Copy-paste formulation below, but edit it accordingly to represent the Root node of B&B tree:\n",
        "from pyomo.environ import *\n",
        "\n",
        "# Create a model object\n",
        "model = ConcreteModel()\n",
        "\n",
        "# Define variables - ALL will be real variables (binaries are relaxed, this now becomes a Linear Programming formulation - LP)\n",
        "model.feedx = Var(within=NonNegativeReals)\n",
        "model.xtoa = Var(within=NonNegativeReals)\n",
        "model.xtob = Var(within=NonNegativeReals)\n",
        "model.ytoz = Var(within=NonNegativeReals)\n",
        "model.ypurch = Var(within=NonNegativeReals)\n",
        "model.yfroma = Var(within=NonNegativeReals, bounds=(None, 5))\n",
        "model.yfromb = Var(within=NonNegativeReals)\n",
        "model.zprod = Var(within=NonNegativeReals, bounds=(None, 1))\n",
        "\n",
        "model.b1 = Var(within=NonNegativeReals)\n",
        "model.b2 = Var(within=NonNegativeReals)\n",
        "model.b3 = Var(within=NonNegativeReals)\n",
        "\n",
        "# Define objective function\n",
        "model.objvar = Objective(expr = -1.8*model.feedx - 7*model.ypurch + 13*model.zprod\n",
        "                                - model.yfroma - 1.2*model.yfromb - 2*model.ytoz\n",
        "                                - 3.5*model.b1 - model.b2 - 1.5*model.b3, sense = maximize)\n",
        "\n",
        "# Define constraints\n",
        "\n",
        "model.e1 = Constraint(expr = -0.85*model.xtoa + model.yfroma == 0)\n",
        "\n",
        "model.e2 = Constraint(expr = -0.95*model.xtob + model.yfromb == 0)\n",
        "\n",
        "model.e3 = Constraint(expr = -0.9*model.ytoz + model.zprod == 0)\n",
        "\n",
        "model.e4 = Constraint(expr = -model.ytoz + model.ypurch + model.yfroma + model.yfromb  == 0)\n",
        "\n",
        "model.e5 = Constraint(expr = model.feedx - model.xtoa - model.xtob == 0)\n",
        "\n",
        "model.e6 = Constraint(expr = model.ytoz - 100*model.b1 <= 0)\n",
        "\n",
        "model.e7 = Constraint(expr = model.xtoa - 100*model.b2 <= 0)\n",
        "\n",
        "model.e8 = Constraint(expr = model.xtob - 100*model.b3 <= 0)\n",
        "\n",
        "model.e9 = Constraint(expr = model.b2 + model.b3 <= 1)\n",
        "\n",
        "# Solve the model\n",
        "SolverFactory('glpk').solve(model)\n",
        "\n",
        "# Print the solution\n",
        "print(f\"feedx = {value(model.feedx)}\")\n",
        "print(f\"xtoa = {value(model.xtoa)}\")\n",
        "print(f\"xtob = {value(model.xtob)}\")\n",
        "print(f\"ytoz = {value(model.ytoz)}\")\n",
        "print(f\"ypurch = {value(model.ypurch)}\")\n",
        "print(f\"yfroma = {value(model.yfroma)}\")\n",
        "print(f\"yfromb = {value(model.yfromb)}\")\n",
        "print(f\"zprod = {value(model.zprod)}\")\n",
        "print(f\"b1 = {value(model.b1)}\")\n",
        "print(f\"b2 = {value(model.b2)}\")\n",
        "print(f\"b3 = {value(model.b3)}\")\n",
        "print(f\"objvar = {value(model.objvar)}\")\n"
      ]
    },
    {
      "cell_type": "markdown",
      "metadata": {
        "id": "KkIIe6R8prPi"
      },
      "source": [
        "## Answer Part B here:\n",
        "\n",
        "We relaxed all binaries, solved LP and got a non-binary solution. Since this is a maximization problem, the solution is an Upper Bound (meaning our optimal objective cannot be larger than 7.283).\n",
        "\n",
        "Since we did not get the optimal solution, we can continue \"branching\" on binary decisions. A heuristic is to branch (fix to 0 or 1) the noninteger variables. So either b1 or b3 could be selected here. Since b1 participates in the objective with a higher coefficient, maybe we could pick b1. Any decision here would be correct, as long as it is justified."
      ]
    },
    {
      "cell_type": "markdown",
      "metadata": {
        "id": "LndkwOhIK45a"
      },
      "source": [
        "### Problem 4 (30 points) - Data-Driven Optimization using Direct-Search:\n",
        "\n",
        "You are using a Python implementation of a Direct-Search algorithm provided to you by your colleague to minimize a 1-d function provided below. \n",
        "\n",
        "Run the code and assess whether it is working. Your colleague was not good about adding comments, so you'll have to understand the code. Add comments as you wish to explain what is happening.\n",
        "\n",
        "Knowing about the components and behavior of a good direct-search algorithm, try to debug the code below. \n",
        "\n",
        "Can you fix this code and run it efficiently, so that it converges without hitting the upper limit of samples (100)? \n",
        "\n",
        "Below your solution, explain in text/Markdown, what you changed/fixed and why.\n",
        "\n",
        "The function is also plotted for you below to help you."
      ]
    },
    {
      "cell_type": "code",
      "execution_count": null,
      "metadata": {
        "colab": {
          "base_uri": "https://localhost:8080/",
          "height": 1000
        },
        "id": "xUvUqpuOK45a",
        "outputId": "a14fd51c-b154-4a61-d882-cb2bd6dd951c"
      },
      "outputs": [
        {
          "data": {
            "image/png": "[encoded data removed]",
            "text/plain": [
              "<Figure size 432x288 with 1 Axes>"
            ]
          },
          "metadata": {
            "needs_background": "light"
          },
          "output_type": "display_data"
        },
        {
          "name": "stdout",
          "output_type": "stream",
          "text": [
            "step from 2.5 where f= -0.005981458366571822 to 2.75 where f= -0.0016271317645622963 with step size= 0.25\n",
            "step from 2.75 where f= -0.0016271317645622963 to 2.875 where f= -0.00080723378991049 with step size= 0.125\n",
            "step from 2.875 where f= -0.00080723378991049 to 2.9375 where f= -0.0005616528903507365 with step size= 0.0625\n",
            "step from 2.9375 where f= -0.0005616528903507365 to 2.96875 where f= -0.0004670752199203272 with step size= 0.03125\n",
            "step from 2.96875 where f= -0.0004670752199203272 to 2.984375 where f= -0.0004256172113372471 with step size= 0.015625\n",
            "step from 2.984375 where f= -0.0004256172113372471 to 2.9921875 where f= -0.00040621300415084964 with step size= 0.0078125\n",
            "step from 2.9921875 where f= -0.00040621300415084964 to 2.99609375 where f= -0.00039682661005943583 with step size= 0.00390625\n",
            "step from 2.99609375 where f= -0.00039682661005943583 to 2.998046875 where f= -0.00039221047093767144 with step size= 0.001953125\n",
            "step from 2.998046875 where f= -0.00039221047093767144 to 2.9990234375 where f= -0.00038992143624458163 with step size= 0.0009765625\n",
            "step from 2.9990234375 where f= -0.00038992143624458163 to 2.99951171875 where f= -0.0003887816491643795 with step size= 0.00048828125\n",
            "step from 2.99951171875 where f= -0.0003887816491643795 to 2.999755859375 where f= -0.00038821293465012886 with step size= 0.000244140625\n",
            "step from 2.999755859375 where f= -0.00038821293465012886 to 2.9998779296875 where f= -0.00038792887170784556 with step size= 0.0001220703125\n",
            "step from 2.9998779296875 where f= -0.00038792887170784556 to 2.99993896484375 where f= -0.0003877869137602724 with step size= 6.103515625e-05\n",
            "final x 2.99993896484375\n",
            "final obj -0.0003877869137602724\n",
            "total samp 15\n"
          ]
        }
      ],
      "source": [
        "## Python implementation direct search:\n",
        "from pylab import *\n",
        "\n",
        "def p1(x):\n",
        "    return -(x + sin(x)) * exp(-x**2.0)\n",
        "\n",
        "\n",
        "# Create a plot of the function\n",
        "x = np.linspace(-5, 5, 1000)\n",
        "plt.plot(x, p1(x))\n",
        "# Show the plot\n",
        "plt.show()\n",
        "\n",
        "\n",
        "delta = 0.5\n",
        "epsilon = 0.0001\n",
        "\n",
        "# Starting 2 samples\n",
        "x0 = -2\n",
        "f0 = p1(x0)\n",
        "\n",
        "\n",
        "xp = x0\n",
        "fp = f0\n",
        "\n",
        "xc = x0 + delta\n",
        "fc = p1(xc)\n",
        "\n",
        "nsamp = 2\n",
        "\n",
        "#iteration till reaching minimum \n",
        "\n",
        "while ((abs(delta) > epsilon) and (nsamp < 100)) : \n",
        "    # stepsize convergence\n",
        "    if (fp>fc):\n",
        "        delta = delta\n",
        "    else:\n",
        "        delta = 0.5*delta\n",
        "    xp = xc\n",
        "    fp = fc\n",
        "    \n",
        "    #next sample\n",
        "\n",
        "    xc = xc + delta\n",
        "    fc = p1(xc)\n",
        "\n",
        "    print('step from',xp,'where f=',fp,'to',xc,'where f=',fc,'with step size=',delta)\n",
        "    nsamp = nsamp + 1\n",
        "\n",
        "#Final solution:\n",
        "print('final x', xc)\n",
        "print('final obj',fc)\n",
        "\n",
        "print('total samp',nsamp)"
      ]
    },
    {
      "cell_type": "markdown",
      "metadata": {
        "id": "xPJg7U746vZW"
      },
      "source": [
        "## Text Answer of Problem 4:\n",
        "\n",
        "This is a direct-search problem. Looking at the function, it is nonconvex, so algorithm convergence will depend on starting point. Function also has \"plateus\" so if the algorithm does not have all features for convergence (descent mechanism, mechanism to reduce step size to zero, good sampling design/well-poised), it will not converge. \n",
        "\n",
        "The main reason it does not is because it is missing the mechanism to reduce step size to zero. So the delta step must be reduced when a successful step occurs. Any coefficient less than 1 to multiply the delta step within the \"else\" statement will do. \n",
        "\n",
        "Some of you also changed the starting point, to start close to true solution. That is a good idea, but it does not fully solve convergence issue. In reality, we don't know true solution. \n",
        "\n",
        "Some of you changed the tolerance to be larger or smaller. That can also affect iterations, but does not solve the problem of convergence. \n",
        "\n",
        "Some of you changed delta itself. That again will affect iterations, but will not alone fix the convergence issue. \n",
        "\n",
        "Partial credit was given to any of above changes, but if step size decrease was not added, full credit was not given."
      ]
    },
    {
      "cell_type": "markdown",
      "metadata": {
        "id": "1ILOhAG5K45e"
      },
      "source": [
        "# The End.. THANK YOU and GOOD LUCK!"
      ]
    }
  ],
  "metadata": {
    "colab": {
      "provenance": []
    },
    "kernelspec": {
      "display_name": "Python 3 [3.7]",
      "language": "python",
      "name": "python3"
    },
    "language_info": {
      "codemirror_mode": {
        "name": "ipython",
        "version": 3
      },
      "file_extension": ".py",
      "mimetype": "text/x-python",
      "name": "python",
      "nbconvert_exporter": "python",
      "pygments_lexer": "ipython3",
      "version": "3.7.5"
    }
  },
  "nbformat": 4,
  "nbformat_minor": 0
}