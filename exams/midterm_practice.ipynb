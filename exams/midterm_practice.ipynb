{
 "cells": [
  {
   "cell_type": "markdown",
   "metadata": {},
   "source": [
    "#  Instructions (please read carefully): \n",
    "\n",
    "All answers should be included in this file, either in a Code or Markdown cell. Extras have been created to indicate where to respond, but you can add additional ones if you see fit. Do NOT delete any of the existing code/text.\n",
    "\n",
    "Use provided code as you wish, write your own if you prefer. Do NOT delete any of the existing code/text.\n",
    "\n",
    "All conceptual questions must be answered in a Markdown cell.\n",
    "\n",
    "Allowed to use: All class notes, slides, Jupyter Notebooks, Homework solutions, tutorials.\n",
    "\n",
    "Not allowed: <br>\n",
    "i. General web, google, or other blogs etc., <br>\n",
    "ii. Communicate with others during exam. <br>\n",
    "iii. Share exam with others at ANY time. <br>\n",
    "\n",
    "You are only allowed to communicate with F. Boukouvala during exam in case of major issues (i.e., power outage, something crashing/not working, etc. Use text at: 2012216380). Please state your name and issue in the text.\n",
    "\n",
    "Because everyone is taking exam at a different time, no clarification questions will be answered on Piazza. Any posts will be deleted."
   ]
  },
  {
   "cell_type": "markdown",
   "metadata": {},
   "source": [
    "# Honor Code Statement (please provide electronic signature):\n",
    "\n",
    "I agree to follow Georgia Tech's honor code and follow the instructions provided above. \n",
    "\n",
    "\n",
    "**Name:**\n",
    "\n",
    "**Date:**\n",
    "\n",
    "**Start time (EST):**"
   ]
  },
  {
   "cell_type": "markdown",
   "metadata": {},
   "source": [
    "## Problem 1: Short Questions (25 points)"
   ]
  },
  {
   "cell_type": "markdown",
   "metadata": {},
   "source": [
    "#### A. (10 points): \n",
    "Is the following function convex or nonconvex? $f(x_1,x_2, x_3) = x_1^2 + x_2^2 + x_3^2 +2x_1x_2 $\n",
    "\n",
    "Don't type your entire solution, but verbally explain how you got to your mathematical answer (e.g., I calculated/derived ..., then formed, ... or I used property that states ..., etc.). After your text description of your approach, provide numerical values (if applicable, e.g., eigenvalues) that led you to your answer (again: do not need to show all steps for calculation using equations in markdown!). \n",
    "\n",
    "DO NOT answer this question by plotting. \n"
   ]
  },
  {
   "cell_type": "markdown",
   "metadata": {},
   "source": [
    "### Answer Here:\n",
    "\n",
    "*The following terms are convex: x1^2+x2^2+2x1x2 = (x1+x2)^2 = convex. Also x3^2 is convex.* \n",
    "\n",
    "*The sum of convex functions is convex. *\n",
    "\n"
   ]
  },
  {
   "cell_type": "markdown",
   "metadata": {},
   "source": [
    "#### B. (5 points): \n",
    "\n",
    "If the following problem is solved with IPOPT solver, will we always find the global minimum and why?\n",
    "\n",
    "min $ x^{3} - 2x^{2} $ \n",
    "\n",
    "$ -1 \\le x \\le 2 $"
   ]
  },
  {
   "cell_type": "markdown",
   "metadata": {},
   "source": [
    "### Answer Here:\n",
    "\n",
    "*IPOPT is a local NLP solver. So if problem is convex, it will find global optimum, if problem is nonconvex, it may find it, or converge to a local optimum depending on initialization.* \n",
    "\n",
    "*Is problem convex or nonconvex?\n",
    "It is nonconvex within [-1,2] because the second derivative expression is 6x-2 and this can take both positive and negative values.*"
   ]
  },
  {
   "cell_type": "markdown",
   "metadata": {},
   "source": [
    "#### C. (5 points): \n",
    "Answer True of False: We are using a branch-and-bound algorithm to minimize a mixed-integer nonlinear programming problem. The current best lower bound is: LBbest = -10 and the current best upper bound is UBbest = 50. A node with a lower bound of LB = 51, can be pruned: "
   ]
  },
  {
   "cell_type": "markdown",
   "metadata": {},
   "source": [
    "### Answer Here:\n",
    "\n",
    "*True*\n",
    "\n",
    "(No need to justify to get points, but explanation is that since we know already that a possible solution is 50 (best upper bound), then there is no reason to search in the region where the lower bound is even higher)."
   ]
  },
  {
   "cell_type": "markdown",
   "metadata": {},
   "source": [
    "#### D. (5 points): \n",
    "Answer True of False: We are representing 3 routes (1,2,3) in a design using binary variables\n",
    "$y_{1}, y_{2}, y_{3} $\n",
    "The following set of constraints are imposed: \n",
    "$y_{1} \\ge y_{2} + y_{3} - 1 $ \n",
    "\n",
    "$ y_{1} \\le y_{2} $\n",
    "\n",
    "$ y_{1} \\le y_{3} $\n",
    "\n",
    "Using the above constraints, explain what logic these constraints represent.\n"
   ]
  },
  {
   "cell_type": "markdown",
   "metadata": {},
   "source": [
    "### Answer Here:\n",
    "\n",
    "*C2: If 1 is selected, then 2 must be selected. This rules out a solution where y1 = 1, and y2 = 0.\n",
    "C3: If 1 is selected, then 3 must be selected. This rules out a solution where y1 = 1 and y3 = 0.\n",
    "C1: This rules out solution where both 2 and 3 are selected y2=y3=1 and 1 is not, because 0 >= 1 is not true.*\n",
    "\n",
    "*So if 1 is selected, only true option is for all to be selected.\n",
    "If 1 is not selected, then selecting none, or one of 2/3 is an option, but not selecting both.*"
   ]
  },
  {
   "cell_type": "markdown",
   "metadata": {},
   "source": [
    "## Problem 2: Linear Formulation & Pyomo solution (25 pts)\n",
    "\n",
    "An experiment is conducted to collect data regarding the adsorption of methane on a zeolite. The adsorbed amount (C, mmol/g) is measured at different pressures (P, atm) and the data is given below. You are asked to fit a linear model to this data ($C=a+bP$), with a and b as the fitted parameters. </br>\n",
    "\n",
    "A. Formulate and solve in Pyomo a **LINEAR PROGRAMMING (LP)** optimization problem, with the objective as the minimization of **sum of absolute values** (but you cannot have absolute values in your formulation because that would make the problem nonconvex). Use an appropriate solver for solving this problem. Report the solver termination condition, optimal parameters and objective function value. Code for reading the data, plotting the data, reporting termination condition is provided. </br>\n",
    "\n",
    "B. Answer (as text in a Markdown Cell) the following: <br>\n",
    "   (i) Assume we made the right decision to use a linear model, and use the sum of absolute errors as an objective. Is the solution you have found the globally optimal one, or could there be other solutions with a better error? If yes/no, why? <br>\n",
    "   (ii) If we now reconsider the choices we have made above, is this a good fit to the data? Make ONE recommendation of what you would change to get a better fit.\n",
    "\n"
   ]
  },
  {
   "cell_type": "code",
   "execution_count": 1,
   "metadata": {},
   "outputs": [
    {
     "data": {
      "text/plain": [
       "Text(0, 0.5, 'C (mmol/g)')"
      ]
     },
     "execution_count": 1,
     "metadata": {},
     "output_type": "execute_result"
    },
    {
     "data": {
      "image/png": "[encoded data removed]",
      "text/plain": [
       "<Figure size 432x288 with 1 Axes>"
      ]
     },
     "metadata": {
      "needs_background": "light"
     },
     "output_type": "display_data"
    }
   ],
   "source": [
    "import numpy as np\n",
    "from pyomo.environ import *\n",
    "from pylab import *\n",
    "from pyomo.opt import SolverStatus, TerminationCondition\n",
    "import warnings\n",
    "warnings.filterwarnings(\"ignore\")\n",
    "\n",
    "P = [0, 1.5, 2.5, 4.5, 6.5, 9, 12.5, 16.5, 19.5] #Pressure measurements\n",
    "C = [0, 0.4, 0.7, 1, 1.25, 1.45, 1.6, 1.7, 1.75]  #Adsorbed Concentration measurements\n",
    "\n",
    "# Plot data:\n",
    "import matplotlib.pyplot as plt\n",
    "plt.scatter(P,C)\n",
    "plt.xlabel('P (atm)')\n",
    "plt.ylabel('C (mmol/g)')"
   ]
  },
  {
   "cell_type": "code",
   "execution_count": 2,
   "metadata": {},
   "outputs": [
    {
     "name": "stdout",
     "output_type": "stream",
     "text": [
      "Termination condition: optimal\n",
      "a: 0.0714\n",
      "b: 0.5214\n",
      "optimal sum of absolute errors: 1.8071\n"
     ]
    },
    {
     "data": {
      "text/plain": [
       "Text(0, 0.5, 'C (mmol/g)')"
      ]
     },
     "execution_count": 2,
     "metadata": {},
     "output_type": "execute_result"
    },
    {
     "data": {
      "image/png": "[encoded data removed]",
      "text/plain": [
       "<Figure size 432x288 with 1 Axes>"
      ]
     },
     "metadata": {
      "needs_background": "light"
     },
     "output_type": "display_data"
    }
   ],
   "source": [
    "m = ConcreteModel()\n",
    "\n",
    "S = list(range(9))\n",
    "\n",
    "m.a = Var(within=Reals)\n",
    "m.b = Var(within=Reals)\n",
    "m.z = Var(S, within=NonNegativeReals)\n",
    "\n",
    "# define constraints\n",
    "def con1(m, i):\n",
    "    return m.z[i] >= m.a*P[i] + m.b - C[i]\n",
    "m.con1 = Constraint(S, rule=con1)\n",
    "\n",
    "def con2(m, i):\n",
    "    return m.z[i] >= - m.a*P[i] - m.b + C[i]\n",
    "m.con2 = Constraint(S, rule=con2)\n",
    "\n",
    "# define the objective function\n",
    "def obj_rule(m):\n",
    "    return sum(m.z[i] for i in S)\n",
    "m.obj = Objective(rule=obj_rule, sense=minimize)\n",
    "\n",
    "# solve the model\n",
    "solver = SolverFactory('glpk')\n",
    "results = solver.solve(m)\n",
    "\n",
    "# print results\n",
    "print(f\"Termination condition: {results.solver.termination_condition}\")\n",
    "print(f\"a: {value(m.a):.4f}\")\n",
    "print(f\"b: {value(m.b):.4f}\")\n",
    "print(f\"optimal sum of absolute errors: {value(m.obj):.4f}\")\n",
    "\n",
    "aopt = value(m.a)\n",
    "bopt = value(m.b)\n",
    "\n",
    "def cpred(press):\n",
    "    return aopt*press + bopt\n",
    "\n",
    "C_Pred = cpred(np.array(P))  \n",
    "plt.scatter(P,C)\n",
    "plt.scatter(P,C_Pred)\n",
    "plt.xlabel('P (atm)')\n",
    "plt.ylabel('C (mmol/g)')\n"
   ]
  },
  {
   "cell_type": "markdown",
   "metadata": {},
   "source": [
    "#### Answer:\n",
    "The problem is an LP, thus we used glpk solver and got a globally optimal solution. \n",
    "For this objective, we found the best solution possible.\n",
    "However, the fit is not good. This was expected since the underlying data is not linear. To get a better fit, a nonlinear approximation model must be used, using a sum of squares objective is not going to get a much better fit. \n"
   ]
  },
  {
   "cell_type": "markdown",
   "metadata": {},
   "source": [
    "## Problem 3 (25 points): Mixed Integer Formulation (only formulation, no solution required)\n",
    "\n",
    "You want to fit a regression function to a set of collected data (total data points collected ) to predict the temperature of a reactor (T) as a function of time (t) .\n",
    "\n",
    "You do not know the best function that describes the data  (e.g., linear, quadratic, polynomial, exponential, combination of above terms etc,). For example, if the best fit was only linear, the final model would be:   \n",
    "$ T = a_{0} + a_{1}t $\n",
    "\n",
    "If the best fit was quadratic, the best model would be: \n",
    "\n",
    "$ T = a_{0} + a_{1}t + a_{2}t^{2} $\n",
    "\n",
    "If both linear and exponential terms are required to fit a good model:   \n",
    "\n",
    "$ T = a_{0} + a_{1}t + a_{2}exp(t) $\n",
    "\n",
    "... and so on, and any combination of the following terms could be possible: \n",
    "$ [1, t, t^{2}, t^{3}, t^{4}, exp(t)] $\n",
    "\n",
    "Write an optimization problem that will simultaneously select the optimal terms of the regression function and also optimize the parameters (coefficients) of the regression function. This mixed-integer nonlinear optimization problem should find the optimal  regression function that fits the data, that only contains at most 4 terms (the constant is considered a term). Clearly define your variables, objective, constraints. \n",
    "\n",
    "1. Any LINEAR combination of the above terms could be the best fit (assume only possibility is to sum these terms \"as-is\" multiplied by their corresponding parameter)\n",
    "2. You want to keep the model as simple as possible,  so ensure at most 4 terms are selected in the final regression model.\n",
    "3. To optimize the parameters, you can use a sum of squared errors objective.\n",
    "4. The parameters/coefficients can take any value between -100 to 100.\n",
    "\n",
    "! Get 2 bonus points if the only nonlinearity of your formulation must be in the objective function and not in the constraints !\n"
   ]
  },
  {
   "cell_type": "markdown",
   "metadata": {},
   "source": [
    "Solution (just type here as you would write, no need to worry too much about writing very neat markdown equations): \n",
    "    \n",
    "    Set: \n",
    "    i = 1,..., N (number of data points available)\n",
    "    j = 1,..,6 (number of possible terms)\n",
    "   \n",
    "    Variables: \n",
    "    Binary variables y_j for every possible term (constant, linear, quadratic... etc)\n",
    "    Real variable: Tpred_i : predictions of Temperature at points i = 1,...,N\n",
    "    Real variables: a_j (parameters for every term)\n",
    "        \n",
    "    Parameters: \n",
    "    t_i: time points for which we have measurements i=1,..., N\n",
    "    T_i: Temperature measured at time points i=1,...,N\n",
    "        \n",
    "    Objective: \n",
    "    min Sum (Tpred_i - T_i)^2   (sum of squared errors between predictions and measurements)\n",
    "        \n",
    "    Constraints:\n",
    "    \n",
    "    Tpred_i = a_1 + a_2*t_i + a_3*t_i^2 + a_4*t_i^3 + a_5*t_i^4 + a_6*exp(t_i) for i = 1,...,N\n",
    "    (above is linear constraint because t_i is a parameter)\n",
    "    \n",
    "    -100*y_j <= a_j <= 100*y_j   for j = 1,..,6 \n",
    "     sum_j (y_j) <= 4",
    "    (making sure all parameter values are within bounds and are switched off (=0), if the binary is 0/term not selected and only up to 4 can be selected.\n",
    "    \n",
    "    y_j = {0,1} (binaries)    \n",
    "        \n",
    "    "
   ]
  },
  {
   "cell_type": "markdown",
   "metadata": {},
   "source": [
    "## Problem 4: Optimization of a 1d function using surrogates (25 points)\n",
    "\n",
    "Assume that g(x) is a noisy black-box simulation that relates an output that must be minimized (y) to an input (x). This means we do not know the exact functional form of g(x) (even though in the next cell g(x) is given as a definition to allow you to collect data). \n",
    "\n",
    "min $g(x)$\n",
    "\n",
    "$ -100 \\le x \\le 10 $\n",
    "\n",
    "$ x + \\frac{1}{100}x^{2} + \\exp{\\frac{x}{20}} $\n",
    "\n",
    "\n",
    "Perform the following: \n",
    "1. Collect a reasonable number of data points from the simulation (not too few, not too many either if you consider what it affects with respect to the optimization formulation). \n",
    "2. Fit a quadratic model to the data you obtained using Pyomo.\n",
    "3. Optimize the fitted quadratic model and compare the optimal solution you obtained with the true black-box optimum (x = -50.20, y=-24.92). Based on your solution, is the quadratic a good approximation of your b-b problem?\n"
   ]
  },
  {
   "cell_type": "code",
   "execution_count": 3,
   "metadata": {},
   "outputs": [
    {
     "data": {
      "image/png": "[encoded data removed]",
      "text/plain": [
       "<Figure size 432x288 with 1 Axes>"
      ]
     },
     "metadata": {
      "needs_background": "light"
     },
     "output_type": "display_data"
    }
   ],
   "source": [
    "%matplotlib inline\n",
    "from pylab import *\n",
    "import numpy as np\n",
    "\n",
    "def bbf(xin):\n",
    "    return xin + (1/100)*xin**2 + exp(xin/20)  + np.random.normal(0, 0.1, len(xin)) \n",
    " \n",
    "\n",
    "x = linspace(-100,10,100)\n",
    "y = bbf(x)\n",
    "plot(x,y)\n",
    "xlabel('x')\n",
    "ylabel('fx')\n",
    "show()\n"
   ]
  },
  {
   "cell_type": "code",
   "execution_count": 4,
   "metadata": {},
   "outputs": [
    {
     "name": "stdout",
     "output_type": "stream",
     "text": [
      "2 Set Declarations\n",
      "    con_index : Size=1, Index=None, Ordered=Insertion\n",
      "        Key  : Dimen : Domain : Size : Members\n",
      "        None :     1 :    Any :   10 : {1, 2, 3, 4, 5, 6, 7, 8, 9, 10}\n",
      "    ypred_index : Size=1, Index=None, Ordered=Insertion\n",
      "        Key  : Dimen : Domain : Size : Members\n",
      "        None :     1 :    Any :   10 : {1, 2, 3, 4, 5, 6, 7, 8, 9, 10}\n",
      "\n",
      "4 Var Declarations\n",
      "    a0 : Size=1, Index=None\n",
      "        Key  : Lower : Value              : Upper : Fixed : Stale : Domain\n",
      "        None :  None : 1.0641597585493714 :  None : False : False :  Reals\n",
      "    a1 : Size=1, Index=None\n",
      "        Key  : Lower : Value             : Upper : Fixed : Stale : Domain\n",
      "        None :  None : 1.033001026943665 :  None : False : False :  Reals\n",
      "    a2 : Size=1, Index=None\n",
      "        Key  : Lower : Value                : Upper : Fixed : Stale : Domain\n",
      "        None :  None : 0.010227814959260197 :  None : False : False :  Reals\n",
      "    ypred : Size=10, Index=ypred_index\n",
      "        Key : Lower : Value               : Upper : Fixed : Stale : Domain\n",
      "          1 :  None : 0.04220665678486047 :  None : False : False :  Reals\n",
      "          2 :  None : -10.805691914230506 :  None : False : False :  Reals\n",
      "          3 :  None : -18.597872929516228 :  None : False : False :  Reals\n",
      "          4 :  None : -23.334336389072387 :  None : False : False :  Reals\n",
      "          5 :  None :  -25.01508229289896 :  None : False : False :  Reals\n",
      "          6 :  None : -23.640110640995946 :  None : False : False :  Reals\n",
      "          7 :  None : -19.209421433363335 :  None : False : False :  Reals\n",
      "          8 :  None :  -11.72301467000114 :  None : False : False :  Reals\n",
      "          9 :  None : -1.1808903509093462 :  None : False : False :  Reals\n",
      "         10 :  None :   12.41695152391204 :  None : False : False :  Reals\n",
      "\n",
      "1 Objective Declarations\n",
      "    obj : Size=1, Index=None, Active=True\n",
      "        Key  : Active : Sense    : Expression\n",
      "        None :   True : minimize : (ypred[1] + 0.12251110982220038)**2 + (ypred[2] + 10.577557104658164)**2 + (ypred[3] + 18.69878136115597)**2 + (ypred[4] + 23.268064788278174)**2 + (ypred[5] + 24.98757432841522)**2 + (ypred[6] + 23.49861746512365)**2 + (ypred[7] + 19.315341928678382)**2 + (ypred[8] + 11.86222390177717)**2 + (ypred[9] + 1.3221120877222987)**2 + (ypred[10] - 12.605521635340283)**2\n",
      "\n",
      "1 Constraint Declarations\n",
      "    con : Size=10, Index=con_index, Active=True\n",
      "        Key : Lower : Body                                                          : Upper : Active\n",
      "          1 :   0.0 :                         a0 - 100.0*a1 + 10000.0*a2 - ypred[1] :   0.0 :   True\n",
      "          2 :   0.0 :   a0 - 87.77777777777777*a1 + 7704.938271604937*a2 - ypred[2] :   0.0 :   True\n",
      "          3 :   0.0 :   a0 - 75.55555555555556*a1 + 5708.641975308642*a2 - ypred[3] :   0.0 :   True\n",
      "          4 :   0.0 : a0 - 63.333333333333336*a1 + 4011.1111111111113*a2 - ypred[4] :   0.0 :   True\n",
      "          5 :   0.0 :  a0 - 51.111111111111114*a1 + 2612.345679012346*a2 - ypred[5] :   0.0 :   True\n",
      "          6 :   0.0 :   a0 - 38.88888888888889*a1 + 1512.345679012346*a2 - ypred[6] :   0.0 :   True\n",
      "          7 :   0.0 :   a0 - 26.66666666666667*a1 + 711.1111111111113*a2 - ypred[7] :   0.0 :   True\n",
      "          8 :   0.0 : a0 - 14.444444444444457*a1 + 208.64197530864234*a2 - ypred[8] :   0.0 :   True\n",
      "          9 :   0.0 :    a0 - 2.2222222222222285*a1 + 4.9382716049383*a2 - ypred[9] :   0.0 :   True\n",
      "         10 :   0.0 :                           a0 + 10.0*a1 + 100.0*a2 - ypred[10] :   0.0 :   True\n",
      "\n",
      "8 Declarations: ypred_index ypred a0 a1 a2 con_index con obj\n",
      "optimal sum of absolute errors: 0.2006\n"
     ]
    },
    {
     "data": {
      "image/png": "[encoded data removed]",
      "text/plain": [
       "<Figure size 432x288 with 1 Axes>"
      ]
     },
     "metadata": {
      "needs_background": "light"
     },
     "output_type": "display_data"
    }
   ],
   "source": [
    "#Design of Experiments/Sampling for fitting:\n",
    "xdoe = linspace(-100,10,10) # Collected 10 points is a reasobable assumption. 2 would be wrong because it is nonlinear function, \n",
    "                            # 3 would be too few but could work depending on where you place them, anything between 5 - 10 is ideal.\n",
    "ydoe = bbf(xdoe)\n",
    "\n",
    "mfit = ConcreteModel()\n",
    "\n",
    "mfit.s = [1,2,3,4,5,6,7,8,9,10]\n",
    "mfit.xact = {1:xdoe[0], 2:xdoe[1],3:xdoe[2],4:xdoe[3],5:xdoe[4],6:xdoe[5],7:xdoe[6],8:xdoe[7],9:xdoe[8],10:xdoe[9]}\n",
    "mfit.yact = {1:ydoe[0], 2:ydoe[1],3:ydoe[2],4:ydoe[3],5:ydoe[4],6:ydoe[5],7:ydoe[6],8:ydoe[7],9:ydoe[8],10:ydoe[9]}\n",
    "\n",
    "mfit.ypred = Var(mfit.s, within = Reals)\n",
    "mfit.a0 = Var(within = Reals) #constant parameter\n",
    "mfit.a1 = Var(within = Reals) #linear term parameter\n",
    "mfit.a2 = Var(within = Reals) #quadratic term parameter\n",
    "\n",
    "\n",
    "#Define Constraint & Objective:\n",
    "def con_rule(mfit,i): # postulated function is: y=a + b*x_1 + c*x_2 + d*x_1*x_2\n",
    "    return ((mfit.a0 + mfit.a1*mfit.xact[i] + mfit.a2*mfit.xact[i]**2) - mfit.ypred[i] == 0)\n",
    "\n",
    "#Instead of defining the constraint as we did above, we now set it equal to the rule.\n",
    "mfit.con = Constraint(mfit.s, rule=con_rule)\n",
    "\n",
    "def obj_rule(mfit): \n",
    "    return sum((mfit.ypred[i]-mfit.yact[i])**2 for i in mfit.s)\n",
    "\n",
    "\n",
    "#Instead of defining the objective as we did above, we now set it equal to the rule.\n",
    "mfit.obj = Objective(rule=obj_rule) \n",
    "\n",
    "#same as above:\n",
    "solver = SolverFactory('ipopt')\n",
    "solver.solve(mfit)\n",
    "mfit.pprint()\n",
    "print(f\"optimal sum of absolute errors: {value(mfit.obj):.4f}\")\n",
    "\n",
    "optimala0 = value(mfit.a0)\n",
    "optimala1 = value(mfit.a1)\n",
    "optimala2 = value(mfit.a2)\n",
    "\n",
    "def surr(xin):\n",
    "    return optimala0 + optimala1*xin + optimala2*xin**2\n",
    "\n",
    "ysurr = surr(x)\n",
    "plot(x,ysurr)\n",
    "plot(x,y,'--')\n",
    "xlabel('x')\n",
    "ylabel('f')\n",
    "show()"
   ]
  },
  {
   "cell_type": "code",
   "execution_count": 5,
   "metadata": {},
   "outputs": [
    {
     "name": "stdout",
     "output_type": "stream",
     "text": [
      "1 Var Declarations\n",
      "    x : Size=1, Index=None\n",
      "        Key  : Lower : Value               : Upper : Fixed : Stale : Domain\n",
      "        None :  -100 : -50.499595028319725 :    10 : False : False :  Reals\n",
      "\n",
      "1 Objective Declarations\n",
      "    obj : Size=1, Index=None, Active=True\n",
      "        Key  : Active : Sense    : Expression\n",
      "        None :   True : minimize : 1.0641597585493714 + 1.033001026943665*x + 0.010227814959260197*x**2\n",
      "\n",
      "2 Declarations: x obj\n",
      "global optimum: -25.0189\n"
     ]
    }
   ],
   "source": [
    "from pyomo.environ import *\n",
    "\n",
    "model = ConcreteModel()\n",
    "model.x = Var(within=Reals, bounds = (-100,10))\n",
    "\n",
    "model.obj = Objective(expr= optimala0 + optimala1*model.x + optimala2*model.x**2)\n",
    "solver = SolverFactory('ipopt')\n",
    "solver.solve(model)\n",
    "model.pprint()\n",
    "print(f\"global optimum: {value(model.obj):.4f}\")"
   ]
  },
  {
   "cell_type": "markdown",
   "metadata": {},
   "source": [
    "#### Answer: \n",
    "\n",
    "The fit is almost perfect, so this model is well approximated by a quadratic function within this range.\n",
    "When we optimize the quadratic function, we get really close to the global minimum, as expected.\n",
    "\n",
    "# The End.. THANK YOU and GOOD LUCK!"
   ]
  }
 ],
 "metadata": {
  "kernelspec": {
   "display_name": "Python 3",
   "language": "python",
   "name": "python3"
  },
  "language_info": {
   "codemirror_mode": {
    "name": "ipython",
    "version": 3
   },
   "file_extension": ".py",
   "mimetype": "text/x-python",
   "name": "python",
   "nbconvert_exporter": "python",
   "pygments_lexer": "ipython3",
   "version": "3.8.5"
  }
 },
 "nbformat": 4,
 "nbformat_minor": 4
}
