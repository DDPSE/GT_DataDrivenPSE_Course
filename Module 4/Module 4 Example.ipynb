{
 "cells": [
  {
   "cell_type": "markdown",
   "metadata": {},
   "source": [
    "## CSTR Non-linear Example"
   ]
  },
  {
   "cell_type": "markdown",
   "metadata": {},
   "source": [
    "This shows plain simulation of coupled ordinary differential equations."
   ]
  },
  {
   "cell_type": "code",
   "execution_count": 96,
   "metadata": {},
   "outputs": [
    {
     "name": "stdout",
     "output_type": "stream",
     "text": [
      "Outlet c_A: 0.16417005073230254\n",
      "Outlet c_B: 1.311114085898802\n",
      "Outlet c_C: 0.5247158633688539\n"
     ]
    }
   ],
   "source": [
    "from pyomo.dae import *\n",
    "kA  = 0.5   \n",
    "kB  = 0.1   \n",
    "cA0 = 2.0   \n",
    "\n",
    "m = ConcreteModel()\n",
    "\n",
    "m.t = ContinuousSet(bounds=(0, 5))\n",
    "\n",
    "m.cA = Var(m.t, domain=NonNegativeReals)\n",
    "m.cB = Var(m.t, domain=NonNegativeReals)\n",
    "m.cC = Var(m.t, domain=NonNegativeReals)\n",
    "\n",
    "m.dcA = DerivativeVar(m.cA)\n",
    "m.dcB = DerivativeVar(m.cB)\n",
    "m.dcC = DerivativeVar(m.cC)\n",
    "\n",
    "m.odeA = Constraint(m.t,\n",
    "    rule=lambda m, t: m.dcA[t] == (-kA*m.cA[t]) if t > 0 else Constraint.Skip)\n",
    "m.odeB = Constraint(m.t,\n",
    "    rule=lambda m, t: m.dcB[t] == (kA*m.cA[t] - kB*m.cB[t]) if t > 0 else Constraint.Skip)\n",
    "m.odeC = Constraint(m.t,\n",
    "    rule=lambda m, t: m.dcC[t] == (kB*m.cB[t]) if t > 0 else Constraint.Skip)\n",
    "\n",
    "m.ic = ConstraintList()\n",
    "m.ic.add(m.cA[0]  == cAf)\n",
    "m.ic.add(m.cB[0]  == 0)\n",
    "m.ic.add(m.cC[0]  == 0)\n",
    "\n",
    "TransformationFactory('dae.collocation').apply_to(m)\n",
    "SolverFactory('ipopt').solve(m)\n",
    "print('Outlet c_A:', m.cA[5]())\n",
    "print('Outlet c_B:', m.cB[5]())\n",
    "print('Outlet c_C:', m.cC[5]())"
   ]
  },
  {
   "cell_type": "markdown",
   "metadata": {},
   "source": [
    "Here we transform into non-dimensional variables, then optimize with respect to time."
   ]
  },
  {
   "cell_type": "code",
   "execution_count": 97,
   "metadata": {},
   "outputs": [
    {
     "name": "stdout",
     "output_type": "stream",
     "text": [
      "Maximum Profit is $ 14.697171916092724 with residence time: 4.7605927456556 minutes.\n",
      "Outlet c_A: 0.18504634917716825\n",
      "Outlet c_B: 1.321758709089196\n",
      "Outlet c_C: 0.4931949417335876\n"
     ]
    }
   ],
   "source": [
    "kA  = 0.5   \n",
    "kB  = 0.1   \n",
    "cA0 = 2.0   \n",
    "\n",
    "m = ConcreteModel()\n",
    "\n",
    "m.tau = ContinuousSet(bounds=(0, 1))\n",
    "\n",
    "m.tf = Var(domain=NonNegativeReals)\n",
    "m.cA = Var(m.tau, domain=NonNegativeReals)\n",
    "m.cB = Var(m.tau, domain=NonNegativeReals)\n",
    "m.cC = Var(m.tau, domain=NonNegativeReals)\n",
    "\n",
    "m.dcA = DerivativeVar(m.cA)\n",
    "m.dcB = DerivativeVar(m.cB)\n",
    "m.dcC = DerivativeVar(m.cC)\n",
    "\n",
    "m.odeA = Constraint(m.tau,\n",
    "    rule=lambda m, tau: m.dcA[tau] == m.tf*(-kA*m.cA[tau]) if tau > 0 else Constraint.Skip)\n",
    "m.odeB = Constraint(m.tau,\n",
    "    rule=lambda m, tau: m.dcB[tau] == m.tf*(kA*m.cA[tau] - kB*m.cB[tau]) if tau > 0 else Constraint.Skip)\n",
    "m.odeC = Constraint(m.tau,\n",
    "    rule=lambda m, tau: m.dcC[tau] == m.tf*(kB*m.cB[tau]) if tau > 0 else Constraint.Skip)\n",
    "\n",
    "m.ic = ConstraintList()\n",
    "m.ic.add(m.cA[0]  == cAf)\n",
    "m.ic.add(m.cB[0]  == 0)\n",
    "m.ic.add(m.cC[0]  == 0)\n",
    "\n",
    "m.obj = Objective(expr=m.cB[1]*10+m.cC[1]*3, sense=maximize)\n",
    "\n",
    "TransformationFactory('dae.collocation').apply_to(m)\n",
    "SolverFactory('ipopt').solve(m)\n",
    "print('Maximum Profit is $', 10*m.cB[1]()+3*m.cC[1](), 'with residence time:', m.tf(), 'minutes.')\n",
    "print('Outlet c_A:', m.cA[1]())\n",
    "print('Outlet c_B:', m.cB[1]())\n",
    "print('Outlet c_C:', m.cC[1]())"
   ]
  },
  {
   "cell_type": "code",
   "execution_count": null,
   "metadata": {},
   "outputs": [],
   "source": []
  }
 ],
 "metadata": {
  "kernelspec": {
   "display_name": "Python 3",
   "language": "python",
   "name": "python3"
  },
  "language_info": {
   "codemirror_mode": {
    "name": "ipython",
    "version": 3
   },
   "file_extension": ".py",
   "mimetype": "text/x-python",
   "name": "python",
   "nbconvert_exporter": "python",
   "pygments_lexer": "ipython3",
   "version": "3.7.6"
  }
 },
 "nbformat": 4,
 "nbformat_minor": 2
}
