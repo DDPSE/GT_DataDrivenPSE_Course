{
 "cells": [
  {
   "cell_type": "markdown",
   "metadata": {
    "id": "3c0UslZimIaV"
   },
   "source": [
    "# Python Recitation - Part 2\n",
    "\n",
    "## Reminders from Part 1:\n",
    "In the first recitation we covered:\n",
    "- Jupyter Notebooks: how to open, navigate, save these files\n",
    "- Key advantages/challenges of Python (especially when in comparison to Matlab)\n",
    "- Key differences in indexing, arrays/matrices in Python vs Matlab\n",
    "- Importing modules/packages/libraries\n",
    "- Python lists and numpy arrays\n",
    "- Creating if/else, for statements\n",
    "- Creating functions\n",
    "- Plotting data\n",
    "\n",
    "\n",
    "In this second part, the learning outcomes are:\n",
    "\n",
    "- Use basic operators\n",
    "- Learn how to read data from excel files using \"pandas\"\n",
    "- Learn how to create, edit, manipulate Python dataframes\n",
    "- Plot 2-dimensional data\n",
    "- Optimize a function using simple Python solvers\n"
   ]
  },
  {
   "cell_type": "markdown",
   "metadata": {
    "id": "9XnKEAX2nz4f"
   },
   "source": [
    "### Basic Operators in Python\n",
    "\n",
    "- Arithetic operators are mostly the same with Matlab: \n",
    "\n",
    "$ + $ add </br> \n",
    "$ - $ subtract </br>\n",
    "$ / $ divide </br>\n",
    "$ // $ integer division </br>\n",
    "$ ** $ power </br>\n",
    "\n",
    "- Equalities/Logical Statements:\n",
    "\n",
    "Comparisons can be made using \n",
    "$ \\le, \\ge, ==, \\lt, \\gt $\n"
   ]
  },
  {
   "cell_type": "code",
   "execution_count": 3,
   "metadata": {
    "colab": {
     "base_uri": "https://localhost:8080/"
    },
    "id": "gjyd76Iqo-Oi",
    "outputId": "c263047c-6dbf-481a-f74b-3e94af7dfdd8"
   },
   "outputs": [
    {
     "name": "stdout",
     "output_type": "stream",
     "text": [
      "5\n",
      "1.5\n",
      "1\n",
      "9\n",
      "True\n",
      "True\n"
     ]
    }
   ],
   "source": [
    "print(3+2)\n",
    "print(3/2)\n",
    "print(3//2)\n",
    "print(3**2)\n",
    "\n",
    "print(2>1)\n",
    "print(2==2)"
   ]
  },
  {
   "cell_type": "markdown",
   "metadata": {
    "id": "S-zNbYyulw_B"
   },
   "source": [
    "### Different types of data structures in Python\n",
    "\n",
    "So far we have seen lists and numpy arrays (see simple reminders below).\n",
    "\n",
    "However, when dealing with more complex data sets, with multiple columns and rows, you can use more sophisticated forms of data structures that enable more efficient manipulation, accessing of specific rows/columns, labeling, visualizing etc. \n",
    "\n",
    "The types we'll learn today are: \n",
    "- Dictionaries (*like lists with key-value pairs*)\n",
    "- DataFrames (*some similarities exist to these in Matlab, if you use Matlab's \"readtable\" to read data from external file*).\n",
    "\n",
    "\n"
   ]
  },
  {
   "cell_type": "code",
   "execution_count": 4,
   "metadata": {
    "colab": {
     "base_uri": "https://localhost:8080/"
    },
    "id": "Xj6oRENbs0S9",
    "outputId": "11411f1b-02c1-4a5a-8eb5-1f80817e135d"
   },
   "outputs": [
    {
     "name": "stdout",
     "output_type": "stream",
     "text": [
      "[1.0, 2.0, 3.0]\n",
      "{'parameter1': 1.0, 'parameter2': 2.0, 'parameter3': 3.0}\n",
      "{'p1': 1, 'p2': 'A', 'p3': 0.4}\n"
     ]
    }
   ],
   "source": [
    "#Dictionaries:\n",
    "\n",
    "#Reminder of lists:\n",
    "list_example = [1.0,2.0,3.0]\n",
    "print(list_example)\n",
    "\n",
    "#Dictionary has labels for elements of list:\n",
    "dict_example = {\"parameter1\": 1.0, \"parameter2\": 2.0, \"parameter3\":3.0}\n",
    "print(dict_example)\n",
    "\n",
    "#Lists and dictionaries can have different types in their elements:\n",
    "mixed_dict = {\"p1\":1, \"p2\":\"A\", \"p3\": 0.4}\n",
    "print(mixed_dict)"
   ]
  },
  {
   "cell_type": "markdown",
   "metadata": {
    "id": "82wM7EwuujhU"
   },
   "source": [
    "#### Accessing, Manipulating Dictionaries:\n",
    "\n",
    "You can access different elements of dictionaries, add new elements etc as follows:\n",
    "\n"
   ]
  },
  {
   "cell_type": "code",
   "execution_count": 5,
   "metadata": {
    "colab": {
     "base_uri": "https://localhost:8080/"
    },
    "id": "PaPUkMS5u2Hc",
    "outputId": "4b14f277-8f15-4892-f9da-bd1ffb112236"
   },
   "outputs": [
    {
     "name": "stdout",
     "output_type": "stream",
     "text": [
      "1.0\n",
      "1\n",
      "{'parameter1': 1.0, 'parameter2': 2.0, 'parameter3': 3.0, 'parameter4': 4.0}\n"
     ]
    }
   ],
   "source": [
    "# Print the first element of list/dictionary:\n",
    "print(list_example[0])\n",
    "print(mixed_dict[\"p1\"])\n",
    "\n",
    "# Add an element to end of dict_example:\n",
    "\n",
    "dict_example[\"parameter4\"] = 4.0\n",
    "print(dict_example)"
   ]
  },
  {
   "cell_type": "markdown",
   "metadata": {
    "id": "aH6es4lAxZgQ"
   },
   "source": [
    "### DataFrames\n",
    "\n",
    "- Often you've created a dataset outside of Python (for example, in ASPEN or in your experimental lab), but you'd like to import them in Python for further analysis, plotting etc. \n",
    "- These files are usually in Excel or csv format\n",
    "- A very useful library for reading/writing these external files is \"pandas\"\n",
    "- When reading external data using pandas, they are created as a *DataFrame* structure.\n",
    "- First, to see connections/similarities/differences of DataFrames with lists or dictionaries, let's convert them into DataFrames"
   ]
  },
  {
   "cell_type": "code",
   "execution_count": 6,
   "metadata": {
    "colab": {
     "base_uri": "https://localhost:8080/"
    },
    "id": "ApcdVxeu6Gr7",
    "outputId": "2f3caf29-a9b3-40f8-bd8a-9c948e5f9fea"
   },
   "outputs": [
    {
     "name": "stdout",
     "output_type": "stream",
     "text": [
      "{'col1': [1, 2], 'col2': [3, 4]}\n",
      "   col1  col2\n",
      "0     1     3\n",
      "1     2     4\n",
      "[[1 2 3]\n",
      " [4 5 6]\n",
      " [7 8 9]]\n",
      "   col1  col2  col3\n",
      "0     1     2     3\n",
      "1     4     5     6\n",
      "2     7     8     9\n"
     ]
    }
   ],
   "source": [
    "# Example from https://pandas.pydata.org/docs/reference/api/pandas.DataFrame.html\n",
    "# Convert a 2D dictionary into a DataFrame:\n",
    "\n",
    "import pandas as pd\n",
    "import numpy as np\n",
    "\n",
    "d = {\"col1\": [1,2], \"col2\" : [3,4]}\n",
    "print(d)\n",
    "\n",
    "df = pd.DataFrame(data=d)\n",
    "print(df)\n",
    "\n",
    "#Convert a nd.array into a DataFrame:\n",
    "A = np.array([[1,2,3],[4,5,6],[7,8,9]])\n",
    "print(A)\n",
    "\n",
    "df2 = pd.DataFrame(A, columns = ['col1','col2','col3'])\n",
    "print(df2)\n",
    "\n"
   ]
  },
  {
   "cell_type": "markdown",
   "metadata": {
    "id": "DS_2fGyQ7cNW"
   },
   "source": [
    "### Exercise: Add row names to df2. I will not show you how to do this, but you can use any resources available to you to do it. \n",
    "\n",
    "Examples of resources:\n",
    "1. Copy line of code creating df2 and start typing, you'll see a list of attributes you can set.\n",
    "2. Google pandas dataframe, add row labels, find an example\n",
    "3. Go to https://pandas.pydata.org/docs/reference/api/pandas.DataFrame.html and see the list of attributes you can set\n",
    "4. Use the help() function"
   ]
  },
  {
   "cell_type": "code",
   "execution_count": 7,
   "metadata": {
    "colab": {
     "base_uri": "https://localhost:8080/"
    },
    "id": "ee8JuACf9CIC",
    "outputId": "6252c7ad-b503-45a7-9157-d9936279769c"
   },
   "outputs": [
    {
     "name": "stdout",
     "output_type": "stream",
     "text": [
      "    col1  col2  col3\n",
      "r1     1     2     3\n",
      "r2     4     5     6\n",
      "r3     7     8     9\n"
     ]
    }
   ],
   "source": [
    "# Exercise solution\n",
    "df2 = pd.DataFrame(A, columns = ['col1','col2','col3'],index=['r1','r2','r3'])\n",
    "print(df2)\n",
    "#add row names:\n",
    "\n",
    "#print new df2:"
   ]
  },
  {
   "cell_type": "markdown",
   "metadata": {
    "id": "FwAWdjRq9XXC"
   },
   "source": [
    "#### Reading from excel file using Pandas\n",
    "\n",
    "In this example, we will learn how to import an excel file in this workspace and then read it into Python to create a DataFrame"
   ]
  },
  {
   "cell_type": "code",
   "execution_count": 8,
   "metadata": {},
   "outputs": [
    {
     "name": "stdout",
     "output_type": "stream",
     "text": [
      "  Unnamed: 0  Var1  Var2  Var3        Var4\n",
      "0    Sample1   100    10   0.8    Feasible\n",
      "1    Sample2   130     5   0.7  Infeasible\n",
      "2    Sample3   140    15   0.9    Feasible\n"
     ]
    }
   ],
   "source": [
    "# Reading an Excel File in Pandas\n",
    "import pandas as pd\n",
    "\n",
    "data = pd.read_excel('sample.xlsx')\n",
    "print(data)\n",
    "\n",
    "#df.to_excel(\"output.xlsx\")"
   ]
  },
  {
   "cell_type": "markdown",
   "metadata": {
    "id": "0IzVBA1Hoplr"
   },
   "source": [
    "What is wrong with the above code?\n",
    "\n",
    "- Rows/Columns not named correctly \n",
    "- Row names have been made into column"
   ]
  },
  {
   "cell_type": "code",
   "execution_count": 9,
   "metadata": {
    "colab": {
     "base_uri": "https://localhost:8080/"
    },
    "id": "6waVjeo9bbp5",
    "outputId": "f64aefc5-a907-496a-81b0-71753d43fe87"
   },
   "outputs": [
    {
     "name": "stdout",
     "output_type": "stream",
     "text": [
      "         Var1  Var2  Var3        Var4\n",
      "Sample1   100    10   0.8    Feasible\n",
      "Sample2   130     5   0.7  Infeasible\n",
      "Sample3   140    15   0.9    Feasible\n"
     ]
    }
   ],
   "source": [
    "# You need to specify that the first column of excel sheet contains labels for rows: (use index_col)\n",
    "data = pd.read_excel('sample.xlsx',index_col=0)\n",
    "print(data)"
   ]
  },
  {
   "cell_type": "markdown",
   "metadata": {
    "id": "P-uOnOjnqXQh"
   },
   "source": [
    "### DataFrame manipulations:\n",
    "\n",
    "You can do all sorts of things with dataframes, like drop a row or column, add a row/column, calculate averages etc.\n",
    "\n",
    "Below are some examples:"
   ]
  },
  {
   "cell_type": "code",
   "execution_count": 10,
   "metadata": {
    "colab": {
     "base_uri": "https://localhost:8080/"
    },
    "id": "L8NxjA7BqkZ2",
    "outputId": "b634da80-558e-4876-847e-87c96e585690"
   },
   "outputs": [
    {
     "name": "stdout",
     "output_type": "stream",
     "text": [
      "         Var1  Var2  Var3\n",
      "Sample1   100    10   0.8\n",
      "Sample2   130     5   0.7\n",
      "Sample3   140    15   0.9\n",
      "         Var1  Var2  Var3        Var4\n",
      "Sample1   100    10   0.8    Feasible\n",
      "Sample2   130     5   0.7  Infeasible\n",
      "Sample1      Feasible\n",
      "Sample2    Infeasible\n",
      "Sample3      Feasible\n",
      "Name: Var4, dtype: object\n",
      "100\n",
      "         Var1  Var2  Var3        Var4\n",
      "Sample2   130     5   0.7  Infeasible\n",
      "Sample3   140    15   0.9    Feasible\n",
      "Var1    123.333333\n",
      "Var2     10.000000\n",
      "Var3      0.800000\n",
      "dtype: float64\n"
     ]
    }
   ],
   "source": [
    "data_num = data.drop(\"Var4\", axis = 1)\n",
    "print(data_num)\n",
    "\n",
    "less_data = data.drop(\"Sample3\", axis = 0)\n",
    "print(less_data)\n",
    "\n",
    "#Access only 1 column:\n",
    "print(data['Var4'])\n",
    "\n",
    "#Access 1 element:\n",
    "print(data.loc['Sample1']['Var1'])\n",
    "\n",
    "#Access rows based on condition:\n",
    "print(data[data.Var1 >= 130])\n",
    "\n",
    "#Calculate statistics:\n",
    "data_mean = data_num.mean(axis = 0)\n",
    "print(data_mean)"
   ]
  },
  {
   "cell_type": "markdown",
   "metadata": {
    "id": "3F5Rm0AxxL5H"
   },
   "source": [
    "#### 2D Visualization Example:\n",
    "\n",
    "In the following example, we will use a defined function to generate input (x,y) and output (z) data and:\n",
    "- Visualize it in a 2d plot\n",
    "- Optimize the function using Python solvers (fmin of Matlab)\n",
    "\n",
    "Relation to ChBE 4510:\n",
    "- Let's assume this is a data set where x is temperature, y is pressure, z is duty from a process.\n",
    "- We have collected sensitivity analysis data from ASPEN and we have fit a correlation that describes x,y --> z relationship (more on how to do this in next recitation!)\n",
    "\n",
    "- We want to find the temperature and pressure to minimize duty."
   ]
  },
  {
   "cell_type": "code",
   "execution_count": 11,
   "metadata": {
    "colab": {
     "base_uri": "https://localhost:8080/",
     "height": 248
    },
    "id": "Ns025G6PzULi",
    "outputId": "2c0d7693-2fa4-4301-fb1e-334dd60ea06c"
   },
   "outputs": [
    {
     "data": {
      "image/png": "[encoded data removed]",
      "text/plain": [
       "<Figure size 432x288 with 1 Axes>"
      ]
     },
     "metadata": {
      "needs_background": "light"
     },
     "output_type": "display_data"
    }
   ],
   "source": [
    "import matplotlib.pyplot as plt\n",
    "from mpl_toolkits import mplot3d\n",
    "import numpy as np\n",
    "\n",
    "x = np.linspace(100,200)\n",
    "y = np.linspace(1,5)\n",
    "\n",
    "def f(x, y):\n",
    "    return (1.0-x)**2+100*(y-x**2)**2 \n",
    "\n",
    "X, Y = np.meshgrid(x,y)\n",
    "Z = np.zeros((50,50))\n",
    "\n",
    "\n",
    "for i in range(50):\n",
    "    for j in range(50):\n",
    "        Z[i,j] = f(X[i,j],Y[i,j])\n",
    "\n",
    "fig = plt.figure()\n",
    "ax = plt.axes(projection='3d')\n",
    "surf = ax.plot_surface(X, Y, Z,linewidth=0, antialiased=False,cmap='terrain')\n",
    "ax.view_init(30, -110)\n",
    "plt.show()"
   ]
  },
  {
   "cell_type": "markdown",
   "metadata": {
    "id": "BXx26mQS2rbe"
   },
   "source": [
    "### 2D Optimization Example \n",
    "\n",
    "The good thing about having a function is that we can find the minimum mathematically (not just visually)\n",
    "\n",
    "Python has a similar library of Mimimization solvers to help you do this.\n",
    "\n",
    "This is very similar to Matlab's fmin or fmincon functions\n",
    "\n"
   ]
  },
  {
   "cell_type": "code",
   "execution_count": 12,
   "metadata": {
    "colab": {
     "base_uri": "https://localhost:8080/"
    },
    "id": "6vymR2eR3Bm4",
    "outputId": "181ea509-0483-4598-88b0-e823c5ccd64d"
   },
   "outputs": [
    {
     "name": "stdout",
     "output_type": "stream",
     "text": [
      "[0.99998704 0.99997583]\n"
     ]
    }
   ],
   "source": [
    "import scipy.optimize as opt\n",
    "\n",
    "def f(x):\n",
    "    return (1.0-x[0])**2+100*(x[1]-x[0]**2)**2 \n",
    "\n",
    "\n",
    "x0 = [140,5]\n",
    "res = opt.minimize(f,x0,method='nelder-mead')\n",
    "print(res.x)"
   ]
  },
  {
   "cell_type": "markdown",
   "metadata": {
    "id": "EjQL-7N-49Rf"
   },
   "source": [
    "What is the problem with this solution?\n",
    "\n",
    "Final Exercise: Figure out how to add bounds"
   ]
  },
  {
   "cell_type": "code",
   "execution_count": 13,
   "metadata": {
    "colab": {
     "base_uri": "https://localhost:8080/"
    },
    "id": "5iq2CYAL8K7T",
    "outputId": "0f8c21c5-04d5-45ca-ed19-e8a216eb1c29"
   },
   "outputs": [
    {
     "name": "stdout",
     "output_type": "stream",
     "text": [
      "[100.   5.]\n"
     ]
    }
   ],
   "source": [
    "bnds = ((100, 200), (1, 5))\n",
    "x0 = [140,5]\n",
    "res = opt.minimize(f, x0, method='TNC', bounds=bnds)\n",
    "print(res.x)"
   ]
  },
  {
   "cell_type": "code",
   "execution_count": null,
   "metadata": {},
   "outputs": [],
   "source": []
  }
 ],
 "metadata": {
  "colab": {
   "provenance": []
  },
  "kernelspec": {
   "display_name": "Python 3 (ipykernel)",
   "language": "python",
   "name": "python3"
  },
  "language_info": {
   "codemirror_mode": {
    "name": "ipython",
    "version": 3
   },
   "file_extension": ".py",
   "mimetype": "text/x-python",
   "name": "python",
   "nbconvert_exporter": "python",
   "pygments_lexer": "ipython3",
   "version": "3.8.12"
  }
 },
 "nbformat": 4,
 "nbformat_minor": 1
}
