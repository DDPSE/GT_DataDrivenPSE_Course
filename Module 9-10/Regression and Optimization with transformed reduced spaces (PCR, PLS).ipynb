{
 "cells": [
  {
   "cell_type": "markdown",
   "metadata": {},
   "source": [
    "# Introduction\n",
    "\n",
    "## Multivariable Regression vs Principal Component Regression\n",
    "\n",
    "1. **In Multivariable regression, we simply have a set of inputs, assume they are independent and fit a function to all inputs.**\n",
    "\n",
    "<img src=\"Slide1.png\" width=\"500\" />\n",
    "\n",
    "2. **Knowing what you know about PCA, what do you think Principal Component Regression will look like?**\n",
    "\n",
    "<img src=\"Slide2.png\" width=\"500\" />\n",
    "\n",
    "In Figure above: \n",
    " 1. **What is N?** Samples <br>\n",
    " 2. **What is K?** Original Dimensions<br>\n",
    " 3. **What is T matrix?** Transformed data in reduced dimensions (SCORE MATRIX) <br>\n",
    " 4. **What is A???** number of PCS <br>\n",
    " \n",
    "**REMEMBER WHAT PCA DOES:** <br><br>\n",
    "\n",
    "<img src=\"Slide3.png\" width=\"500\" />"
   ]
  },
  {
   "cell_type": "markdown",
   "metadata": {},
   "source": [
    "## Cheddar Cheese Tasting Example\n",
    "\n",
    "**Problem**: A data set has been collected to optimize the taste of aged cheddar cheese. <br>\n",
    "The three attributes that have been measured are: <br>\n",
    "\n",
    "1. Acetic Acid, <br>\n",
    "2. Lactic Acid, <br>\n",
    "3. $H_2S$ <br>\n",
    "\n",
    "The **output** that was measured is: \n",
    "\n",
    "1. Taste <br>\n",
    "\n",
    "30 samples were collected.\n",
    "\n",
    "The data can be found in **cheddar-cheese.xlsx**.\n",
    "\n",
    "**Discussion:** Before we do any analysis, let's think: <br>\n",
    "1. Was this data set designed by a Design of Experiments? <br>\n",
    "2. Do we have enough data? <br>"
   ]
  },
  {
   "cell_type": "code",
   "execution_count": 190,
   "metadata": {},
   "outputs": [
    {
     "name": "stdout",
     "output_type": "stream",
     "text": [
      "      Acetic        H2S    Lactic  Taste\n",
      "1   4.497505   3.123985  1.061236  12.30\n",
      "2   5.204935   5.054121  1.326818  20.90\n",
      "3   5.405840   5.447646  1.393778  39.00\n",
      "4   5.807098   7.507645  1.597249  47.90\n",
      "5   4.631679   3.799417  1.128540   5.60\n",
      "6   5.592451   7.575687  1.552447  25.90\n",
      "7   5.807684   8.705586  1.662952  37.30\n",
      "8   6.098679   7.971007  1.688532  21.90\n",
      "9   4.919122   3.855114  1.196573  18.10\n",
      "10  5.304836   4.189213  1.302061  21.00\n",
      "11  5.777033   6.150966  1.516193  34.90\n",
      "12  6.475253   7.915083  1.770605  57.20\n",
      "13  4.479232   2.996540  1.050129   0.70\n",
      "14  5.230058   4.940561  1.326282  25.90\n",
      "15  6.126628   6.746099  1.627804  54.90\n",
      "16  6.344143   9.582950  1.832257  40.90\n",
      "17  4.784895   3.911490  1.169313  15.90\n",
      "18  5.441115   4.707049  1.361215   6.40\n",
      "19  5.296838   6.186066  1.409553  18.00\n",
      "20  5.521860   9.084304  1.619064  38.90\n",
      "21  4.558389   4.947641  1.174820  14.00\n",
      "22  5.292223   5.218601  1.355554  15.20\n",
      "23  5.417986   9.233039  1.603721  32.00\n",
      "24  5.907461  10.211702  1.767949  56.71\n",
      "25  5.370903   3.665187  1.288314  16.80\n",
      "26  6.052472   3.221293  1.418104  11.60\n",
      "27  6.459172   6.962284  1.714817  26.50\n",
      "28  5.318965   3.909813  1.289962   0.70\n",
      "29  5.700969   6.660539  1.526889  13.40\n",
      "30  6.115576   4.772371  1.517271   5.50\n",
      "[[-1.78862322 -1.34751101 -1.75420173]\n",
      " [-0.52396593 -0.42448704 -0.52957968]\n",
      " [-0.16481235 -0.23629702 -0.22082099]\n",
      " [ 0.55250858  0.7488297   0.71740551]\n",
      " [-1.548763   -1.02450808 -1.4438559 ]\n",
      " [ 0.16878908  0.78136868  0.51081783]\n",
      " [ 0.55355602  1.32170538  1.02036856]\n",
      " [ 1.07376154  0.97041703  1.13831675]\n",
      " [-1.0349081  -0.99787283 -1.13015052]\n",
      " [-0.3453755  -0.83810079 -0.643734  ]\n",
      " [ 0.49876195  0.10004276  0.34364714]\n",
      " [ 1.74695547  0.94367319  1.51676626]\n",
      " [-1.82129041 -1.40845728 -1.80541743]\n",
      " [-0.47905328 -0.47879335 -0.53205123]\n",
      " [ 1.12372569  0.38464551  0.85829428]\n",
      " [ 1.51257223  1.74127584  1.80104734]\n",
      " [-1.27486324 -0.97091268 -1.25584824]\n",
      " [-0.10175116 -0.59046288 -0.37096929]\n",
      " [-0.35967266  0.11682829 -0.14807888]\n",
      " [ 0.04259479  1.50281457  0.8179939 ]\n",
      " [-1.67978295 -0.47540757 -1.23045432]\n",
      " [-0.36792328 -0.34582999 -0.39707184]\n",
      " [-0.14309836  1.57394213  0.74724903]\n",
      " [ 0.73192613  2.04195544  1.50451629]\n",
      " [-0.22726881 -1.08869908 -0.70712233]\n",
      " [ 0.99115784 -1.30097663 -0.10864838]\n",
      " [ 1.71820699  0.48802858  1.25952193]\n",
      " [-0.3201159  -0.97171495 -0.69952307]\n",
      " [ 0.36278335  0.34372916  0.39296579]\n",
      " [ 1.10396849 -0.55922506  0.34861724]]\n"
     ]
    },
    {
     "data": {
      "image/png": "[encoded data removed]",
      "text/plain": [
       "<Figure size 432x288 with 2 Axes>"
      ]
     },
     "metadata": {
      "needs_background": "light"
     },
     "output_type": "display_data"
    }
   ],
   "source": [
    "from pylab import *\n",
    "from sklearn import preprocessing\n",
    "import seaborn as sns\n",
    "# load data using pandas:\n",
    "import pandas\n",
    "cc = pandas.read_excel('cheddar-cheese2.xlsx')\n",
    "cc.index = cc.index + 1 # just so that sample number starts from 1 and not 0\n",
    "print(cc)\n",
    "\n",
    "rname=list(str(i) for i in cc.index)\n",
    "#print(rname)\n",
    "\n",
    "#which columns are x and y data:\n",
    "yinst = ['Taste']\n",
    "xinst = ['Acetic','H2S','Lactic']\n",
    "\n",
    "#create sub-dataframes with input-output:\n",
    "y = cc[yinst].values\n",
    "x = cc[xinst].values\n",
    "\n",
    "#store original data mean and std for transformations later:\n",
    "xmean = x.mean(0)\n",
    "ymean = y.mean()\n",
    "xstd = x.std(0)\n",
    "ystd = y.std()\n",
    "\n",
    "#Transform data - zscore:\n",
    "scaler = preprocessing.StandardScaler()\n",
    "x = scaler.fit_transform(x)\n",
    "y = scaler.fit_transform(y)\n",
    "\n",
    "print(x)\n",
    "\n",
    "### MAKING DICTIONARIES FOR PYTHON:\n",
    "ydic={}\n",
    "for j in yinst:\n",
    "    for i in rname:\n",
    "        ydic[(i,j)]=float((y[int(i)-1]))\n",
    "\n",
    "xdic={}\n",
    "for j in range(len(xinst)):\n",
    "    for i in rname:\n",
    "        xdic[(i,xinst[j])]=x[int(i)-1,j]\n",
    "        \n",
    "        \n",
    "%matplotlib inline\n",
    "xcorr=cc.iloc[:,:3]\n",
    "corr_matrix = xcorr.corr()\n",
    "sns.heatmap(corr_matrix,annot=True)\n",
    "show()"
   ]
  },
  {
   "cell_type": "markdown",
   "metadata": {},
   "source": [
    "### Approach 1: multivariable regression\n",
    "\n",
    "We can assume all inputs are important and independent and fit a 3-dimensional regression function. <br>\n",
    "Using our codes from fitting functions using Pyomo from the past:\n"
   ]
  },
  {
   "cell_type": "code",
   "execution_count": 169,
   "metadata": {},
   "outputs": [
    {
     "name": "stderr",
     "output_type": "stream",
     "text": [
      "<ipython-input-169-040dc2472e74>:17: DeprecationWarning: Calling np.sum(generator) is deprecated, and in the future will give a different result. Use np.sum(np.fromiter(generator)) or the python sum builtin instead.\n",
      "  return (model.b0 + sum((model.bl[j]*model.xs[i,j]) for j in model.n)  + sum((model.bs[j]*model.xs[i,j]**2) for j in model.n))  - model.ypred[i] == 0\n",
      "<ipython-input-169-040dc2472e74>:21: DeprecationWarning: Calling np.sum(generator) is deprecated, and in the future will give a different result. Use np.sum(np.fromiter(generator)) or the python sum builtin instead.\n",
      "  return sum((model.ypred[i]-model.yact[i,j])**2 for i in model.s for j in model.yn)\n"
     ]
    },
    {
     "name": "stdout",
     "output_type": "stream",
     "text": [
      "objective function = 0.38898874170316317\n",
      "parameter values: 0.029609866240745096 -1781836.2517495537 -1612686.0818627914 3055604.743125121 -0.21623962851348155 -0.21646154157303307 0.4030913088154447\n"
     ]
    },
    {
     "data": {
      "image/png": "[encoded data removed]",
      "text/plain": [
       "<Figure size 432x288 with 1 Axes>"
      ]
     },
     "metadata": {
      "needs_background": "light"
     },
     "output_type": "display_data"
    }
   ],
   "source": [
    "from pyomo.environ import *\n",
    "model = ConcreteModel()\n",
    "\n",
    "#Define Data:\n",
    "model.n = xinst \n",
    "model.yn = yinst\n",
    "model.s = rname\n",
    "model.yact = ydic\n",
    "model.xs = xdic\n",
    "\n",
    "model.ypred = Var(model.s)\n",
    "model.b0 = Var() #constant term\n",
    "model.bl = Var(model.n) #linear terms\n",
    "model.bs = Var(model.n) #square terms\n",
    "\n",
    "def con_rule(model,i): # postulated function is: y= b0 + sum_n bl_n*x_n + sum_n bs_n*x_n**2\n",
    "    return (model.b0 + sum((model.bl[j]*model.xs[i,j]) for j in model.n)  + sum((model.bs[j]*model.xs[i,j]**2) for j in model.n))  - model.ypred[i] == 0\n",
    "model.con = Constraint(model.s, rule=con_rule)\n",
    "\n",
    "def obj_rule(model):\n",
    "    return sum((model.ypred[i]-model.yact[i,j])**2 for i in model.s for j in model.yn)\n",
    "model.obj = Objective(rule=obj_rule) #Instead of defining the objective as we did above, we now set it equal to the rule.\n",
    "\n",
    "#same as above:\n",
    "solver = SolverFactory('ipopt')\n",
    "solver.solve(model)\n",
    "print('objective function =', value(model.obj)/30)\n",
    "#model.pprint()\n",
    "\n",
    "#STORING VALUES OF PARAMETERS. SHOULD DO THIS MORE EFFICIENTLY, I AM DOING IT TO HELP YOU UNDERSTAND MODEL:\n",
    "c0 = value(model.b0)\n",
    "\n",
    "cl1 = value(model.bl['Acetic'])\n",
    "cl2 = value(model.bl['H2S'])\n",
    "cl3 = value(model.bl['Lactic'])\n",
    "\n",
    "cs1 = value(model.bs['Acetic'])\n",
    "cs2 = value(model.bs['H2S'])\n",
    "cs3 = value(model.bs['Lactic'])\n",
    "print('parameter values:',c0,cl1,cl2,cl3,cs1,cs2,cs3)\n",
    "\n",
    "def bbf(xv):\n",
    "    return c0 + cl1*xv[:,0]+cl2*xv[:,1]+cl3*xv[:,2]+cs1*xv[:,0]**2+cs2*xv[:,1]**2+cs3*xv[:,2]**2\n",
    "\n",
    "#print(bbf(x))\n",
    "\n",
    "%matplotlib inline\n",
    "fig,ax = subplots()\n",
    "scatter(bbf(x),y)\n",
    "#xlim(min(y.min(),bbf(x).min())-0.1,max(y.max(),bbf(x).max())+0.1)\n",
    "##ylim(min(y.min(),bbf(x).min())-0.1,max(y.max(),bbf(x).max())+0.1)\n",
    "#ax.set_aspect('equal')\n",
    "show()"
   ]
  },
  {
   "cell_type": "markdown",
   "metadata": {},
   "source": [
    "### IS THIS A GOOD MODEL????\n",
    "\n",
    "1. Not that great, not that bad either.\n",
    "2. Scatter plot shows some trend is captured, but not perfect.\n",
    "3. There is probably a better fit to this data."
   ]
  },
  {
   "cell_type": "code",
   "execution_count": 170,
   "metadata": {},
   "outputs": [
    {
     "name": "stdout",
     "output_type": "stream",
     "text": [
      "maximum predicted taste: 176129739.21900174\n",
      "optimal value of Acetic Acid: 4.4792317\n",
      "optimal value of H2S: 2.99654032\n",
      "optimal value of Lactic Acid: 1.83225702\n",
      "1 Set Declarations\n",
      "    x_index : Size=1, Index=None, Ordered=Insertion\n",
      "        Key  : Dimen : Domain : Size : Members\n",
      "        None :     1 :    Any :    3 : {'Acetic', 'H2S', 'Lactic'}\n",
      "\n",
      "1 Var Declarations\n",
      "    x : Size=3, Index=x_index\n",
      "        Key    : Lower               : Value               : Upper              : Fixed : Stale : Domain\n",
      "        Acetic : -1.8212904105387495 : -1.8212904105387495 : 1.7469554661486624 : False : False :  Reals\n",
      "           H2S : -1.4084572849099444 : -1.4084572849099444 :  2.041955436011475 : False : False :  Reals\n",
      "        Lactic :  -1.805417429650564 :  1.8010473427060631 : 1.8010473427060631 : False : False :  Reals\n",
      "\n",
      "1 Objective Declarations\n",
      "    obj : Size=1, Index=None, Active=True\n",
      "        Key  : Active : Sense    : Expression\n",
      "        None :   True : minimize : - (0.029609866240745096 - 1781836.2517495537*x[Acetic] - 1612686.0818627914*x[H2S] + 3055604.743125121*x[Lactic] - 0.21623962851348155*x[Acetic]**2 - 0.21646154157303307*x[H2S]**2 + 0.4030913088154447*x[Lactic]**2)\n",
      "\n",
      "3 Declarations: x_index x obj\n"
     ]
    }
   ],
   "source": [
    "#HERE WE OPTIMIZE FUNCTION!!!\n",
    "from pyomo.environ import *\n",
    "model2 = ConcreteModel()\n",
    "\n",
    "#Define Variables:\n",
    "model2.n = xinst\n",
    "lb = {'Acetic':min(x[:,0]), 'H2S':min(x[:,1]),'Lactic':min(x[:,2])}\n",
    "ub = {'Acetic':max(x[:,0]), 'H2S':max(x[:,1]),'Lactic':max(x[:,2])}\n",
    "def fb(model, i):\n",
    "    return (lb[i], ub[i])\n",
    "model2.x = Var(model2.n,bounds=fb)\n",
    "\n",
    "def obj_rule(model2): \n",
    "    return -(c0 + cl1* model2.x['Acetic'] + cl2*model2.x['H2S'] + cl3*model2.x['Lactic'] + cs1*model2.x['Acetic']**2 + cs2*model2.x['H2S']**2 + cs3*model2.x['Lactic']**2) \n",
    "model2.obj = Objective(rule=obj_rule)\n",
    "\n",
    "#same as above:\n",
    "solver = SolverFactory('ipopt')\n",
    "solver.solve(model2)\n",
    "print('maximum predicted taste:',(value(-model2.obj))*ystd+ymean)\n",
    "print('optimal value of Acetic Acid:',(value(model2.x['Acetic']))*xstd[0]+xmean[0])\n",
    "print('optimal value of H2S:',value(model2.x['H2S'])*xstd[1]+xmean[1])\n",
    "print('optimal value of Lactic Acid:',value(model2.x['Lactic'])*xstd[2]+xmean[2])\n",
    "\n",
    "model2.pprint()\n"
   ]
  },
  {
   "cell_type": "markdown",
   "metadata": {},
   "source": [
    "### Approach 2: PCA first, then Regression (=Principal Component Regression)\n",
    "\n",
    "Since our data set was not carefully designed, we could first check to see whether our inputs are correlated, <br>\n",
    "or whether they can be reduced into lower dimensional transformed subspaces."
   ]
  },
  {
   "cell_type": "code",
   "execution_count": 171,
   "metadata": {},
   "outputs": [
    {
     "name": "stdout",
     "output_type": "stream",
     "text": [
      "[[-2.8287667  -0.30043564]\n",
      " [-0.85481789 -0.06686223]\n",
      " [-0.35923846  0.05204838]\n",
      " [ 1.16620672 -0.14368083]\n",
      " [-2.32431609 -0.36132839]\n",
      " [ 0.84210539 -0.43682964]\n",
      " [ 1.6708256  -0.55029372]\n",
      " [ 1.8401472   0.06554657]\n",
      " [-1.82857214 -0.01868383]\n",
      " [-1.05429801  0.35291125]\n",
      " [ 0.54640857  0.27982685]\n",
      " [ 2.43542361  0.55826892]\n",
      " [-2.91237611 -0.28008598]\n",
      " [-0.86127949  0.00335656]\n",
      " [ 1.37107968  0.51722448]\n",
      " [ 2.92121208 -0.17380402]\n",
      " [-2.02543238 -0.20670321]\n",
      " [-0.61264625  0.34825637]\n",
      " [-0.2278931  -0.3361627 ]\n",
      " [ 1.36038449 -1.0386212 ]\n",
      " [-1.96199387 -0.84396743]\n",
      " [-0.64223301 -0.01298983]\n",
      " [ 1.25223173 -1.21986383]\n",
      " [ 2.46800397 -0.93692238]\n",
      " [-1.16605519  0.61421013]\n",
      " [-0.2327258   1.62252188]\n",
      " [ 2.00840865  0.86203093]\n",
      " [-1.14854959  0.46569356]\n",
      " [ 0.63566148  0.01086684]\n",
      " [ 0.5230949   1.17447214]]\n"
     ]
    }
   ],
   "source": [
    "from pylab import *\n",
    "%matplotlib inline\n",
    "from sklearn import decomposition\n",
    "import seaborn as sns\n",
    "#create a PCA structure, with up to 2 Principal Components:\n",
    "xarr = x\n",
    "yarr = y \n",
    "pca = decomposition.PCA(n_components=2)\n",
    "pc = pca.fit_transform(x)\n",
    "mu = np.mean(x, axis=0)\n",
    "\n",
    "#Create a DataFrame variable to pass on to \n",
    "pc_df = pandas.DataFrame(data = pc , columns = ['PC1','PC2'])\n",
    "pc_df.head()\n",
    "\n",
    "#Create a DataFrame variable with information about the explained variance:\n",
    "df = pandas.DataFrame({'var':pca.explained_variance_ratio_,'PC':['PC1','PC2']})\n",
    "\n",
    "#Transformed data in 2D (scores):\n",
    "print(pc)\n",
    "\n",
    "#Create pc dictionary:\n",
    "keys1 = ['1','2']\n",
    "keys2 = rname\n",
    "pcdic={}\n",
    "for j in keys1:\n",
    "    for i in keys2:\n",
    "        pcdic[(i,j)]=pc[int(i)-1,int(j)-1]\n",
    "#print(pcdic)"
   ]
  },
  {
   "cell_type": "code",
   "execution_count": 147,
   "metadata": {},
   "outputs": [
    {
     "name": "stdout",
     "output_type": "stream",
     "text": [
      "explained variance per component: [0.87309972 0.12690028]\n",
      "total explained variance 1.0\n",
      "loadings or eigenvector values per component: [[ 0.55890429  0.5530937   0.61782955]\n",
      " [ 0.69104109 -0.722491    0.02165548]]\n"
     ]
    },
    {
     "data": {
      "image/png": "[encoded data removed]",
      "text/plain": [
       "<Figure size 432x288 with 1 Axes>"
      ]
     },
     "metadata": {
      "needs_background": "light"
     },
     "output_type": "display_data"
    },
    {
     "data": {
      "image/png": "[encoded data removed]",
      "text/plain": [
       "<Figure size 360x360 with 1 Axes>"
      ]
     },
     "metadata": {
      "needs_background": "light"
     },
     "output_type": "display_data"
    }
   ],
   "source": [
    "print('explained variance per component:',pca.explained_variance_ratio_)\n",
    "print('total explained variance',sum(pca.explained_variance_ratio_))\n",
    "#print loadings or eigenvector coefficients:\n",
    "loadings = pca.components_\n",
    "print('loadings or eigenvector values per component:',loadings)\n",
    "\n",
    "\n",
    "#Create a bar plot of explained variance:\n",
    "sns.barplot(x='PC',y=\"var\", data=df, color=\"c\")\n",
    "\n",
    "sns.lmplot( x=\"PC1\", y=\"PC2\",\n",
    "  data=pc_df, \n",
    "  fit_reg=False,     \n",
    "  legend=True,\n",
    "  scatter_kws={\"s\": 80}) # specify the point size\n",
    "show()\n"
   ]
  },
  {
   "cell_type": "markdown",
   "metadata": {},
   "source": [
    "### How can we reconstruct original data set?\n",
    "\n",
    "**How do I go back to original space????** \n",
    "\n",
    "As explained in class: $ T p = X $\n",
    "- T = $[N \\times A]$ <br>\n",
    "- p = $[A \\times K]$ <br>\n",
    "- X = $[N \\times K]$ <br>\n",
    "\n",
    "**Because the data is centered by subtracting mean by pca decomposition, we also need to add the mean after the matrix multiplication!**"
   ]
  },
  {
   "cell_type": "code",
   "execution_count": 172,
   "metadata": {},
   "outputs": [
    {
     "name": "stdout",
     "output_type": "stream",
     "text": [
      "[[-1.78862321 -1.347511   -1.75420174]\n",
      " [-0.52396593 -0.42448703 -0.52957969]\n",
      " [-0.16481234 -0.23629702 -0.220821  ]\n",
      " [ 0.55250858  0.7488297   0.7174055 ]\n",
      " [-1.548763   -1.02450808 -1.44385591]\n",
      " [ 0.16878908  0.78136867  0.51081784]\n",
      " [ 0.55355602  1.32170538  1.02036856]\n",
      " [ 1.07376153  0.97041702  1.13831676]\n",
      " [-1.0349081  -0.99787284 -1.13015052]\n",
      " [-0.3453755  -0.83810079 -0.643734  ]\n",
      " [ 0.49876195  0.10004275  0.34364715]\n",
      " [ 1.74695546  0.94367319  1.51676626]\n",
      " [-1.82129041 -1.40845729 -1.80541743]\n",
      " [-0.47905328 -0.47879334 -0.53205123]\n",
      " [ 1.12372568  0.3846455   0.85829429]\n",
      " [ 1.51257223  1.74127584  1.80104734]\n",
      " [-1.27486325 -0.97091269 -1.25584824]\n",
      " [-0.10175116 -0.59046287 -0.3709693 ]\n",
      " [-0.35967267  0.11682828 -0.14807886]\n",
      " [ 0.04259479  1.50281457  0.8179939 ]\n",
      " [-1.67978296 -0.47540758 -1.23045431]\n",
      " [-0.36792329 -0.34582999 -0.39707183]\n",
      " [-0.14309835  1.57394213  0.74724903]\n",
      " [ 0.73192614  2.04195544  1.50451628]\n",
      " [-0.22726881 -1.08869908 -0.70712234]\n",
      " [ 0.99115784 -1.30097663 -0.10864839]\n",
      " [ 1.718207    0.48802858  1.25952191]\n",
      " [-0.3201159  -0.97171496 -0.69952306]\n",
      " [ 0.36278336  0.34372917  0.39296578]\n",
      " [ 1.10396849 -0.55922506  0.34861725]]\n",
      "[[-2.8287667  -0.30043564]\n",
      " [-0.85481789 -0.06686223]\n",
      " [-0.35923846  0.05204838]\n",
      " [ 1.16620672 -0.14368083]\n",
      " [-2.32431609 -0.36132839]\n",
      " [ 0.84210539 -0.43682964]\n",
      " [ 1.6708256  -0.55029372]\n",
      " [ 1.8401472   0.06554657]\n",
      " [-1.82857214 -0.01868383]\n",
      " [-1.05429801  0.35291125]\n",
      " [ 0.54640857  0.27982685]\n",
      " [ 2.43542361  0.55826892]\n",
      " [-2.91237611 -0.28008598]\n",
      " [-0.86127949  0.00335656]\n",
      " [ 1.37107968  0.51722448]\n",
      " [ 2.92121208 -0.17380402]\n",
      " [-2.02543238 -0.20670321]\n",
      " [-0.61264625  0.34825637]\n",
      " [-0.2278931  -0.3361627 ]\n",
      " [ 1.36038449 -1.0386212 ]\n",
      " [-1.96199387 -0.84396743]\n",
      " [-0.64223301 -0.01298983]\n",
      " [ 1.25223173 -1.21986383]\n",
      " [ 2.46800397 -0.93692238]\n",
      " [-1.16605519  0.61421013]\n",
      " [-0.2327258   1.62252188]\n",
      " [ 2.00840865  0.86203093]\n",
      " [-1.14854959  0.46569356]\n",
      " [ 0.63566148  0.01086684]\n",
      " [ 0.5230949   1.17447214]]\n"
     ]
    },
    {
     "data": {
      "image/png": "[encoded data removed]",
      "text/plain": [
       "<Figure size 432x288 with 1 Axes>"
      ]
     },
     "metadata": {
      "needs_background": "light"
     },
     "output_type": "display_data"
    },
    {
     "data": {
      "image/png": "[encoded data removed]",
      "text/plain": [
       "<Figure size 432x288 with 1 Axes>"
      ]
     },
     "metadata": {
      "needs_background": "light"
     },
     "output_type": "display_data"
    },
    {
     "data": {
      "image/png": "[encoded data removed]",
      "text/plain": [
       "<Figure size 432x288 with 1 Axes>"
      ]
     },
     "metadata": {
      "needs_background": "light"
     },
     "output_type": "display_data"
    }
   ],
   "source": [
    "#Reconstructing original data set, where pc=T, loadings = p: \n",
    "\n",
    "#Matrix multiplication Tp:\n",
    "Xhat = np.dot(pc, loadings)\n",
    "#Adding mean:\n",
    "Xhat += mu\n",
    "print(Xhat)\n",
    "print(pc)\n",
    "#What does the new reconstruction of X look like as compared to original?\n",
    "#If we did not lose much variability, should be relatively good correlation: \n",
    "## EXTRA PRACTICE: You can try to increase PCs to 3 or reduce PCs to 1, what does the fit below look like???\n",
    "scatter(Xhat[:,0],x[:,0])\n",
    "show()\n",
    "\n",
    "scatter(Xhat[:,1],x[:,1])\n",
    "show()\n",
    "\n",
    "scatter(Xhat[:,2],x[:,2])\n",
    "show()"
   ]
  },
  {
   "cell_type": "markdown",
   "metadata": {},
   "source": [
    "**GREAT!!!** <br>\n",
    "**It looks like we lost very little, so the true dimensionality of the data set is 2D.**\n",
    "\n",
    "**This means that if I optimize with respect to 2 new dimensions and I get a solution:**<br>\n",
    "\n",
    "$t_1=0.5$ and $t_2= 0.5$ <br>\n",
    "\n",
    "**What is that with respect to Acetic Acid, H2S, Lactic Acid???** <br>\n",
    "\n",
    "**We do the same operations as we did above!** <br>\n",
    "\n",
    "We see that $t_1=0.5$ and $t_2= 0.5$ is equivalent to: <br>"
   ]
  },
  {
   "cell_type": "code",
   "execution_count": 174,
   "metadata": {},
   "outputs": [
    {
     "name": "stdout",
     "output_type": "stream",
     "text": [
      "[5.84763337 5.76465324 1.51100873]\n"
     ]
    }
   ],
   "source": [
    "topt = [0.5,0.5]\n",
    "\n",
    "Xopt = np.dot(topt,loadings)\n",
    "Xopt +=mu\n",
    "\n",
    "print(Xopt*xstd+xmean)"
   ]
  },
  {
   "cell_type": "markdown",
   "metadata": {},
   "source": [
    "### How do we do optimization of parameters in reduced dimensions???"
   ]
  },
  {
   "cell_type": "code",
   "execution_count": 175,
   "metadata": {},
   "outputs": [
    {
     "name": "stderr",
     "output_type": "stream",
     "text": [
      "<ipython-input-175-10bdd52bdf1b>:18: DeprecationWarning: Calling np.sum(generator) is deprecated, and in the future will give a different result. Use np.sum(np.fromiter(generator)) or the python sum builtin instead.\n",
      "  return (m.b0 + sum((m.bl[j]*m.xs[i,j]) for j in m.n) + sum((m.bs[j]*m.xs[i,j]**2) for j in m.n))  - m.ypred[i] == 0\n",
      "<ipython-input-175-10bdd52bdf1b>:22: DeprecationWarning: Calling np.sum(generator) is deprecated, and in the future will give a different result. Use np.sum(np.fromiter(generator)) or the python sum builtin instead.\n",
      "  return sum((m.ypred[i]-m.yact[i,j])**2 for i in m.s for j in m.yn)\n"
     ]
    },
    {
     "name": "stdout",
     "output_type": "stream",
     "text": [
      "0.3908871552745674\n"
     ]
    }
   ],
   "source": [
    "#HERE YOU WOULD CREATE A MODEL WITH EITHER 1 or 2 PCS!!!\n",
    "from pyomo.environ import *\n",
    "m = ConcreteModel()\n",
    "\n",
    "#Define Data:\n",
    "m.n = ['1','2'] #depending on dimension \n",
    "m.yn = yinst\n",
    "m.s = rname\n",
    "m.yact = ydic\n",
    "m.xs = pcdic\n",
    "\n",
    "m.ypred = Var(m.s)\n",
    "m.b0 = Var() #constant term\n",
    "m.bl = Var(m.n) #linear terms\n",
    "m.bs = Var(m.n) #square terms\n",
    "\n",
    "def con_rule(m,i): # postulated function is: y= b0 + sum_n bl_n*x_n + sum_n bs_n*x_n**2\n",
    "    return (m.b0 + sum((m.bl[j]*m.xs[i,j]) for j in m.n) + sum((m.bs[j]*m.xs[i,j]**2) for j in m.n))  - m.ypred[i] == 0\n",
    "m.con1 = Constraint(m.s, rule=con_rule)\n",
    "\n",
    "def obj_rule(m):\n",
    "    return sum((m.ypred[i]-m.yact[i,j])**2 for i in m.s for j in m.yn)\n",
    "m.obj = Objective(rule=obj_rule) #Instead of defining the objective as we did above, we now set it equal to the rule.\n",
    "\n",
    "#same as above:\n",
    "solver = SolverFactory('ipopt')\n",
    "solver.solve(m)\n",
    "print(value(m.obj)/30)\n",
    "#m.pprint()\n"
   ]
  },
  {
   "cell_type": "markdown",
   "metadata": {},
   "source": [
    "## Optimize black-box function in reduced dimensions:\n",
    "\n",
    "- Now we have a fit, let's optimize in 2 PC dimensions, and convert back to original! <br> <br>\n",
    "**Discussion:** <br>\n",
    "- Is the fit better or worse???\n",
    "  - It is slightly worse with respect to Mean Squared Error (objective), but we transformed it into 2 dimensions.\n",
    "  - The fitted vs predicted looks very similar. Some would consider this a success (basically similar model with one less dimension). \n",
    "  - It is hard to see the benefit here, because original problem is low dimensional anyway, but imagine if you go from 1000 dimensions to 10, without losing much accuracy!!!\n",
    "  - The 'badness' of the fit may also be because the function we assumed (linear + quadratic terms), is just not a good fit for the data. Other nonlinear models may be selected!\n",
    "  "
   ]
  },
  {
   "cell_type": "code",
   "execution_count": 176,
   "metadata": {},
   "outputs": [
    {
     "name": "stdout",
     "output_type": "stream",
     "text": [
      "0.015441548761156897 0.47200113730876675 -0.2811612480349001 0.024754312774165347 -0.21087554433615263\n",
      "[-1.05622059 -0.35208882 -0.16613007  0.63560339 -0.87384446  0.51305083\n",
      "  0.96404198  0.94847958 -0.75969662 -0.58016154  0.18554905  1.08910328\n",
      " -1.0870323  -0.37366665  0.5072902   1.64799427 -0.78990631 -0.38792871\n",
      " -0.02015278  0.76789746 -0.72824376 -0.27386626  0.67449453  1.40943658\n",
      " -0.75352551 -1.104401    0.66419357 -0.67068778  0.32239662 -0.35197815]\n"
     ]
    },
    {
     "data": {
      "image/png": "[encoded data removed]",
      "text/plain": [
       "<Figure size 432x288 with 1 Axes>"
      ]
     },
     "metadata": {
      "needs_background": "light"
     },
     "output_type": "display_data"
    }
   ],
   "source": [
    "#STORING VALUES OF PARAMETERS.\n",
    "d0 = value(m.b0)\n",
    "\n",
    "dl1 = value(m.bl['1'])\n",
    "dl2 = value(m.bl['2'])\n",
    "\n",
    "ds1 = value(m.bs['1'])\n",
    "ds2 = value(m.bs['2'])\n",
    "print(d0,dl1,dl2,ds1,ds2)\n",
    "\n",
    "def bbf_red(xv):\n",
    "    return d0 + dl1*xv[:,0]+dl2*xv[:,1]+ds1*xv[:,0]**2+ds2*xv[:,1]**2\n",
    "\n",
    "print(bbf_red(pc))\n",
    "\n",
    "%matplotlib inline\n",
    "\n",
    "scatter(bbf_red(pc),y)\n",
    "show()"
   ]
  },
  {
   "cell_type": "code",
   "execution_count": 177,
   "metadata": {},
   "outputs": [
    {
     "name": "stdout",
     "output_type": "stream",
     "text": [
      "maximum predicted taste: 51.69195138661482\n",
      "optimal value of t1: 2.921212077901863\n",
      "optimal value of t2: -0.6666520893928424\n",
      "2 Var Declarations\n",
      "    x1 : Size=1, Index=None\n",
      "        Key  : Lower               : Value             : Upper             : Fixed : Stale : Domain\n",
      "        None : -2.9123761130889227 : 2.921212077901863 : 2.921212077901863 : False : False :  Reals\n",
      "    x2 : Size=1, Index=None\n",
      "        Key  : Lower               : Value               : Upper             : Fixed : Stale : Domain\n",
      "        None : -1.2198638342654122 : -0.6666520893928424 : 1.622521876730706 : False : False :  Reals\n",
      "\n",
      "1 Objective Declarations\n",
      "    obj : Size=1, Index=None, Active=True\n",
      "        Key  : Active : Sense    : Expression\n",
      "        None :   True : minimize : - (0.015441548761156897 + 0.47200113730876675*x1 - 0.2811612480349001*x2 + 0.024754312774165347*x1**2 - 0.21087554433615263*x2**2)\n",
      "\n",
      "3 Declarations: x1 x2 obj\n"
     ]
    }
   ],
   "source": [
    "#HERE WE OPTIMIZE FUNCTION!!!\n",
    "from pyomo.environ import *\n",
    "m2 = ConcreteModel()\n",
    "\n",
    "#Define Variables:\n",
    "# VERY VERY IMPORTANT HERE: Provide BOUNDS. These bounds must be based on bounds on PC scores (T matrix)\n",
    "m2.x1 = Var(bounds = (min(pc[:,0]),max(pc[:,0])))\n",
    "m2.x2 = Var(bounds = (min(pc[:,1]),max(pc[:,1])))\n",
    "\n",
    "def obj_rule(m2): # postulated function is: y= b0 + sum_n bl_n*x_n + sum_n bs_n*x_n**2\n",
    "    return -(d0 + dl1* m2.x1 + dl2*m2.x2 + ds1*m2.x1**2 + ds2*m2.x2**2)\n",
    "m2.obj = Objective(rule=obj_rule)\n",
    "\n",
    "#same as above:\n",
    "solver = SolverFactory('ipopt')\n",
    "solver.solve(m2)\n",
    "print('maximum predicted taste:',value(-m2.obj)*ystd+ymean)\n",
    "print('optimal value of t1:',value(m2.x1))\n",
    "print('optimal value of t2:',value(m2.x2))\n",
    "\n",
    "m2.pprint()\n"
   ]
  },
  {
   "cell_type": "code",
   "execution_count": 191,
   "metadata": {},
   "outputs": [
    {
     "name": "stdout",
     "output_type": "stream",
     "text": [
      "[2.921212077901863, -0.6666520893928424]\n",
      "[ 6.1536286  10.32754587  1.82994241]\n"
     ]
    }
   ],
   "source": [
    "topt = [value(m2.x1),value(m2.x2)]\n",
    "print(topt)\n",
    "\n",
    "Xopt = np.dot(topt,loadings)\n",
    "Xopt +=mu\n",
    "\n",
    "print(Xopt*xstd+xmean)\n",
    "\n"
   ]
  },
  {
   "cell_type": "markdown",
   "metadata": {},
   "source": [
    "### IMPORTANT: \n",
    "- We can transform back-and forth from PC-SPACE to Original Space. <br>\n",
    "- We can even do it without going back to all PCs, <br>\n",
    "- What does it mean when we keep less PCs than dimensions, and revert back to original space???\n",
    "  - Example: Think in images. A high dimensional data set of an image, can be reduced with PCA. If we use less PCs to describe the data, and transform back to X by multiplying T*p, we may get a weaker 'resolution' of the image (Shakira Example!): \n",
    "  \n",
    "  https://glowingpython.blogspot.com/2011/07/pca-and-image-compression-with-numpy.html"
   ]
  },
  {
   "cell_type": "markdown",
   "metadata": {},
   "source": [
    "## Projection to Latent Structures or Partial Least Squares\n",
    "\n",
    "1. Popular technique for: \n",
    "  - **Dimensionality reduction in X**, <br>\n",
    "  - **Dimensionality reduction in Y**, <br>\n",
    "  - **Regression between reduced dimensions in X and reduced dimensions in Y**. <br>\n",
    "  \n",
    "<img src=\"Slide4.png\" width=\"700\" />\n",
    "  \n",
    "2. **Very good resource:** <br> https://learnche.org/pid/latent-variable-modelling/projection-to-latent-structures/index <br>\n",
    "\n",
    "3. **Scikit Learn package for PLS:** <br> http://scikit-learn.org/stable/modules/generated/sklearn.cross_decomposition.PLSRegression.html <br>\n",
    "\n",
    "\n",
    "### Methodology: \n",
    "\n",
    "1. **Step 1:** Perform PCA on X (get scores **T**, loadings, #PCs) <br>\n",
    "2. **Step 2:** Perform PCA on Y (get scores **U**, loadings, # PCs) <br>\n",
    "\n",
    "<img src=\"Slide5.png\" width=\"700\" />\n",
    "\n",
    "3. **Step 3:** Develop linear correlation between **T and U** <br>\n",
    "\n",
    "<img src=\"Slide6.png\" width=\"700\" />\n"
   ]
  },
  {
   "cell_type": "markdown",
   "metadata": {},
   "source": [
    "## Optimization in Latent Variables\n",
    "\n",
    "**You now know everything you would need to:** <br>\n",
    "\n",
    "1. Transform both input and output to Latent Variable Space, <br>\n",
    "2. Fit a model in Latent Variable Space, <br>\n",
    "\n",
    "**How would you optimize??** <br>\n",
    "\n",
    "1. **Step 1:** Optimize in Latent Variable Space <br>\n",
    "2. **Step 2:** Use *loadings* to find values of original variables in original space! <br> <br>\n",
    "(**REMEMBER:** $PC1 = w_1*x_1 + w_2*x_2 + ... + w_{10}*x_{10} $, where $w$ are loadings!) <br>\n",
    "\n",
    "**It could be as simple as that!**\n",
    "\n",
    "**What are pros of this?** <br>\n",
    " - Simpler Optimization problem\n",
    " - Remove some of the noise\n",
    " - Remove unecessary unimportant features (more predictive)\n",
    "\n",
    "**What do you think are some challenges when doing this???** <br>\n",
    " - Multivariate Latent methods need more data\n",
    " - Inversions of matrices, problem of multiple solutions or no solution of system badly scaled.\n",
    "\n",
    "**More advanced:**<br>\n",
    "\n",
    "Paper that talks about optimization in latent structures: https://onlinelibrary.wiley.com/doi/abs/10.1002/aic.690440509\n"
   ]
  },
  {
   "cell_type": "markdown",
   "metadata": {},
   "source": [
    "# Wrapping up High-dimensional Analysis:\n",
    "\n",
    "## Reminders: \n",
    "1. If data set was not carefully designed: \n",
    "   - correlations in data may exist, <br>\n",
    "   - dimensionality of data set may be much smaller than original data set <br>\n",
    "   - Methods like PCA can help us identify this reduced, projected (latent) space <br><br>\n",
    "\n",
    "2. PCA is only for inputs <br>\n",
    "\n",
    "3. We can do regression (map X-Y) with PCR, PLS <br>\n",
    "\n",
    "4. We can optimize regression functions in *Latent Space* and then revert back (**it is just a one-to-one transformation**).\n",
    "\n",
    "5. There are pitfalls: <br>\n",
    "   - Inversion of matrices <br>\n",
    "   - How do we pick how many PCs to keep? <br>\n",
    "   - PCA,PCR,PLS: only for linear transformations and linear correlations <br><br>\n",
    "   \n",
    "6. Active area of research: nonlinear PCA,PLS\n",
    "\n",
    "\n",
    "## Final message: \n",
    "\n",
    "1. To - do next week when we miss class: WATCH Dr. Kevrekidis (50min) lecture from last year's seminar!\n",
    "\n",
    "https://smartech.gatech.edu/bitstream/handle/1853/58829/kevrekidis_videostream.html?sequence=2&isAllowed=y\n",
    "\n"
   ]
  },
  {
   "cell_type": "code",
   "execution_count": null,
   "metadata": {},
   "outputs": [],
   "source": []
  }
 ],
 "metadata": {
  "kernelspec": {
   "display_name": "Python 3",
   "language": "python",
   "name": "python3"
  },
  "language_info": {
   "codemirror_mode": {
    "name": "ipython",
    "version": 3
   },
   "file_extension": ".py",
   "mimetype": "text/x-python",
   "name": "python",
   "nbconvert_exporter": "python",
   "pygments_lexer": "ipython3",
   "version": "3.7.6"
  }
 },
 "nbformat": 4,
 "nbformat_minor": 2
}
