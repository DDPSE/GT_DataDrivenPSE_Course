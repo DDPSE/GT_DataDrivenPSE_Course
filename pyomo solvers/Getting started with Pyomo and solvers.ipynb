{
 "cells": [
  {
   "cell_type": "markdown",
   "id": "88e6cdec",
   "metadata": {},
   "source": [
    "### $\\color{black}{\\text{This Jupyter notebook is to check if the installed solvers are working without any errors}}$\n",
    "#### $\\color{black}{\\text{The text in $\\color{blue}{\\text{blue}}$ are the commands to be used in the terminal}}$\n"
   ]
  },
  {
   "cell_type": "markdown",
   "id": "93d1f0f9",
   "metadata": {},
   "source": [
    "#### $\\color{brown}{\\text{Before installing the solvers let us install Pyomo:}}$\n",
    "\n",
    "- Installing the Latest Pyomo Release:\n",
    "- 1)\tOpen Anaconda Navigator --> open terminal \n",
    "- 2)\tUse any of the following two options to install pyomo\n",
    "- Install pyomo with pip using the following command: $\\color{blue}{\\text{pip install pyomo}}$\n",
    "- Installing pyomo with conda using the following command: $\\color{blue}{\\text{conda install -c conda-forge pyomo}}$\n"
   ]
  },
  {
   "cell_type": "markdown",
   "id": "f3ad1a5f",
   "metadata": {},
   "source": [
    "#### $\\color{brown}{\\text{Installing GLPK}}$\n",
    "- Install optimization solver glpk using the following commands: \n",
    "$\\color{blue}{\\text{conda install -c conda-forge glpk}}$\n",
    "- After finishing the installation, test that pyomo works with a simple linear programming example:"
   ]
  },
  {
   "cell_type": "code",
   "execution_count": 1,
   "id": "ef6009bf",
   "metadata": {},
   "outputs": [
    {
     "name": "stdout",
     "output_type": "stream",
     "text": [
      "2 Var Declarations\n",
      "    x : Size=1, Index=None\n",
      "        Key  : Lower : Value : Upper : Fixed : Stale : Domain\n",
      "        None :  45.0 :  45.0 : 100.0 : False : False :  Reals\n",
      "    y : Size=1, Index=None\n",
      "        Key  : Lower : Value            : Upper : Fixed : Stale : Domain\n",
      "        None :   0.0 : 6.25000000000002 : 100.0 : False : False :  Reals\n",
      "\n",
      "1 Objective Declarations\n",
      "    objective : Size=1, Index=None, Active=True\n",
      "        Key  : Active : Sense    : Expression\n",
      "        None :   True : maximize : x + y - 50.0\n",
      "\n",
      "2 Constraint Declarations\n",
      "    c1 : Size=1, Index=None, Active=True\n",
      "        Key  : Lower : Body            : Upper  : Active\n",
      "        None :  -Inf : 50.0*x + 24.0*y : 2400.0 :   True\n",
      "    c2 : Size=1, Index=None, Active=True\n",
      "        Key  : Lower : Body            : Upper  : Active\n",
      "        None :  -Inf : 30.0*x + 33.0*y : 2100.0 :   True\n",
      "\n",
      "5 Declarations: x y c1 c2 objective\n"
     ]
    }
   ],
   "source": [
    "from pyomo.environ import *\n",
    "#Create a simple model\n",
    "model = ConcreteModel()\n",
    "model.x = Var(bounds=(45.0,100.0),initialize=35.0)\n",
    "model.y = Var(bounds=(0.0,100.0),initialize=5.0)\n",
    "model.c1 = Constraint(expr=(50.0*model.x + 24.0*model.y <= 2400.0))\n",
    "model.c2 = Constraint(expr=(30.0*model.x + 33.0*model.y <= 2100.0))\n",
    "model.objective = Objective(expr=model.x + model.y - 50.0, sense=maximize)\n",
    "#Solve LP using solver glpk\n",
    "solver = SolverFactory(\"glpk\")\n",
    "solver.solve(model)\n",
    "model.pprint()"
   ]
  },
  {
   "cell_type": "markdown",
   "id": "b5fc5fd8",
   "metadata": {},
   "source": [
    "#### $\\color{brown}{\\text{Installing IPOPT}}$\n",
    "- Install optimization solver ipopt using the following commands: \n",
    "$\\color{blue}{\\text{conda install -c conda-forge ipopt=3.11.1}}$\n",
    "- After finishing the installation, test that pyomo works with a simple non-linear programming example:"
   ]
  },
  {
   "cell_type": "code",
   "execution_count": 2,
   "id": "d8ede459",
   "metadata": {},
   "outputs": [
    {
     "name": "stdout",
     "output_type": "stream",
     "text": [
      "2 Var Declarations\n",
      "    x : Size=1, Index=None\n",
      "        Key  : Lower : Value : Upper : Fixed : Stale : Domain\n",
      "        None :   1.0 :   1.0 :  10.0 : False : False :  Reals\n",
      "    y : Size=1, Index=None\n",
      "        Key  : Lower : Value              : Upper : Fixed : Stale : Domain\n",
      "        None :     0 : 0.3247430586009271 :     1 : False : False : Binary\n",
      "\n",
      "1 Objective Declarations\n",
      "    objective : Size=1, Index=None, Active=True\n",
      "        Key  : Active : Sense    : Expression\n",
      "        None :   True : minimize :          x\n",
      "\n",
      "2 Constraint Declarations\n",
      "    c1 : Size=1, Index=None, Active=True\n",
      "        Key  : Lower : Body                            : Upper : Active\n",
      "        None :  -Inf : (x - 4.0)**2 - x - 50.0*(1 - y) :   0.0 :   True\n",
      "    c2 : Size=1, Index=None, Active=True\n",
      "        Key  : Lower : Body                : Upper : Active\n",
      "        None :  -Inf : x**2 + 1.0 - 50.0*y :   0.0 :   True\n",
      "\n",
      "5 Declarations: x y c1 c2 objective\n"
     ]
    }
   ],
   "source": [
    "from pyomo.environ import *\n",
    "#Create a simple model\n",
    "model = ConcreteModel()\n",
    "model.x = Var(bounds=(1.0,10.0),initialize=5.0)\n",
    "model.y = Var(within=Binary)\n",
    "model.c1 = Constraint(expr=(model.x-4.0)**2 - model.x <= 50.0*(1-model.y))\n",
    "model.c2 = Constraint(expr=model.x**2+1.0 <= 50.0*model.y)\n",
    "model.objective = Objective(expr=model.x, sense=minimize)\n",
    "#Solve MINLP using ipopt\n",
    "solver = SolverFactory('ipopt')\n",
    "solver.solve(model)\n",
    "model.pprint()"
   ]
  },
  {
   "cell_type": "markdown",
   "id": "e3650665",
   "metadata": {},
   "source": [
    "#### $\\color{brown}{\\text{Installing Gurobi}}$\n",
    "- Add the Gurobi channel into your Anaconda platform, and then install the gurobi package from this channel.\n",
    "- $\\color{blue}{\\text{conda config --add channels http://conda.anaconda.org/gurobi}}$\n",
    "- $\\color{blue}{\\text{conda install gurobi}}$\n",
    "\n",
    "- Check if the installed solver gurobi works with a simple example:\n"
   ]
  },
  {
   "cell_type": "code",
   "execution_count": 3,
   "id": "cd685681",
   "metadata": {},
   "outputs": [
    {
     "name": "stdout",
     "output_type": "stream",
     "text": [
      "2 Var Declarations\n",
      "    x : Size=1, Index=None\n",
      "        Key  : Lower : Value              : Upper : Fixed : Stale : Domain\n",
      "        None :   1.0 : 2.4384471871911697 :  10.0 : False : False :  Reals\n",
      "    y : Size=1, Index=None\n",
      "        Key  : Lower : Value : Upper : Fixed : Stale : Domain\n",
      "        None :     0 :   1.0 :     1 : False : False : Binary\n",
      "\n",
      "1 Objective Declarations\n",
      "    objective : Size=1, Index=None, Active=True\n",
      "        Key  : Active : Sense    : Expression\n",
      "        None :   True : minimize :          x\n",
      "\n",
      "2 Constraint Declarations\n",
      "    c1 : Size=1, Index=None, Active=True\n",
      "        Key  : Lower : Body                            : Upper : Active\n",
      "        None :  -Inf : (x - 4.0)**2 - x - 50.0*(1 - y) :   0.0 :   True\n",
      "    c2 : Size=1, Index=None, Active=True\n",
      "        Key  : Lower : Body                : Upper : Active\n",
      "        None :  -Inf : x**2 + 1.0 - 50.0*y :   0.0 :   True\n",
      "\n",
      "5 Declarations: x y c1 c2 objective\n"
     ]
    }
   ],
   "source": [
    "from pyomo.environ import *\n",
    "#Create a simple model\n",
    "model = ConcreteModel()\n",
    "model.x = Var(bounds=(1.0,10.0),initialize=5.0)\n",
    "model.y = Var(within=Binary)\n",
    "model.c1 = Constraint(expr=(model.x-4.0)**2 - model.x <= 50.0*(1-model.y))\n",
    "model.c2 = Constraint(expr=model.x**2+1.0 <= 50.0*model.y)\n",
    "model.objective = Objective(expr=model.x, sense=minimize)\n",
    "#Solve MINLP using gurobi\n",
    "solver = SolverFactory(\"gurobi\", solver_io=\"python\")\n",
    "solver.solve(model)\n",
    "model.pprint()"
   ]
  },
  {
   "cell_type": "markdown",
   "id": "b2dd387b",
   "metadata": {},
   "source": [
    "#### $\\color{brown}{\\text{Installing BARON}}$\n",
    "1.\tNote, you’ll be installing the demo license and the BARON demo mode handles up to 10 constraints and variables and up to 50 nonlinear operations.\n",
    "2.\tUse the following link: https://minlp.com/baron-downloads\n",
    "3.\tDownload and install the executable package\n",
    "4.\tStore it somewhere in a directory or a path that is easy to access or that you prefer\n",
    "5.\tAdd the directory/gurobi path to system path. Use the following links for any help:\n",
    "- MacOS: https://www.architectryan.com/2012/10/02/add-to-the-path-on-mac-os-x-mountain-lion/\n",
    "- Windows: https://www.architectryan.com/2018/03/17/add-to-the-path-on-windows-10/\n",
    "\n",
    "check if the installed solver BARON works with a simple example:\n"
   ]
  },
  {
   "cell_type": "code",
   "execution_count": 4,
   "id": "ae4be5a2",
   "metadata": {},
   "outputs": [
    {
     "name": "stdout",
     "output_type": "stream",
     "text": [
      "2 Var Declarations\n",
      "    x : Size=1, Index=None\n",
      "        Key  : Lower : Value              : Upper : Fixed : Stale : Domain\n",
      "        None :   1.0 : 2.4384471855377243 :  10.0 : False : False :  Reals\n",
      "    y : Size=1, Index=None\n",
      "        Key  : Lower : Value : Upper : Fixed : Stale : Domain\n",
      "        None :     0 :   1.0 :     1 : False : False : Binary\n",
      "\n",
      "1 Objective Declarations\n",
      "    objective : Size=1, Index=None, Active=True\n",
      "        Key  : Active : Sense    : Expression\n",
      "        None :   True : minimize :          x\n",
      "\n",
      "2 Constraint Declarations\n",
      "    c1 : Size=1, Index=None, Active=True\n",
      "        Key  : Lower : Body                            : Upper : Active\n",
      "        None :  -Inf : (x - 4.0)**2 - x - 50.0*(1 - y) :   0.0 :   True\n",
      "    c2 : Size=1, Index=None, Active=True\n",
      "        Key  : Lower : Body                : Upper : Active\n",
      "        None :  -Inf : x**2 + 1.0 - 50.0*y :   0.0 :   True\n",
      "\n",
      "5 Declarations: x y c1 c2 objective\n"
     ]
    }
   ],
   "source": [
    "from pyomo.environ import *\n",
    "#Create a simple model\n",
    "model = ConcreteModel()\n",
    "model.x = Var(bounds=(1.0,10.0),initialize=5.0)\n",
    "model.y = Var(within=Binary)\n",
    "model.c1 = Constraint(expr=(model.x-4.0)**2 - model.x <= 50.0*(1-model.y))\n",
    "model.c2 = Constraint(expr=model.x**2+1.0 <= 50.0*model.y)\n",
    "model.objective = Objective(expr=model.x, sense=minimize)\n",
    "#Solve MINLP using BARON\n",
    "solver = SolverFactory(\"baron\", solver_io=\"python\")\n",
    "solver.solve(model)\n",
    "model.pprint()"
   ]
  },
  {
   "cell_type": "markdown",
   "id": "369a4421",
   "metadata": {},
   "source": [
    "#### $\\color{brown}{\\text{Install CPLEX}}$\n",
    "- Use the following command on terminal\n",
    "- $\\color{blue}{\\text{conda install -c ibmdecisionoptimization cplex}}$\n",
    "\n",
    "- Check if the installed solver CPLEX works with a simple example:\n"
   ]
  },
  {
   "cell_type": "code",
   "execution_count": 5,
   "id": "4bad1a49",
   "metadata": {},
   "outputs": [
    {
     "name": "stdout",
     "output_type": "stream",
     "text": [
      "2 Var Declarations\n",
      "    x : Size=1, Index=None\n",
      "        Key  : Lower : Value              : Upper : Fixed : Stale : Domain\n",
      "        None :   1.0 : 2.4384471871911075 :  10.0 : False : False :  Reals\n",
      "    y : Size=1, Index=None\n",
      "        Key  : Lower : Value : Upper : Fixed : Stale : Domain\n",
      "        None :     0 :   1.0 :     1 : False : False : Binary\n",
      "\n",
      "1 Objective Declarations\n",
      "    objective : Size=1, Index=None, Active=True\n",
      "        Key  : Active : Sense    : Expression\n",
      "        None :   True : minimize :          x\n",
      "\n",
      "2 Constraint Declarations\n",
      "    c1 : Size=1, Index=None, Active=True\n",
      "        Key  : Lower : Body                            : Upper : Active\n",
      "        None :  -Inf : (x - 4.0)**2 - x - 50.0*(1 - y) :   0.0 :   True\n",
      "    c2 : Size=1, Index=None, Active=True\n",
      "        Key  : Lower : Body                : Upper : Active\n",
      "        None :  -Inf : x**2 + 1.0 - 50.0*y :   0.0 :   True\n",
      "\n",
      "5 Declarations: x y c1 c2 objective\n"
     ]
    }
   ],
   "source": [
    "from pyomo.environ import *\n",
    "#Create a simple model\n",
    "model = ConcreteModel()\n",
    "model.x = Var(bounds=(1.0,10.0),initialize=5.0)\n",
    "model.y = Var(within=Binary)\n",
    "model.c1 = Constraint(expr=(model.x-4.0)**2 - model.x <= 50.0*(1-model.y))\n",
    "model.c2 = Constraint(expr=model.x**2+1.0 <= 50.0*model.y)\n",
    "model.objective = Objective(expr=model.x, sense=minimize)\n",
    "#Solve MINLP using cplex\n",
    "solver = SolverFactory(\"cplex_direct\")\n",
    "solver.solve(model)\n",
    "model.pprint()"
   ]
  },
  {
   "cell_type": "code",
   "execution_count": null,
   "id": "b8154013",
   "metadata": {},
   "outputs": [],
   "source": []
  }
 ],
 "metadata": {
  "kernelspec": {
   "display_name": "Python 3",
   "language": "python",
   "name": "python3"
  },
  "language_info": {
   "codemirror_mode": {
    "name": "ipython",
    "version": 3
   },
   "file_extension": ".py",
   "mimetype": "text/x-python",
   "name": "python",
   "nbconvert_exporter": "python",
   "pygments_lexer": "ipython3",
   "version": "3.8.8"
  }
 },
 "nbformat": 4,
 "nbformat_minor": 5
}
