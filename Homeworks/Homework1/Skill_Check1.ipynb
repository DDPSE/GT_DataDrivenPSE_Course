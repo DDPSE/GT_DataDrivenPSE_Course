{
 "cells": [
  {
   "cell_type": "markdown",
   "metadata": {},
   "source": [
    "<h1><center>ChBE 4746/6746 Spring 2022 Skill Checks</center></h1>\n",
    "<h3><center>Instructions: Skill Checks will be included in every homework to help you practice your Python and Pyomo skills. These will include short coding exercises that will teach you skills that you will need to solve the problems of the homework sets. </center></h3>"
   ]
  },
  {
   "cell_type": "markdown",
   "metadata": {},
   "source": [
    "\n",
    "## SC1\n",
    "\n",
    "There are multiple ways you can create an optimization problem in Pyomo, some more efficient than others (especially when a problem is large). In this exercise, you will have to create three versions of the same simple optimization problem, using non-indexed variables vs indexed variables and pyomo vs python expressions. The problem you will be formulating and solving is following: \n",
    "\n",
    "$$ \\max x_\\mathrm{1} + x_\\mathrm{2}  $$\n",
    "\n",
    "<center>s.t.</center> $$ 2x_\\mathrm{1} - x_\\mathrm{2} \\le 10 $$\n",
    "\n",
    "$$ -20 \\le x_\\mathrm{1},x_\\mathrm{2} \\le 20 $$\n",
    "\n"
   ]
  },
  {
   "cell_type": "markdown",
   "metadata": {},
   "source": [
    "### SC1.a. Unindexed variables, explicit Pyomo expressions\n",
    "The most intuitive way, if you're not used to using indices is to name each variable with a different name and explicitly write out all of the equations. If you have 1-2 variables, this could be ok. Complete the Pyomo formulation below:"
   ]
  },
  {
   "cell_type": "code",
   "execution_count": 1,
   "metadata": {
    "cell_style": "center",
    "hidden": true,
    "scrolled": false
   },
   "outputs": [
    {
     "name": "stdout",
     "output_type": "stream",
     "text": [
      "2 Var Declarations\n",
      "    x1 : Size=1, Index=None\n",
      "        Key  : Lower : Value : Upper : Fixed : Stale : Domain\n",
      "        None :   -20 :  15.0 :    20 : False : False :  Reals\n",
      "    x2 : Size=1, Index=None\n",
      "        Key  : Lower : Value : Upper : Fixed : Stale : Domain\n",
      "        None :   -20 :  20.0 :    20 : False : False :  Reals\n",
      "\n",
      "1 Objective Declarations\n",
      "    obj : Size=1, Index=None, Active=True\n",
      "        Key  : Active : Sense    : Expression\n",
      "        None :   True : maximize : x1 + x2\n",
      "\n",
      "1 Constraint Declarations\n",
      "    con1 : Size=1, Index=None, Active=True\n",
      "        Key  : Lower : Body      : Upper : Active\n",
      "        None :  -Inf : 2*x1 - x2 :  10.0 :   True\n",
      "\n",
      "4 Declarations: x1 x2 con1 obj\n",
      "Optimal x: 15.00 20.00 \n",
      "Optimal objective: 35.00\n"
     ]
    }
   ],
   "source": [
    "from pyomo.environ import *\n",
    "import numpy as np\n",
    "\n",
    "m = ConcreteModel()\n",
    "\n",
    "# declare variables\n",
    "m.x1 = Var(within=Reals, bounds = (-20, 20))\n",
    "m.x2 = Var(within=Reals, bounds = (-20, 20))\n",
    "\n",
    "# add constraints\n",
    "m.con1 = Constraint(expr= 2*m.x1 - m.x2  <= 10)\n",
    "\n",
    "# set objective function\n",
    "m.obj = Objective(expr= m.x1 + m.x2, sense = maximize)\n",
    "\n",
    "solver = SolverFactory('glpk')\n",
    "solver.solve(m)\n",
    "m.pprint()\n",
    "print(\"Optimal x: {:.2f} {:.2f} \".format(value(m.x1), value(m.x2)))\n",
    "print(\"Optimal objective: {:.2f}\".format(value(m.obj)))"
   ]
  },
  {
   "cell_type": "code",
   "execution_count": 2,
   "metadata": {},
   "outputs": [],
   "source": [
    "assert np.isclose(value(m.x1), 15.00), \"Not optimal solution\"\n",
    "assert np.isclose(value(m.x2), 20.00), \"Not optimal solution\"\n",
    "assert np.isclose(value(m.obj), 35.00), \"Not optimal objective value\""
   ]
  },
  {
   "cell_type": "markdown",
   "metadata": {},
   "source": [
    "### SC1.b. Indexed Variables, explicit Pyomo Expressions\n",
    "What would happen to above approach if you had 10's or 100's or 1000's variables? The better approach is to use sets and indices, so let's get familiar with this in the following skill check. Complete the Pyomo formulation and ensure you get the same answer as above."
   ]
  },
  {
   "cell_type": "code",
   "execution_count": 3,
   "metadata": {
    "hidden": true
   },
   "outputs": [
    {
     "name": "stdout",
     "output_type": "stream",
     "text": [
      "Optimal x: 15.00 20.00 \n",
      "Optimal objective: 35.00\n"
     ]
    }
   ],
   "source": [
    "from pyomo.environ import *\n",
    "m = ConcreteModel()\n",
    "\n",
    "# set: python primitive list\n",
    "I = [1, 2]\n",
    "\n",
    "# declare variables\n",
    "m.x = Var(I, within=Reals, bounds = (-20,20))\n",
    "\n",
    "# constraints: python sum()\n",
    "m.con1 = Constraint(expr= 2*m.x[1] - m.x[2] <= 10)\n",
    "\n",
    "\n",
    "# objective: python sum()\n",
    "m.obj = Objective(expr= m.x[1] + m.x[2], sense = maximize)\n",
    "\n",
    "solver = SolverFactory('glpk')\n",
    "solver.solve(m)\n",
    "print(\"Optimal x: \", end=\"\")\n",
    "for i in I:\n",
    "    print(\"{:.2f}\".format(value(m.x[i])), end=\" \")\n",
    "print(\"\\nOptimal objective: {:.2f}\".format(value(m.obj)))"
   ]
  },
  {
   "cell_type": "code",
   "execution_count": 4,
   "metadata": {},
   "outputs": [],
   "source": [
    "assert type(m.x) == pyomo.core.base.var.IndexedVar, \"Not an indexed variable\"\n",
    "assert np.isclose(value(m.x[1]), 15.00), \"Not optimal solution\"\n",
    "assert np.isclose(value(m.x[2]), 20.00), \"Not optimal solution\"\n",
    "assert np.isclose(value(m.obj), 35.00), \"Not optimal objective value\""
   ]
  },
  {
   "cell_type": "markdown",
   "metadata": {},
   "source": [
    "### SC1c: Indexed Variables, parameters, equations, Pyomo expressions\n",
    "In SC1b, we took advantage of a set to declare one variable instead of two, but the expressions in the constraint and objective were still explicit. We can take a step further and take advantage of indexed sets within equations. Complete the Pyomo formulation below and make sure you get the same answer as in a and b."
   ]
  },
  {
   "cell_type": "code",
   "execution_count": 5,
   "metadata": {
    "cell_style": "center"
   },
   "outputs": [
    {
     "name": "stdout",
     "output_type": "stream",
     "text": [
      "Optimal x: 15.00 20.00 \n",
      "Optimal objective: 35.00\n"
     ]
    }
   ],
   "source": [
    "from pyomo.environ import *\n",
    "m = ConcreteModel()\n",
    "\n",
    "# set: python primitive list\n",
    "I = [1, 2]\n",
    "\n",
    "# define parameters:\n",
    "A = {1:2, 2:-1}\n",
    "B = 10\n",
    "\n",
    "# declare variables\n",
    "m.x = Var(I, within=Reals, bounds = (-20,20))\n",
    "\n",
    "# constraints: python sum()\n",
    "m.con1 = Constraint(expr= summation(A, m.x) <= B)\n",
    "\n",
    "# objective: python sum()\n",
    "m.obj = Objective(expr= summation(m.x), sense = maximize)\n",
    "\n",
    "solver = SolverFactory('glpk')\n",
    "solver.solve(m)\n",
    "print(\"Optimal x: \", end=\"\")\n",
    "for i in I:\n",
    "    print(\"{:.2f}\".format(value(m.x[i])), end=\" \")\n",
    "print(\"\\nOptimal objective: {:.2f}\".format(value(m.obj)))\n"
   ]
  },
  {
   "cell_type": "code",
   "execution_count": 6,
   "metadata": {},
   "outputs": [],
   "source": [
    "assert np.isclose(value(m.x[1])**m.con1() - value(m.x[2])**m.con1(), -9663349609375.0), \"Not optimal solution\""
   ]
  },
  {
   "cell_type": "markdown",
   "metadata": {},
   "source": [
    "### SC1d: Indexed Variables, parameters, equations, Python expressions\n",
    "The only difference in the following exercise is that we will not use the \"Summation\" expression that is a Pyomo expression, but we will use Python's \"sum\" to express the constraints and objective. The purpose of this exercise is to show you that both ways are understood by Pyomo, and it is up to you to pick what works best for you. Complete following example and make sure you get the same optimum as before:"
   ]
  },
  {
   "cell_type": "code",
   "execution_count": 7,
   "metadata": {
    "cell_style": "center"
   },
   "outputs": [
    {
     "name": "stdout",
     "output_type": "stream",
     "text": [
      "Optimal x: 15.00 20.00 \n",
      "Optimal objective: 35.00\n"
     ]
    }
   ],
   "source": [
    "from pyomo.environ import *\n",
    "m = ConcreteModel()\n",
    "\n",
    "# set: python primitive list\n",
    "I = [1, 2]\n",
    "\n",
    "# define parameters:\n",
    "A = {1:2, 2:-1}\n",
    "B = 10\n",
    "\n",
    "# declare variables\n",
    "m.x = Var(I, within=Reals, bounds = (-20,20))\n",
    "\n",
    "# constraints: python sum()\n",
    "m.con1 = Constraint(expr= sum(A[i] * m.x[i] for i in I) <= B)\n",
    "\n",
    "# objective: python sum()\n",
    "m.obj = Objective(expr= sum(m.x[i] for i in I), sense = maximize)\n",
    "\n",
    "solver = SolverFactory('glpk')\n",
    "solver.solve(m)\n",
    "print(\"Optimal x: \", end=\"\")\n",
    "for i in I:\n",
    "    print(\"{:.2f}\".format(value(m.x[i])), end=\" \")\n",
    "print(\"\\nOptimal objective: {:.2f}\".format(value(m.obj)))\n"
   ]
  },
  {
   "cell_type": "code",
   "execution_count": 8,
   "metadata": {},
   "outputs": [],
   "source": [
    "assert np.isclose(value(m.x[1])**m.con1() - value(m.x[2])**m.con1(), -9663349609375.0), \"Not optimal solution\""
   ]
  },
  {
   "cell_type": "markdown",
   "metadata": {},
   "source": [
    "### SC1.e Indexed Variables/Parameters/Equations, Use of `rules` for constraints and objective\n",
    "Sometimes you will have a general type of equation (or else \"rule\") that could be used to represent multiple constraints, each time with different parameter values. Other times, a constraint may be a bit more complex than just a single equation, and it would be convenient to be able to use Python definitions (def) to define this (or you may already have the def written in some other Python file you already have, and want to use it as is). This is shown in the following example. Complete Pyomo formulation and verify that you get the same result as above."
   ]
  },
  {
   "cell_type": "code",
   "execution_count": 1,
   "metadata": {
    "cell_style": "center"
   },
   "outputs": [
    {
     "name": "stdout",
     "output_type": "stream",
     "text": [
      "Optimal x: 15.00 20.00 \n",
      "Optimal objective: 35.00\n"
     ]
    }
   ],
   "source": [
    "from pyomo.environ import *\n",
    "import numpy as np\n",
    "m = ConcreteModel()\n",
    "\n",
    "# set: python primitive list\n",
    "I = [1, 2]\n",
    "\n",
    "# define parameters:\n",
    "A = {1:2, 2:-1}\n",
    "B = 10\n",
    "\n",
    "# declare variables\n",
    "m.x = Var(I, within=Reals, bounds = (-20,20))\n",
    "\n",
    "# add constraints with python functions and 'rule'\n",
    "def con1(pA,pB):\n",
    "    # within the python function, the model name should correspond to the argument\n",
    "    return pA[1]*m.x[1] + pA[2]*m.x[2] <=pB\n",
    "    #return sum(pA[i] * model.x[i] for i in I) <= pB\n",
    "\n",
    "m.con1 = Constraint(rule=con1(A,B))\n",
    "\n",
    "# objective: \n",
    "m.obj = Objective(expr= sum(m.x[i] for i in I), sense = maximize)\n",
    "\n",
    "solver = SolverFactory('glpk')\n",
    "solver.solve(m)\n",
    "print(\"Optimal x: \", end=\"\")\n",
    "for i in I:\n",
    "    print(\"{:.2f}\".format(value(m.x[i])), end=\" \")\n",
    "print(\"\\nOptimal objective: {:.2f}\".format(value(m.obj)))"
   ]
  },
  {
   "cell_type": "code",
   "execution_count": 10,
   "metadata": {},
   "outputs": [],
   "source": [
    "assert np.isclose(B*m.con1()/(value(m.obj)**(value(m.x[1])/value(m.x[2]))), 6.949426511707964), \"Not optimal solution\""
   ]
  },
  {
   "cell_type": "markdown",
   "metadata": {},
   "source": [
    "### SC1.f: Indexed Variables/Parameters/Equations, Pyomo expressions, Pyomo indices and Parameter declarations\n",
    "In the following example, we will practice yet again another variation of the formulation. Here, we define the index as a Pyomo set and the parameters as Pyomo parameters. This formulation has advantages when one wants to do advanced operations with sets and change values of parameters, and we will see more examples of this as the course progresses. For now, it just suffices for you to know that this is also a viable formulation. Complete the formulation and make sure you get the same result as before."
   ]
  },
  {
   "cell_type": "code",
   "execution_count": 11,
   "metadata": {},
   "outputs": [
    {
     "name": "stdout",
     "output_type": "stream",
     "text": [
      "Optimal x: 15.00 20.00 \n",
      "Optimal objective: 35.00\n"
     ]
    }
   ],
   "source": [
    "from pyomo.environ import *\n",
    "m = ConcreteModel()\n",
    "\n",
    "# Pyomo Set\n",
    "m.i = Set(initialize=[1,2])\n",
    "\n",
    "# create Pyomo Parameters\n",
    "m.A = Param(m.i, initialize={1: 2, 2: -1})\n",
    "m.B = Param(initialize = 10)\n",
    "\n",
    "# declare variables\n",
    "m.x = Var(m.i, within=Reals, bounds = (-20,20))\n",
    "\n",
    "# constraints: python sum()\n",
    "m.con1 = Constraint(expr= summation(m.A, m.x) <= m.B)\n",
    "\n",
    "# objective: python sum()\n",
    "m.obj = Objective(expr= summation(m.x), sense = maximize)\n",
    "\n",
    "solver = SolverFactory('glpk')\n",
    "solver.solve(m)\n",
    "print(\"Optimal x: \", end=\"\")\n",
    "for i in m.i:\n",
    "    print(\"{:.2f}\".format(value(m.x[i])), end=\" \")\n",
    "print(\"\\nOptimal objective: {:.2f}\".format(value(m.obj)))"
   ]
  },
  {
   "cell_type": "code",
   "execution_count": 12,
   "metadata": {},
   "outputs": [],
   "source": [
    "assert np.isclose(value(m.B)*value(m.obj)/(m.con1()**(value(m.x[1])/value(m.x[2]))), 62.239779351362294), \"Not optimal solution\""
   ]
  },
  {
   "cell_type": "code",
   "execution_count": null,
   "metadata": {},
   "outputs": [],
   "source": []
  }
 ],
 "metadata": {
  "kernelspec": {
   "display_name": "Python 3 (ipykernel)",
   "language": "python",
   "name": "python3"
  },
  "language_info": {
   "codemirror_mode": {
    "name": "ipython",
    "version": 3
   },
   "file_extension": ".py",
   "mimetype": "text/x-python",
   "name": "python",
   "nbconvert_exporter": "python",
   "pygments_lexer": "ipython3",
   "version": "3.8.12"
  },
  "latex_envs": {
   "LaTeX_envs_menu_present": true,
   "autoclose": false,
   "autocomplete": true,
   "bibliofile": "biblio.bib",
   "cite_by": "apalike",
   "current_citInitial": 1,
   "eqLabelWithNumbers": true,
   "eqNumInitial": 1,
   "hotkeys": {
    "equation": "Ctrl-E",
    "itemize": "Ctrl-I"
   },
   "labels_anchors": false,
   "latex_user_defs": false,
   "report_style_numbering": false,
   "user_envs_cfg": false
  },
  "toc": {
   "base_numbering": 1,
   "nav_menu": {},
   "number_sections": true,
   "sideBar": true,
   "skip_h1_title": false,
   "title_cell": "Table of Contents",
   "title_sidebar": "Contents",
   "toc_cell": false,
   "toc_position": {},
   "toc_section_display": true,
   "toc_window_display": false
  }
 },
 "nbformat": 4,
 "nbformat_minor": 2
}
