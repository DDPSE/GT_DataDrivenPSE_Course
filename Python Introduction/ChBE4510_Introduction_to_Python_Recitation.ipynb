{
 "cells": [
  {
   "cell_type": "markdown",
   "metadata": {
    "id": "hei8AGWqVrgg"
   },
   "source": [
    "# Introduction to Python (Part 1) "
   ]
  },
  {
   "cell_type": "markdown",
   "metadata": {
    "id": "NOLbpxUBvDwX"
   },
   "source": [
    "  ## What is this file? -> Jupyter Notebook\n",
    "\n",
    "**Before we start the Introduction to Python, we'll introduce Jupyter Notebooks:**\n",
    "\n",
    "- This file is a **Jupyter notebook** (facilitated by Google Colab). \n",
    "- We will use these files when presenting tutorials and solving interactive problems in Python.\n",
    "- Jupyter notebooks allow you to read/edit text, images, click on links, and modify and run code interactively **ALL IN THE SAME FILE**. \n",
    "- If you are interested in modifying Jupyter notebooks, and even creating your own in the future, there are tons of resources (turorials and videos) online to help. \n",
    "- You can also use these provided files as a way of teaching yourself how to edit and eventually create your own.\n",
    "\n",
    "**Below is some basic info:**\n",
    "\n",
    "The most commonly used types of entries you will make inculde:\n",
    "\n",
    "- Markdown: (this box) Includes text and notes, look up available resources for formatting (e.g., how to go to new line, how to insert equation, how to write in bold, insert bullet points etc)\n",
    "- Double-click on each \"box\" to see the code/editable text. If you want to go back to only seeing the final text, just double-click on text on the right and editable code will dissappear. \n",
    "\n",
    "- Code: Python code \n",
    "- Click on \"Run\" to transform the code into \"final product\". This should make the Markdown look like a document and run code and display results underneath. "
   ]
  },
  {
   "cell_type": "markdown",
   "metadata": {
    "id": "MT6M1NtJWmvM"
   },
   "source": [
    "### **Exercise 1**: \n",
    "- Create a text cell below this \"cell\" by clicking on \"+Text\" above and type something in it. \n",
    "- Make part of your text bold or italic, observe how the preview changes on the right, and the code changes on *left*.\n",
    "\n"
   ]
  },
  {
   "cell_type": "markdown",
   "metadata": {
    "id": "NuUZr-igvDwb"
   },
   "source": [
    "# What is Python and its main differences to Matlab?\n",
    "*These notes are built upon material from previous class teachings and from:* https://github.com/jrjohansson/scientific-python-lectures*\n",
    "\n",
    "- Python is a modern, free, general-purpose high-level programming language. \n",
    "- Python is used a lot for data analysis and its usage is growing rapidly.\n",
    "\n",
    "Useful resource contain some discussion on the differences between Matlab and Python: [Overview of differences between Matlab and Python](https://bastibe.de/2013-01-20-a-python-primer-for-matlab-users.html)\n",
    "\n",
    "**Users and developers are finding Python to have certain advantages, such as:**\n",
    "-  It's free and open source, \n",
    "-  Clean and simple: Easy-to-read and intuitive code,  maintainability scales well with size of projects,\n",
    "-  Large community that shares material, lots of resources online for debugging and use of new packages\n",
    "\n",
    "**Matlab still has some advantages over Python:**\n",
    "-  Specialized toolboxes (i.e., Simulink), \n",
    "-  Handling of matrices is faster (speed), \n",
    "-  Handling of new versions is less of an issue (that is what you pay for)\n",
    "-  User-friendly interface (another thing you pay for, although there is one for Python too).\n",
    "\n",
    "----------------------------------------------------------------------\n",
    "#### Installation Instructions (for those interested, not required for this course):\n",
    "**Anaconda (Conda):**\n",
    "- Managing packages and versions is one of the main challenges with Python. (i.e., if a package is built upon a different version, it might not work in a new version). \n",
    "- Platforms like Anaconda are cross-platform installation packages of Python that aim to make this a bit easier for you. \n",
    "- If you want to install Python on your computer, doing this from Anaconda is highly recommended: https://www.anaconda.com/products/distribution \n",
    "- Anaconda installation includes Jupyter (allowing you to open/edit these files) and the Graphical User Interface for Python (Spyder)\n",
    "- Instead for this course, to avoid installation issues, we will use google collaboratory (they have python installed on servers and allow us to run Python online without any installations on your local machine).\n",
    "\n",
    "**Graphical User Interface (Spyder):**\n",
    "With the Anaconda installation, you have access to an interface of Python, that is more user-friendly than writing scripts and running code on the console or terminal. If you open Spyder, you will notice it has a default setup:\n",
    "-  **On the left**, a temporary file is created (**xxxx.py**). This is where you will start writing a function, that you can store as a .py file to run/execute later.\n",
    "-  On the **bottom right**, you have the **Console**. Here you can interactively execute commands.\n",
    "\n",
    "![SpyderImage](https://docs.spyder-ide.org/3/_images/mainwindow_default_1610.png)\n",
    "-------------------------------------------------------------------------\n"
   ]
  },
  {
   "cell_type": "markdown",
   "metadata": {
    "id": "bogQZIGVcfXg"
   },
   "source": [
    "## Python \"Packages\":\n",
    "\n",
    "These extend the functionality in Python. Similar to \"toolboxes\" in Matlab. In this class, we will use some of the following:\n",
    "-  math (basic math operations)\n",
    "-  numpy (matrix operations)\n",
    "-  scipy (scientific algorithms)\n",
    "-  matplotlib (plotting)\n",
    "-  pylab (imports numpy and matplotlib)\n",
    "-  pyomo (optimization)\n",
    "-  pandas (reading, importing, exporting data files, e.g, in excel)\n",
    "\n",
    "Our first \"code\" cell is shown below, where we import a package and start using it:"
   ]
  },
  {
   "cell_type": "code",
   "execution_count": 1,
   "metadata": {
    "colab": {
     "base_uri": "https://localhost:8080/"
    },
    "id": "V1DGjWGEc99K",
    "outputId": "69c0d1e4-5e4b-4f20-e40a-a656c4da9f74"
   },
   "outputs": [
    {
     "name": "stdout",
     "output_type": "stream",
     "text": [
      "2.302585092994046\n"
     ]
    }
   ],
   "source": [
    "import math # imports math package\n",
    "print(math.log(10))\n"
   ]
  },
  {
   "cell_type": "markdown",
   "metadata": {
    "id": "TcKEKOn5dQV5"
   },
   "source": [
    "Specific functions from packages can be directly imported:\n",
    "\n",
    "### **Exercise 2:** What happens if you try to print log(10)?"
   ]
  },
  {
   "cell_type": "code",
   "execution_count": 2,
   "metadata": {
    "colab": {
     "base_uri": "https://localhost:8080/"
    },
    "id": "4HVjItaTdOaF",
    "outputId": "2c835339-4728-4391-b6a4-8a2072d2578e"
   },
   "outputs": [
    {
     "name": "stdout",
     "output_type": "stream",
     "text": [
      "2.718281828459045\n"
     ]
    }
   ],
   "source": [
    "from math import exp\n",
    "\n",
    "print(exp(1))"
   ]
  },
  {
   "cell_type": "markdown",
   "metadata": {
    "id": "ukLfHtPbd1_x"
   },
   "source": [
    "Packages can be imported and given a specific name as a reference (good practice if you plan to import lots of packages and want to make sure the different components in each are not mixed-up)"
   ]
  },
  {
   "cell_type": "code",
   "execution_count": 3,
   "metadata": {
    "colab": {
     "base_uri": "https://localhost:8080/"
    },
    "id": "a3CxuFWBeDxp",
    "outputId": "c59429f4-72ae-498f-84cd-fffd141073a6"
   },
   "outputs": [
    {
     "name": "stdout",
     "output_type": "stream",
     "text": [
      "2.718281828459045\n",
      "2.302585092994046\n"
     ]
    }
   ],
   "source": [
    "import math as m\n",
    "\n",
    "print(m.exp(1))\n",
    "print(m.log(10))"
   ]
  },
  {
   "cell_type": "markdown",
   "metadata": {
    "id": "y19LYlmAjmWK"
   },
   "source": [
    "You can use dir() to see all the \"objects\" or \"methods\" associated with a specific package and help() to get some documentation of a specific method in a package.\n",
    "\n",
    "*(Python is very \"object-oriented\", which implies that even each variable is an object that can be associated with classes and methods, but this is quite advanced for now)*"
   ]
  },
  {
   "cell_type": "code",
   "execution_count": 4,
   "metadata": {
    "id": "5nc2wr58jLZ4"
   },
   "outputs": [],
   "source": [
    "#dir(math)\n",
    "#help(math.cos)"
   ]
  },
  {
   "cell_type": "markdown",
   "metadata": {
    "id": "V7mcNhrviMga"
   },
   "source": [
    "## Variable types and Indexing\n",
    "\n",
    "Below are some examples of types of variables that can be defined/used, including Integers, Float, String"
   ]
  },
  {
   "cell_type": "code",
   "execution_count": 5,
   "metadata": {
    "colab": {
     "base_uri": "https://localhost:8080/"
    },
    "id": "yhnOaN5uvDwc",
    "outputId": "892cc921-9bd6-4f0e-d324-aac17813376a"
   },
   "outputs": [
    {
     "name": "stdout",
     "output_type": "stream",
     "text": [
      "10\n",
      "<class 'int'>\n",
      "1.0\n",
      "<class 'float'>\n",
      "11.0\n"
     ]
    }
   ],
   "source": [
    "a = 10 #no semicolon is needed at end of line!\n",
    "print(a)\n",
    "print(type(a))\n",
    "\n",
    "b = 1.\n",
    "print(b)\n",
    "print(type(b))\n",
    "\n",
    "c=a+b\n",
    "print(c)"
   ]
  },
  {
   "cell_type": "code",
   "execution_count": 6,
   "metadata": {
    "colab": {
     "base_uri": "https://localhost:8080/"
    },
    "id": "lYv40KWYvDwd",
    "outputId": "2b812da4-28c5-485a-e48d-a4edd1730d84"
   },
   "outputs": [
    {
     "name": "stdout",
     "output_type": "stream",
     "text": [
      "hello\n",
      "<class 'str'>\n"
     ]
    }
   ],
   "source": [
    "z = 'hello'\n",
    "print(z)\n",
    "print(type(z))\n",
    "\n",
    "#w = c + z\n",
    "#print(w)"
   ]
  },
  {
   "cell_type": "markdown",
   "metadata": {
    "id": "LP_p1n8IvDwe"
   },
   "source": [
    "**Observations:**\n",
    "- When you set a equal to 10, it automatically assumes it is an integer number. \n",
    "- When you specify it as 1. it sets it to a real number (with significant digits). That is called a floating point number.\n",
    "- When you added an integer and a real number, you got a real number.\n",
    "- When you tried to add two incompatible types (float + string), you got an **error**.\n",
    "- Be careful with variable types, because they do not change, unless you specify it with your code."
   ]
  },
  {
   "cell_type": "markdown",
   "metadata": {
    "id": "9NoCSZ8Fk2ox"
   },
   "source": [
    "Lists can be defined by using \"[  ]\" brackets (instead of parenthesis in Matlab):"
   ]
  },
  {
   "cell_type": "code",
   "execution_count": 7,
   "metadata": {
    "colab": {
     "base_uri": "https://localhost:8080/"
    },
    "id": "TK5smsxRvDwe",
    "outputId": "cfcacc88-ee47-4647-e74b-694a33d497c8"
   },
   "outputs": [
    {
     "name": "stdout",
     "output_type": "stream",
     "text": [
      "[1, 2, 3]\n",
      "<class 'list'>\n",
      "['d', 'a', 't', 'a']\n",
      "<class 'list'>\n"
     ]
    }
   ],
   "source": [
    "a = [1,2,3]\n",
    "print(a)\n",
    "print(type(a))\n",
    "\n",
    "b = ['d','a','t','a']\n",
    "print(b)\n",
    "print(type(b))"
   ]
  },
  {
   "cell_type": "markdown",
   "metadata": {
    "id": "t9YPpMSClwgi"
   },
   "source": [
    "Big difference with Matlab is indexing. \n",
    "- In Python, it starts from 0 and not 1.\n",
    "- In Python, a negative index -1 refers to last element of list/array.\n",
    "\n",
    "### **Exercise 3:**\n",
    "- Print the first element of list a\n",
    "- Print the last element of list b"
   ]
  },
  {
   "cell_type": "code",
   "execution_count": 8,
   "metadata": {
    "colab": {
     "base_uri": "https://localhost:8080/"
    },
    "id": "yH-x-w20l1QY",
    "outputId": "9c6f5956-9829-4d65-fe3b-5c2be80cd3c7"
   },
   "outputs": [
    {
     "name": "stdout",
     "output_type": "stream",
     "text": [
      "1\n",
      "a\n"
     ]
    }
   ],
   "source": [
    "print(a[0])\n",
    "print(b[-1])\n"
   ]
  },
  {
   "cell_type": "markdown",
   "metadata": {
    "id": "Li-brcrhvDwg"
   },
   "source": [
    "Let's see another example:"
   ]
  },
  {
   "cell_type": "code",
   "execution_count": 9,
   "metadata": {
    "colab": {
     "base_uri": "https://localhost:8080/"
    },
    "id": "FcQ4eC9TvDwg",
    "outputId": "59d5a536-8c5b-4b13-8bf3-47fe2f924e58"
   },
   "outputs": [
    {
     "name": "stdout",
     "output_type": "stream",
     "text": [
      "[ 10.  20.  30.  40.  50.  60.  70.  80.  90. 100.]\n",
      "10.0\n",
      "[70. 80.]\n"
     ]
    }
   ],
   "source": [
    "import numpy as np\n",
    "m = np.linspace(10,100,10) #create array starting with 10, ending in 100 with 10 elements total:\n",
    "print(m)\n",
    "print(m[0])\n",
    "\n",
    "m1 = m[6:8] #will show you elements 6 and 7 of array! NOT 6, 7 and 8\n",
    "print(m1)\n"
   ]
  },
  {
   "cell_type": "markdown",
   "metadata": {
    "id": "m1jcQfLBfrCE"
   },
   "source": [
    "## Matrix/Array operations\n",
    "\n",
    "Numpy is the \"Numerical Python\" package that has a number of numerical and linear algebra functionalities built in it. \n",
    "\n",
    "Let's import it as \"np\" and use it to create a matrix A (in numpy, matrices are defined as \"arrays\") \n"
   ]
  },
  {
   "cell_type": "code",
   "execution_count": 10,
   "metadata": {
    "colab": {
     "base_uri": "https://localhost:8080/"
    },
    "id": "JIfNsjisgDl9",
    "outputId": "fdd30da0-253d-4d6a-b726-d26806b28b1e"
   },
   "outputs": [
    {
     "data": {
      "text/plain": [
       "array([[1, 2],\n",
       "       [3, 4]])"
      ]
     },
     "execution_count": 10,
     "metadata": {},
     "output_type": "execute_result"
    }
   ],
   "source": [
    "import numpy as np\n",
    "\n",
    "A = np.array([[1,2],[3,4]])\n",
    "A"
   ]
  },
  {
   "cell_type": "markdown",
   "metadata": {
    "id": "GUhirRrBghh6"
   },
   "source": [
    "### **Exercise 4:** \n",
    "- Create another array B, of the same size as A and all elements equal to 2. \n",
    "- Multiply the two matrices by using command: A*B\n",
    "\n",
    "Do you get the result you expect?"
   ]
  },
  {
   "cell_type": "code",
   "execution_count": 11,
   "metadata": {
    "colab": {
     "base_uri": "https://localhost:8080/"
    },
    "id": "yLPr3OXCg-uj",
    "outputId": "ad842a9b-1127-47f0-90cd-7f0289eeb9eb"
   },
   "outputs": [
    {
     "data": {
      "text/plain": [
       "array([[2, 4],\n",
       "       [6, 8]])"
      ]
     },
     "execution_count": 11,
     "metadata": {},
     "output_type": "execute_result"
    }
   ],
   "source": [
    "B = np.array([[2,2],[2,2]])\n",
    "A*B"
   ]
  },
  {
   "cell_type": "markdown",
   "metadata": {
    "id": "t28BAETvhtBP"
   },
   "source": [
    "Now try using np.dot(A,B):"
   ]
  },
  {
   "cell_type": "code",
   "execution_count": 12,
   "metadata": {
    "colab": {
     "base_uri": "https://localhost:8080/"
    },
    "id": "-u8xtKdHhoJj",
    "outputId": "66efa3ec-a5da-409f-895f-68746d1801d5"
   },
   "outputs": [
    {
     "name": "stdout",
     "output_type": "stream",
     "text": [
      "[[ 6  6]\n",
      " [14 14]]\n"
     ]
    }
   ],
   "source": [
    "C = np.dot(A,B)\n",
    "print(C)"
   ]
  },
  {
   "cell_type": "markdown",
   "metadata": {
    "id": "OPLsuMvfo-VZ"
   },
   "source": [
    "The colon \":\" operator can be used to take slices of matrices, like in Matlab:"
   ]
  },
  {
   "cell_type": "code",
   "execution_count": 13,
   "metadata": {
    "colab": {
     "base_uri": "https://localhost:8080/"
    },
    "id": "rsT21gx-pzFa",
    "outputId": "438d9c84-ff11-430f-e6df-fb24b12e2ff1"
   },
   "outputs": [
    {
     "name": "stdout",
     "output_type": "stream",
     "text": [
      "[1 3]\n"
     ]
    }
   ],
   "source": [
    "Acol1 = A[:,0]\n",
    "print(Acol1)\n",
    "#print(A)"
   ]
  },
  {
   "cell_type": "markdown",
   "metadata": {
    "id": "e6XY_pcnh5r6"
   },
   "source": [
    "The above show another major difference between Matlab and Python. In Python the default was element-wise operations, while in Matlab the default is matrix/vector type operations.\n",
    "\n",
    "Some similarities also exist as we saw above.\n",
    "\n",
    "There is a good resource that shows you differences between numpy and Matlab that can be found here: [Matlab/Numpy cheat sheet](https://docs.scipy.org/doc/numpy/user/numpy-for-matlab-users.html)."
   ]
  },
  {
   "cell_type": "markdown",
   "metadata": {
    "id": "O1X7mRyavDwg"
   },
   "source": [
    "## Copying Variables does not work like in Matlab:"
   ]
  },
  {
   "cell_type": "code",
   "execution_count": 14,
   "metadata": {
    "colab": {
     "base_uri": "https://localhost:8080/"
    },
    "id": "DYenbZNHvDwg",
    "outputId": "ba962c5a-597e-457a-e7d8-2a211413d4a1"
   },
   "outputs": [
    {
     "name": "stdout",
     "output_type": "stream",
     "text": [
      "[1 2 3 4 5]\n",
      "[2 3 4]\n",
      "[  1   2 100   4   5]\n",
      "[  2 100   4]\n"
     ]
    }
   ],
   "source": [
    "import numpy as np\n",
    "w = np.array([1,2,3,4,5])\n",
    "d = w[1:4]\n",
    "print(w)\n",
    "print(d)\n",
    "d[1] = 100 \n",
    "print(w)\n",
    "print(d)"
   ]
  },
  {
   "cell_type": "markdown",
   "metadata": {
    "id": "0pHKoONPvDwh"
   },
   "source": [
    "What did we observe from last example?\n",
    "*Answer: Using the equal sign does not create a new variable. Just a copy so if you modify one, both are modified. This can realy create many logical errors in your code.*\n",
    "\n",
    "**To copy a variable do the following:**"
   ]
  },
  {
   "cell_type": "code",
   "execution_count": 15,
   "metadata": {
    "colab": {
     "base_uri": "https://localhost:8080/"
    },
    "id": "N2bBZbBJvDwh",
    "outputId": "a53ee3b4-767f-47b7-b0da-2b0462c036a5"
   },
   "outputs": [
    {
     "name": "stdout",
     "output_type": "stream",
     "text": [
      "[1 2 3 4 5]\n",
      "[  2 100   4]\n"
     ]
    }
   ],
   "source": [
    "a = np.array([1,2,3,4,5])\n",
    "c = np.array(a[1:4],copy=True)\n",
    "c[1] = 100 #this will only change c\n",
    "print(a)\n",
    "print(c)\n"
   ]
  },
  {
   "cell_type": "markdown",
   "metadata": {
    "id": "7EC5384lvDwh"
   },
   "source": [
    "## **For** Loops: \n",
    "-  Everything you can do in Matlab, you can do here, with different syntax\n",
    "-  No end statements needed\n",
    "-  Tab indentation is quite important for syntax in Python"
   ]
  },
  {
   "cell_type": "code",
   "execution_count": 16,
   "metadata": {
    "colab": {
     "base_uri": "https://localhost:8080/"
    },
    "id": "cw7uEeDbvDwh",
    "outputId": "e695eba5-3288-456f-94b1-ccd862a34061"
   },
   "outputs": [
    {
     "name": "stdout",
     "output_type": "stream",
     "text": [
      "15\n"
     ]
    }
   ],
   "source": [
    "sum = 0\n",
    "for n in [1,2,3,4,5]:\n",
    "    sum = sum + n   \n",
    "print(sum)\n",
    "    "
   ]
  },
  {
   "cell_type": "markdown",
   "metadata": {
    "id": "NsJxLspbvDwi"
   },
   "source": [
    "The **indentation level** is what informs Python of when a loop is done. \n",
    "### **Exercise 5**: Create a list (l) with elements 1,2,3,4 and create a loop that prints the elements of this list in each iteration:"
   ]
  },
  {
   "cell_type": "code",
   "execution_count": 17,
   "metadata": {
    "colab": {
     "base_uri": "https://localhost:8080/"
    },
    "id": "U3jRFgZEvDwi",
    "outputId": "5e6e508f-d2bd-47d5-c964-28b48987f020"
   },
   "outputs": [
    {
     "name": "stdout",
     "output_type": "stream",
     "text": [
      "1\n",
      "2\n",
      "3\n",
      "4\n"
     ]
    }
   ],
   "source": [
    "l = [1,2,3,4]\n",
    "for item in l:\n",
    "    print(item)"
   ]
  },
  {
   "cell_type": "markdown",
   "metadata": {
    "id": "QRHyAHUDvDwi"
   },
   "source": [
    "## IF STATEMENTS:\n",
    "\n",
    "Like in Matlab, we can have a simple if/else statement, or a if/elseif/else statement if multiple options are possible."
   ]
  },
  {
   "cell_type": "code",
   "execution_count": 18,
   "metadata": {
    "colab": {
     "base_uri": "https://localhost:8080/"
    },
    "id": "uJHpq-0hvDwj",
    "outputId": "620f8e30-abe1-4ebc-9bf9-ce8352878c96"
   },
   "outputs": [
    {
     "name": "stdout",
     "output_type": "stream",
     "text": [
      "Wear pants\n"
     ]
    }
   ],
   "source": [
    "temp = 38.\n",
    "if temp > 40:\n",
    "    print('Wear shorts')\n",
    "else:\n",
    "    print('Wear pants')\n"
   ]
  },
  {
   "cell_type": "markdown",
   "metadata": {
    "id": "bKA_jAuEsOEZ"
   },
   "source": [
    "### **Exercise 6**: \n",
    "- Complete the following code to print \"D\" as the else (other) option, and a \"C\" if the score is above or equal to 70. \n",
    "- Test your code by changing score values.\n",
    "- Do you see an issue with this code?\n",
    "  *Answer: We did not include ranges for scores, Python will check statements sequentially and as soon as 1 is satisfied, it will assign a letter and exit if statement. So if you did not provide if/elif statements in right order you may get a logical error. One way to avoid this is by putting specific ranges in elif to make sure you're in the right grade range*"
   ]
  },
  {
   "cell_type": "code",
   "execution_count": 19,
   "metadata": {
    "colab": {
     "base_uri": "https://localhost:8080/"
    },
    "id": "yNSvYDZxvDwj",
    "outputId": "7ce04c67-a1bd-4daf-fe27-d0028d5b8f21"
   },
   "outputs": [
    {
     "name": "stdout",
     "output_type": "stream",
     "text": [
      "A\n"
     ]
    }
   ],
   "source": [
    "score = 90\n",
    "if score >=90:\n",
    "    letter = 'A'\n",
    "elif score >= 80:\n",
    "    letter = 'B'\n",
    "elif score >=70:\n",
    "    letter = 'C'\n",
    "else:\n",
    "    letter = 'D'\n",
    "print(letter)"
   ]
  },
  {
   "cell_type": "markdown",
   "metadata": {
    "id": "9Kivp4DnvDwj"
   },
   "source": [
    "## Defining functions:\n",
    "\n",
    "Let's create a function that calculates the absolute value of an input.\n",
    "\n",
    "**In Matlab, you would write:**\n",
    "\n",
    "function [out] = abs(inp)\n",
    "\n",
    "    if inp > 0\n",
    "        out = inp\n",
    "    else \n",
    "        out = -inp\n",
    "    end \n",
    "end\n",
    "\n",
    "**In Python you will write:**"
   ]
  },
  {
   "cell_type": "code",
   "execution_count": 20,
   "metadata": {
    "id": "Q8vmHCU3vDwk"
   },
   "outputs": [],
   "source": [
    "def abs(inp):\n",
    "  if inp>0:\n",
    "    return inp\n",
    "  else:\n",
    "    return -inp\n"
   ]
  },
  {
   "cell_type": "code",
   "execution_count": 21,
   "metadata": {
    "colab": {
     "base_uri": "https://localhost:8080/"
    },
    "id": "4YKNashXvDwk",
    "outputId": "63eb958b-0d61-493a-e21d-c2992f888289"
   },
   "outputs": [
    {
     "name": "stdout",
     "output_type": "stream",
     "text": [
      "10\n",
      "1000\n"
     ]
    }
   ],
   "source": [
    "#Test the function for various positive and negative real numbers:\n",
    "print(abs(-10))\n",
    "print(abs(1000))\n"
   ]
  },
  {
   "cell_type": "markdown",
   "metadata": {
    "id": "4o6NctflvDwk"
   },
   "source": [
    "## Plotting Data:\n"
   ]
  },
  {
   "cell_type": "code",
   "execution_count": 22,
   "metadata": {
    "colab": {
     "base_uri": "https://localhost:8080/",
     "height": 469
    },
    "id": "aMz0iB9ivDwk",
    "outputId": "cee080af-9e2e-49cc-fc4d-bb0312b47eeb"
   },
   "outputs": [
    {
     "name": "stdout",
     "output_type": "stream",
     "text": [
      "[ 0.          0.20408163  0.40816327  0.6122449   0.81632653  1.02040816\n",
      "  1.2244898   1.42857143  1.63265306  1.83673469  2.04081633  2.24489796\n",
      "  2.44897959  2.65306122  2.85714286  3.06122449  3.26530612  3.46938776\n",
      "  3.67346939  3.87755102  4.08163265  4.28571429  4.48979592  4.69387755\n",
      "  4.89795918  5.10204082  5.30612245  5.51020408  5.71428571  5.91836735\n",
      "  6.12244898  6.32653061  6.53061224  6.73469388  6.93877551  7.14285714\n",
      "  7.34693878  7.55102041  7.75510204  7.95918367  8.16326531  8.36734694\n",
      "  8.57142857  8.7755102   8.97959184  9.18367347  9.3877551   9.59183673\n",
      "  9.79591837 10.        ]\n"
     ]
    },
    {
     "data": {
      "image/png": "[encoded data removed]",
      "text/plain": [
       "<Figure size 432x288 with 1 Axes>"
      ]
     },
     "metadata": {
      "needs_background": "light"
     },
     "output_type": "display_data"
    }
   ],
   "source": [
    "#include this line below to tell Jupyter to show the plot below:\n",
    "%matplotlib inline\n",
    "\n",
    "#import the right packages for plotting and creating data\n",
    "import matplotlib.pyplot as plt\n",
    "import numpy as np\n",
    "\n",
    "#create a list for x-axis, ranging from 0 to 10 (default of linspace is 50 points):\n",
    "x = np.linspace(0,10)\n",
    "print(x)\n",
    "\n",
    "\n",
    "#create our y-values sin(x) and cos(x):\n",
    "y = np.sin(x)\n",
    "z = np.cos(x)\n",
    "\n",
    "#Make plot including two series in same plot, with different colors. Add labels, title, legend and show grid:\n",
    "plt.plot(x,y,'b',x,z,'r')\n",
    "plt.xlabel('Radians');\n",
    "plt.ylabel('Value');\n",
    "plt.title('Plotting Demonstration')\n",
    "plt.legend(['Sin','Cos'])\n",
    "plt.grid()"
   ]
  },
  {
   "cell_type": "markdown",
   "metadata": {
    "id": "su62fUJZvDwk"
   },
   "source": [
    "### **Exercise 6**: \n",
    "- Create a function that takes x as an input and returns as an output this nonlinear function: $f(x)=x^3-12x+3$ \n",
    "- Plot this function for $-4 \\le x \\le 4$"
   ]
  },
  {
   "cell_type": "code",
   "execution_count": 23,
   "metadata": {
    "colab": {
     "base_uri": "https://localhost:8080/",
     "height": 642
    },
    "id": "fsagRUqxvDwl",
    "outputId": "12c1db0d-9ba2-4297-e819-6c38dab8dfa1"
   },
   "outputs": [
    {
     "name": "stdout",
     "output_type": "stream",
     "text": [
      "[-13.         -10.16874077  -7.49103421  -4.96371428  -2.58361495\n",
      "  -0.34757018   1.74758605   3.70501979   5.52789707   7.21938392\n",
      "   8.78264638  10.22085048  11.53716226  12.73474774  13.81677297\n",
      "  14.78640398  15.64680681  16.40114748  17.05259204  17.60430651\n",
      "  18.05945693  18.42120934  18.69272977  18.87718425  18.97773882\n",
      "  18.99755952  18.93981237  18.80766341  18.60427868  18.33282421\n",
      "  17.99646604  17.59837019  17.14170271  16.62962963  16.06531698\n",
      "  15.4519308   14.79263711  14.09060197  13.34899139  12.57097142\n",
      "  11.75970809  10.91836743  10.05011548   9.15811827   8.24554184\n",
      "   7.31555222   6.37131544   5.41599754   4.45276456   3.48478253\n",
      "   2.51521747   1.54723544   0.58400246  -0.37131544  -1.31555222\n",
      "  -2.24554184  -3.15811827  -4.05011548  -4.91836743  -5.75970809\n",
      "  -6.57097142  -7.34899139  -8.09060197  -8.79263711  -9.4519308\n",
      " -10.06531698 -10.62962963 -11.14170271 -11.59837019 -11.99646604\n",
      " -12.33282421 -12.60427868 -12.80766341 -12.93981237 -12.99755952\n",
      " -12.97773882 -12.87718425 -12.69272977 -12.42120934 -12.05945693\n",
      " -11.60430651 -11.05259204 -10.40114748  -9.64680681  -8.78640398\n",
      "  -7.81677297  -6.73474774  -5.53716226  -4.22085048  -2.78264638\n",
      "  -1.21938392   0.47210293   2.29498021   4.25241395   6.34757018\n",
      "   8.58361495  10.96371428  13.49103421  16.16874077  19.        ]\n"
     ]
    },
    {
     "data": {
      "image/png": "[encoded data removed]",
      "text/plain": [
       "<Figure size 432x288 with 1 Axes>"
      ]
     },
     "metadata": {
      "needs_background": "light"
     },
     "output_type": "display_data"
    }
   ],
   "source": [
    "def fx(x):\n",
    "  out = x**3 - 12*x + 3\n",
    "  return out\n",
    "\n",
    "\n",
    "l = np.linspace(-4,4,100) \n",
    "y = fx(l)\n",
    "print(y)\n",
    "\n",
    "plt.plot(l,y,'b')\n",
    "plt.xlabel('x');\n",
    "plt.ylabel('fx');\n",
    "plt.title('Plotting Demonstration')\n",
    "plt.grid()\n"
   ]
  },
  {
   "cell_type": "markdown",
   "metadata": {
    "id": "x9_0c6F_vDwm"
   },
   "source": [
    "# Conclusions \n",
    "- **At this point, you have some basic knowledge with respect to creating functions, defining variables, writing loops, if statements and scripts and especially main differences between Python and Matlab.** <br> \n",
    "- There are many more matrix operations and manipulations that are enabled with the numpy package. We can't cover all of these in this class, *however*: <br> \n",
    " - Learn as you need to use, tons of online resources. <br>\n",
    " - Dr. Johansson's scientific computing notes are a GREAT resource (first three chapters are great introduction). \n"
   ]
  }
 ],
 "metadata": {
  "colab": {
   "provenance": []
  },
  "kernelspec": {
   "display_name": "Python 3 (ipykernel)",
   "language": "python",
   "name": "python3"
  },
  "language_info": {
   "codemirror_mode": {
    "name": "ipython",
    "version": 3
   },
   "file_extension": ".py",
   "mimetype": "text/x-python",
   "name": "python",
   "nbconvert_exporter": "python",
   "pygments_lexer": "ipython3",
   "version": "3.8.12"
  }
 },
 "nbformat": 4,
 "nbformat_minor": 1
}
