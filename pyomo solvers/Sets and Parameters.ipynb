{
 "cells": [
  {
   "cell_type": "markdown",
   "id": "fddd7aca",
   "metadata": {},
   "source": [
    "## SETS"
   ]
  },
  {
   "cell_type": "code",
   "execution_count": 1,
   "id": "c930a7c2",
   "metadata": {},
   "outputs": [
    {
     "name": "stdout",
     "output_type": "stream",
     "text": [
      "WARNING: Initializing ordered Set D with a fundamentally unordered data source\n",
      "    (type: set).  This WILL potentially lead to nondeterministic behavior in\n",
      "    Pyomo\n"
     ]
    }
   ],
   "source": [
    "from pyomo.environ import *\n",
    "model = ConcreteModel()\n",
    "\n",
    "model.A = Set()\n",
    "model.A.add(1,4,9)\n",
    "\n",
    "model.B = Set(initialize=[2,3,4])\n",
    "model.C = Set(initialize=[(1,4),(9,16)]) #multiple element initialization\n",
    "model.D = Set(initialize=set([1,4,9]))\n",
    "\n",
    "model.E = Set(initialize=(i for i in model.B if i%2 == 0)) #using a generator statement\n",
    "\n",
    "F_init = {}\n",
    "F_init[2] = [1,3,5]\n",
    "F_init[3] = [2,4,6]\n",
    "F_init[4] = [3,5,7]\n",
    "model.F = Set([2,3,4],initialize=F_init) #try accessing elements, for example model.F[3], model.F[2]. Can you access model.F[1]?"
   ]
  },
  {
   "cell_type": "code",
   "execution_count": 2,
   "id": "adec6972",
   "metadata": {},
   "outputs": [
    {
     "name": "stdout",
     "output_type": "stream",
     "text": [
      "WARNING: DEPRECATED: Using __getitem__ to return a set value from its\n",
      "    (ordered) position is deprecated.  Please use at()  (deprecated in 6.1,\n",
      "    will be removed in 7.0) (called from <ipython-input-2-365d4884a7ad>:1)\n"
     ]
    },
    {
     "data": {
      "text/plain": [
       "5"
      ]
     },
     "execution_count": 2,
     "metadata": {},
     "output_type": "execute_result"
    }
   ],
   "source": [
    "model.F[2][3]"
   ]
  },
  {
   "cell_type": "code",
   "execution_count": 3,
   "id": "66fdf2e3",
   "metadata": {},
   "outputs": [],
   "source": [
    "model.B1 = Set([2,3,4])\n",
    "model.B2 = Set(initialize=[2,3,4])"
   ]
  },
  {
   "cell_type": "code",
   "execution_count": 4,
   "id": "a3f0db5c",
   "metadata": {},
   "outputs": [
    {
     "data": {
      "text/plain": [
       "<pyomo.core.base.set.IndexedSet at 0x24df6ad76a0>"
      ]
     },
     "execution_count": 4,
     "metadata": {},
     "output_type": "execute_result"
    }
   ],
   "source": [
    "model.B1"
   ]
  },
  {
   "cell_type": "code",
   "execution_count": 5,
   "id": "f23d9ea1",
   "metadata": {},
   "outputs": [
    {
     "data": {
      "text/plain": [
       "<pyomo.core.base.set.OrderedScalarSet at 0x24df887a430>"
      ]
     },
     "execution_count": 5,
     "metadata": {},
     "output_type": "execute_result"
    }
   ],
   "source": [
    "model.B2"
   ]
  },
  {
   "cell_type": "code",
   "execution_count": 6,
   "id": "938f68ae",
   "metadata": {},
   "outputs": [],
   "source": [
    "model.H = Set(within=model.A)"
   ]
  },
  {
   "cell_type": "code",
   "execution_count": 7,
   "id": "fc433bae",
   "metadata": {},
   "outputs": [],
   "source": [
    "model.K = model.A * model.B"
   ]
  },
  {
   "cell_type": "markdown",
   "id": "0e535334",
   "metadata": {},
   "source": [
    "## Parameters"
   ]
  },
  {
   "cell_type": "code",
   "execution_count": 8,
   "id": "e40b61d7",
   "metadata": {},
   "outputs": [
    {
     "name": "stdout",
     "output_type": "stream",
     "text": [
      "WARNING: Implicitly replacing the Component attribute B (type=<class\n",
      "    'pyomo.core.base.set.OrderedScalarSet'>) on block unknown with a new\n",
      "    Component (type=<class 'pyomo.core.base.set.AbstractOrderedScalarSet'>).\n",
      "    This is usually indicative of a modelling error. To avoid this warning,\n",
      "    use block.del_component() and block.add_component().\n"
     ]
    }
   ],
   "source": [
    "model.Z = Param()\n",
    "model.Y = Param(within=model.A)\n",
    "model.W = Param(initialize=32)\n",
    "model.B = Set(initialize=[1,2,3])\n",
    "\n",
    "w={}\n",
    "w[1] = 10\n",
    "w[3] = 30\n",
    "model.Q = Param(model.B, initialize=w) #try accessing elements of Q. can you access model.Q[2]?"
   ]
  },
  {
   "cell_type": "code",
   "execution_count": 9,
   "id": "76526816",
   "metadata": {},
   "outputs": [
    {
     "data": {
      "text/plain": [
       "10"
      ]
     },
     "execution_count": 9,
     "metadata": {},
     "output_type": "execute_result"
    }
   ],
   "source": [
    "model.Q[1]"
   ]
  },
  {
   "cell_type": "code",
   "execution_count": 10,
   "id": "dd369d3a",
   "metadata": {},
   "outputs": [],
   "source": [
    "u={}\n",
    "u[1,1] = 10\n",
    "u[2,2] = 20\n",
    "u[3,3] = 30\n",
    "model.U = Param(model.B, model.B, initialize=u, default=0)"
   ]
  },
  {
   "cell_type": "code",
   "execution_count": 12,
   "id": "92eb291e",
   "metadata": {},
   "outputs": [
    {
     "data": {
      "text/plain": [
       "10"
      ]
     },
     "execution_count": 12,
     "metadata": {},
     "output_type": "execute_result"
    }
   ],
   "source": [
    "model.U[1,1]"
   ]
  },
  {
   "cell_type": "code",
   "execution_count": 13,
   "id": "ae7f52a5",
   "metadata": {},
   "outputs": [],
   "source": [
    "model.T = Param(model.B, model.B) #multidimensional parameter array"
   ]
  },
  {
   "cell_type": "code",
   "execution_count": 15,
   "id": "6711e64b",
   "metadata": {},
   "outputs": [],
   "source": [
    "model.T[1,1] #Can you access this? why not?"
   ]
  },
  {
   "cell_type": "code",
   "execution_count": null,
   "id": "c317ba09",
   "metadata": {},
   "outputs": [],
   "source": []
  }
 ],
 "metadata": {
  "kernelspec": {
   "display_name": "Python 3",
   "language": "python",
   "name": "python3"
  },
  "language_info": {
   "codemirror_mode": {
    "name": "ipython",
    "version": 3
   },
   "file_extension": ".py",
   "mimetype": "text/x-python",
   "name": "python",
   "nbconvert_exporter": "python",
   "pygments_lexer": "ipython3",
   "version": "3.8.8"
  }
 },
 "nbformat": 4,
 "nbformat_minor": 5
}
