{
 "cells": [
  {
   "cell_type": "markdown",
   "metadata": {},
   "source": [
    "# $\\color{blue}{\\text{Pyomo}}$\n",
    "\n",
    "## Introduction to Pyomo\n",
    "\n",
    "### Basics:\n",
    " - **Pyomo** is just another package that we need to import.\n",
    " - **Pyomo** is developed by a team of (mostly Chemical) engineers in **Sandia National Labs**. They work with industry, other national labs and other government entities to solve complex optimization problems. One day, they decided that their codes will benefit all of us, so they started putting more effort into making it better and generic for general users.\n",
    " - **Pyomo** developers work hard to perfect the package, but they also want us to report bugs, and potentially add on to Pyomo capabilities (if you develop some general code that other users could benefit from!)\n",
    " - **Pyomo** is based on Python language, so everything you learn about **Python** holds here. **However**, there are specific definitions that **Pyomo** only understands, based on how the developers have built it. Their objective is to help users formulate and solve optimization problems faster! \n",
    " - As stated in their latest book, the **Pyomo** team wants the package to be: \"a framework that promotes flexibility, extensibility, portability, openness, and maintainability\" <br>\n",
    " \n",
    " - More information about Pyomo can be found on : http://www.pyomo.org/about\n",
    " "
   ]
  },
  {
   "cell_type": "code",
   "execution_count": 3,
   "metadata": {},
   "outputs": [],
   "source": [
    "#like every other library, we will import Pyomo using the following command: \n",
    "from pyomo.environ import *"
   ]
  },
  {
   "cell_type": "markdown",
   "metadata": {},
   "source": [
    "### Modeling in Pyomo:\n",
    "\n",
    "There are two different strategies for formulating and optimizing algebraic optimization models using Pyomo\n",
    "- An **Abstract** formulation\n",
    "- A **concrete** formulation\n",
    "\n",
    "- In a ConcreteModel, the construction takes place as soon as the component is assigned to the model and, thus, any data required to initialize that component must be available \n",
    "- In case of a an AbstractModel, construction is delayed until create_instance() is called, at which point components are constructed in the order in which they are declared\n",
    "- However, we can always use a ConcreteModel in an “abstract” setting by placing its definition inside a function and passing some sort of data object in as an input argument that will be used to initialize components. \n",
    "- And similarly, we can use an AbstractModel in a “concrete” setting by loading data from whatever source we prefer above the model definition and initializing components\n",
    "- We will primarily utilize the concrete model formulation in this course\n",
    "\n",
    "### Creating first optimization formulation - \"Concrete Model\":\n",
    "**Formulate and solve the following problem:** <br>\n",
    "min $x_1 + 2x_2$ <br>\n",
    "s.t. <br>\n",
    "$3x_1+4x_2 >=1$ <br>\n",
    "$2x_1+5x_2 >=2$ <br>\n",
    "$x_1,x_2>=0$ <br>\n"
   ]
  },
  {
   "cell_type": "code",
   "execution_count": 4,
   "metadata": {},
   "outputs": [
    {
     "name": "stdout",
     "output_type": "stream",
     "text": [
      "2 Var Declarations\n",
      "    x_1 : Size=1, Index=None\n",
      "        Key  : Lower : Value : Upper : Fixed : Stale : Domain\n",
      "        None :     0 :   0.0 :  None : False : False : NonNegativeReals\n",
      "    x_2 : Size=1, Index=None\n",
      "        Key  : Lower : Value : Upper : Fixed : Stale : Domain\n",
      "        None :     0 :   0.4 :  None : False : False : NonNegativeReals\n",
      "\n",
      "1 Objective Declarations\n",
      "    obj : Size=1, Index=None, Active=True\n",
      "        Key  : Active : Sense    : Expression\n",
      "        None :   True : minimize : x_1 + 2*x_2\n",
      "\n",
      "2 Constraint Declarations\n",
      "    con1 : Size=1, Index=None, Active=True\n",
      "        Key  : Lower : Body          : Upper : Active\n",
      "        None :   1.0 : 3*x_1 + 4*x_2 :  +Inf :   True\n",
      "    con2 : Size=1, Index=None, Active=True\n",
      "        Key  : Lower : Body          : Upper : Active\n",
      "        None :   2.0 : 2*x_1 + 5*x_2 :  +Inf :   True\n",
      "\n",
      "5 Declarations: x_1 x_2 obj con1 con2\n"
     ]
    }
   ],
   "source": [
    "#initialize pyomo environment and import core modeling library:\n",
    "from pyomo.environ import *\n",
    "\n",
    "model = ConcreteModel() # Define name of my formulation\n",
    "\n",
    "#Define variables:\n",
    "model.x_1 = Var(within=NonNegativeReals)\n",
    "model.x_2 = Var(within=NonNegativeReals)\n",
    "\n",
    "#Define objective:\n",
    "model.obj = Objective(expr=model.x_1 + 2*model.x_2, sense= minimize)\n",
    "\n",
    "#Define constraints:\n",
    "model.con1 = Constraint(expr=3*model.x_1 + 4*model.x_2 >= 1)\n",
    "model.con2 = Constraint(expr=2*model.x_1 + 5*model.x_2 >= 2)\n",
    "\n",
    "#Define solver:\n",
    "solver = SolverFactory('glpk')\n",
    "\n",
    "#Solve and Print Results:\n",
    "solver.solve(model)\n",
    "model.pprint()"
   ]
  },
  {
   "cell_type": "markdown",
   "metadata": {},
   "source": [
    "### Let us break down what each line represents:\n",
    "**import library**\n",
    "- $\\color{blue}{\\text{from pyomo.environ import *}}$ : Every Pyomo model starts with this; it tells Python to load the Pyomo Modeling environment\n",
    "\n",
    "**define a model instance**\n",
    "- $\\color{blue}{\\text{concretemodel()}}$: This will create an instance of concrete model, and since this is a concrete model, it is immediately constructed and data must be present at the time the components are defined\n",
    "\n",
    "**Assign it to a local variable**\n",
    "- $\\color{blue}{\\text{model}}$: This is a local variable to hold the concrete model that we will construct subsequently\n",
    "\n",
    "**define variables**\n",
    "- $\\color{blue}{\\text{model.x_1}}$: The name we define after model. becomes the object name, it can be anything but should be unique\n",
    "\n",
    "**assign variable domain and type**\n",
    "- $\\color{blue}{\\text{within}}$: 'within' defines the domain and the type is defined after it. For example 'within = binary' tells pyomo that the variable domain is binary\n",
    "\n",
    "**define objective**\n",
    "- $\\color{blue}{\\text{Objective()}}$: Objective() is where we define the objective function of the formulation\n",
    "- $\\color{red}{\\text{expr}}$: 'expr' can be any expression or any function that can return an expression\n",
    "- $\\color{green}{\\text{sense}}$: 'sense' tells pyomo whether the problem is to be minimized or to be maximized. It not mentioned, pyomo by default assumes it to be minimization.\n",
    "\n",
    "**define constraints**\n",
    "- $\\color{blue}{\\text{Constraint()}}$: Constraint() is where we define the constraints of the formulation, if they exist.\n",
    "- $\\color{red}{\\text{expr}}$: 'expr' can be any expression or any function that can return an expression. Constraints can also be written in the form of rules.\n",
    "\n",
    "**specify solver**\n",
    "- $\\color{blue}{\\text{solver = SolverFactory('glpk')}}$: We have installed certain solvers before. A solver must be selected depending on the type of formulation, Such as : Is the problem linear? non-linear? mixed interger?\n",
    "\n",
    "\n",
    "**solve the formulation**\n",
    "- $\\color{blue}{\\text{solver.solve(model)}}$: This tells pyomo to solve the formulation using the specified solver\n",
    "\n",
    "**print the results**\n",
    "- $\\color{blue}{\\text{model.pprint()}}$: model.pprint() prints the output of the optimization. It should be noted that we can also specifically print the variable/value that is needed"
   ]
  },
  {
   "cell_type": "markdown",
   "metadata": {},
   "source": [
    "### Loading package:\n",
    "\n",
    "**In this lecture we will learn more details about the Pyomo package/environment.** <br>\n",
    "Before we start, let's introduce a few Python components that you will very likely use when solving optimization problems in Pyomo: <br>\n",
    "1. Dictionaries<br>\n",
    "2. Pandas dataframes<br>"
   ]
  },
  {
   "cell_type": "markdown",
   "metadata": {},
   "source": [
    "## Dictionaries:\n",
    " - Dictionaries are exactly like lists in Python, with the only difference that each value of the list has a \"key\" (something like a description). <br>\n",
    " - The syntax of a dictionary type of variable is: {key1 : value1, key2: value2, .. } <br>\n",
    "Let's look at an example:"
   ]
  },
  {
   "cell_type": "code",
   "execution_count": 5,
   "metadata": {},
   "outputs": [
    {
     "name": "stdout",
     "output_type": "stream",
     "text": [
      "[1.0, 2.0, 3.0]\n",
      "{'parameter1': 1.0, 'parameter2': 2.0, 'parameter3': 3.0}\n"
     ]
    }
   ],
   "source": [
    "param_list = [1.,2.,3.]\n",
    "param_dict = {\"parameter1\" : 1.,\"parameter2\" : 2., \"parameter3\":3.}\n",
    "print(param_list)\n",
    "print(param_dict)"
   ]
  },
  {
   "cell_type": "markdown",
   "metadata": {},
   "source": [
    "**How about accessing the elements of a list vs a dictionary?**"
   ]
  },
  {
   "cell_type": "code",
   "execution_count": 6,
   "metadata": {},
   "outputs": [
    {
     "data": {
      "text/plain": [
       "1.0"
      ]
     },
     "execution_count": 6,
     "metadata": {},
     "output_type": "execute_result"
    }
   ],
   "source": [
    "param_list[0]"
   ]
  },
  {
   "cell_type": "code",
   "execution_count": 8,
   "metadata": {},
   "outputs": [
    {
     "ename": "KeyError",
     "evalue": "0",
     "output_type": "error",
     "traceback": [
      "\u001b[1;31m---------------------------------------------------------------------------\u001b[0m",
      "\u001b[1;31mKeyError\u001b[0m                                  Traceback (most recent call last)",
      "\u001b[1;32m<ipython-input-8-224717742242>\u001b[0m in \u001b[0;36m<module>\u001b[1;34m\u001b[0m\n\u001b[0;32m      1\u001b[0m \u001b[1;31m#let us check if we can access the elements of the dictionary in the same way\u001b[0m\u001b[1;33m\u001b[0m\u001b[1;33m\u001b[0m\u001b[1;33m\u001b[0m\u001b[0m\n\u001b[1;32m----> 2\u001b[1;33m \u001b[0mparam_dict\u001b[0m\u001b[1;33m[\u001b[0m\u001b[1;36m0\u001b[0m\u001b[1;33m]\u001b[0m\u001b[1;33m\u001b[0m\u001b[1;33m\u001b[0m\u001b[0m\n\u001b[0m",
      "\u001b[1;31mKeyError\u001b[0m: 0"
     ]
    }
   ],
   "source": [
    "#let us check if we can access the elements of the dictionary in the same way\n",
    "param_dict[0]"
   ]
  },
  {
   "cell_type": "markdown",
   "metadata": {},
   "source": [
    "**IMPORTANT: We cannot access dictionaries the same way we access lists. That is because we have given 'names' or 'keys' to the elements.**"
   ]
  },
  {
   "cell_type": "code",
   "execution_count": 9,
   "metadata": {},
   "outputs": [
    {
     "data": {
      "text/plain": [
       "1.0"
      ]
     },
     "execution_count": 9,
     "metadata": {},
     "output_type": "execute_result"
    }
   ],
   "source": [
    "param_dict[\"parameter1\"]"
   ]
  },
  {
   "cell_type": "markdown",
   "metadata": {},
   "source": [
    "**TO SUM UP**: Dictionaries are important when using Pyomo and formulating optimization problems, because often our variables and our parameters are written with respect to **\"Sets\"**. The \"keys\" in dictionaries can represent the different elements of the sets. <br>\n",
    "\n",
    "## Pandas dataframes:\n",
    "Pandas dataframes allow us to interact (i.e., import from Excel) with structured data. <br>\n",
    "Let's look at a simple instance of the Warehouse Allocation example: <br>\n",
    "\n",
    "**Let's remember the problem:** <br>\n",
    " - We have a set of $N$ potential warehouse locations (we might not build all of them)<br>\n",
    " - We have a set of $M$ customer locations that need to receive product<br>\n",
    " - The cost of delivering product $(USD/ton)$ from warehouse $n$ to customer $m$ is given to us as $c_{n,m}$<br>\n",
    " - We must select at most $P$ warehouses.<br>\n",
    " - Demand for each customer must be met (at least). <br>\n",
    " \n",
    "**To solve an actual problem, let's give values to the above.** <br>\n",
    "\n",
    "**Assume that:** <br>\n",
    " - $N = 3$\n",
    " - $M = 4$\n",
    " - $P = 2$\n",
    " \n",
    "|$d_m$    |   NYC   |   LA    | Chicago | Houston |\n",
    "|---------|---------|---------|---------|---------|\n",
    "|         | 1000    |  2000   |  4000   |   1500  |\n",
    "\n",
    "|$c_{n,m}$|   NYC   |   LA    | Chicago | Houston |   \n",
    "|---------|---------|---------|---------|---------|\n",
    "| Atlanta |  1956   |    1606 |   1410  |   330   |\n",
    "| Memphis |  1096   |    1792 |   531   |   567   |\n",
    "| Ashland |  485    |    2322 |   324   |   1236  |\n",
    "\n",
    "\n",
    "**Let's read the $c_{n,m}$ data from an excel file. (The advantages of this obviously become clear as the data-sets become larger).**\n",
    " - I have created an excel file with the data for convenience. Download it and store it in the directory of this file. The file is called **\"Warehouse.xlsx\"** <br>\n",
    " - Next, we are going to import the data in Python: "
   ]
  },
  {
   "cell_type": "code",
   "execution_count": null,
   "metadata": {},
   "outputs": [],
   "source": [
    "import pandas\n",
    "cnm = pandas.read_excel('Warehouse.xlsx')\n",
    "print(cnm)"
   ]
  },
  {
   "cell_type": "markdown",
   "metadata": {},
   "source": [
    "**What is the variable type?**: <br>\n",
    "It is a 'dataframe'. Let's look at how it works: <br>"
   ]
  },
  {
   "cell_type": "code",
   "execution_count": null,
   "metadata": {},
   "outputs": [],
   "source": [
    "type(cnm)\n",
    "cnm['NYC']\n",
    "print(cnm.index) #row names\n",
    "print(cnm.columns) # column names\n",
    "print(cnm.values) #all data\n",
    "print(cnm.dtypes) #it could be possible for not all values to be of the same type.\n",
    "cnm.head(2) #only first two rows of data set"
   ]
  },
  {
   "cell_type": "markdown",
   "metadata": {},
   "source": [
    "There are many interesting things you can do, like delete rows/columns, or even create subsets of columns that you care about. For example, if we only wanted to keep NYC, LA and Chicago in a future instance of our problem, and we also want to rearrange the columns to appear as NYC, Chicago, LA: "
   ]
  },
  {
   "cell_type": "code",
   "execution_count": null,
   "metadata": {},
   "outputs": [],
   "source": [
    "instance2 = ['NYC','Chicago','LA']\n",
    "cnm2 = cnm[instance2]\n",
    "print(cnm2)"
   ]
  },
  {
   "cell_type": "markdown",
   "metadata": {},
   "source": [
    "## Back to Pyomo:\n",
    "In the previous class, we saw our first Pyomo optimization formulation: <br>"
   ]
  },
  {
   "cell_type": "code",
   "execution_count": null,
   "metadata": {},
   "outputs": [],
   "source": [
    "from pyomo.environ import *\n",
    "model = ConcreteModel()\n",
    "model.x1 = Var(within=NonNegativeReals)\n",
    "model.x2 = Var(within=NonNegativeReals)\n",
    "\n",
    "model.obj = Objective(expr=model.x1 + 2*model.x2)\n",
    "model.con1 = Constraint(expr=3*model.x1+4*model.x2 >=1)\n",
    "model.con2 = Constraint(expr=2*model.x1+5*model.x2 >=2)\n",
    "\n",
    "solver = SolverFactory('glpk')\n",
    "solver.solve(model)\n",
    "model.pprint()"
   ]
  },
  {
   "cell_type": "markdown",
   "metadata": {},
   "source": [
    "**In this class, we will look at more efficient ways of formulating problems, so that we can easily solve larger problems and multiple instances of the same problem.** <br>\n",
    "For example:\n",
    "- What if you wanted to write the same problem above, but this time you had 100 variables instead of 2? <br>\n",
    "- What if you had 1000 constraints of similar form (but different coefficients or Right Hand Sides) instead of 2? <br>"
   ]
  },
  {
   "cell_type": "markdown",
   "metadata": {},
   "source": [
    "### Pyomo fundamentals:\n",
    "\n",
    "#### Pyomo Classes:\n",
    "There are 5 different classes in pyomo: \n",
    " - Var: Variables\n",
    " - Objective: Objective function\n",
    " - Constraint: Constraint expressions\n",
    " - Set: Sets of variables, parameters or expressions\n",
    " - Param: Given constant parameters or problem <br>\n",
    " \n",
    "#### Pyomo definitions of variables:\n",
    "You can define a variable as a real, integer, non-negative real, binary, etc. Below are the possibilities. In **bold** are the ones you will most likely use in this class: <br>\n",
    "\n",
    " - Any: The set of all possible values, except None\n",
    " - AnyWithNone: The set of all possible values\n",
    " - EmptySet: The set with no data values\n",
    " - **Reals**: The set of floating point values\n",
    " - **PositiveReals**: The set of strictly positive floating point values\n",
    " - **NonPositiveReals**: The set of non-positive floating point values\n",
    " - **NegativeReals**: The set of strictly negative floating point values\n",
    " - **NonNegativeReals**: The set of non-negative floating point values\n",
    " - PercentFraction: The set of floating point values in the interval [0,1]\n",
    " - UnitInterval: The same as ’PercentFraction’\n",
    " - **Integers**: The set of integer values\n",
    " - **PositiveIntegers**: The set of positive integer values\n",
    " - **NonPositiveIntegers**: The set of non-positive integer values\n",
    " - **NegativeIntegers**: The set of negative integer values\n",
    " - **NonNegativeIntegers**: The set of non-negative integer values\n",
    " - Boolean: The set of boolean values, which can be represented as False/True, 0/1, ‘False’/‘True’ and ‘F’/‘T’\n",
    " - **Binary**: The same as ‘Boolean’ <br>\n",
    "\n",
    "#### Pyomo models: Concrete vs. Abstract:\n",
    "We have so far only seen a case of a \"Concrete\" model. Pyomo allows you to define a model either as Concrete or Abstract. The only difference you should know at this point is: <br>\n",
    "\n",
    " - **Concrete Models**: You must give values to your parameters within the model. You either set them like the example above, or even read them from files (i.e., as a panda dataframe).\n",
    " - **Abstract Models**: You do not have to define your parameters and sets within the model. You create an *Abstract* version of your model, and then you need to create *Instances* of that model, and in the instance you give values to your parameters. Look more into Abstract Models if you are a more advanced user, and your project will require you to solve many many instances of a similar problem. <br> \n",
    " \n",
    "**Please NOTE: Whether to use an Abstract or Concrete Model, is up to the user's preference. There is no right or wrong way of doing it.** <br>"
   ]
  },
  {
   "cell_type": "markdown",
   "metadata": {},
   "source": [
    "#### Formulating Concrete Models with sets and rules of expressions:\n",
    "Let's take our simple example and formulate it in a better way: <br>\n",
    "\n",
    "**Previously:** <br>\n",
    "from pyomo.environ import *\n",
    "model = ConcreteModel()\n",
    "model.x1 = Var(within=NonNegativeReals)\n",
    "model.x2 = Var(within=NonNegativeReals)\n",
    "\n",
    "model.obj = Objective(expr=model.x1 + 2*model.x2)\n",
    "model.con1 = Constraint(expr=3*model.x1+4*model.x2 >=1)\n",
    "model.con2 = Constraint(expr=2*model.x1+5*model.x2 >=2)\n",
    "\n",
    "solver = SolverFactory('glpk')\n",
    "solver.solve(model)\n",
    "model.pprint()"
   ]
  },
  {
   "cell_type": "markdown",
   "metadata": {},
   "source": [
    "**The above represents this problem:**<br>\n",
    "\n",
    "min $x_1 + 2x_2$ <br>\n",
    "s.t. <br>\n",
    "$3x_1+4x_2 >=1$ <br>\n",
    "$2x_1+5x_2 >=2$ <br>\n",
    "$x_1,x_2>=0$ <br>\n",
    "\n",
    "**But this is equivalent to the following:** <br>\n",
    "min \n",
    "$\\sum_{N} c_Nx_N$ <br>\n",
    "s.t. <br>\n",
    "$\\mathbf{A}x <= \\mathbf{b}$ <br>\n",
    "$x_N>=0$ <br>\n",
    "\n",
    "**Also equivalent to the following:** <br>\n",
    "min \n",
    "$\\sum_{N} c_Nx_N$ <br>\n",
    "s.t. <br>\n",
    "$\\sum_{N}a_{M,N}x_{N} <= b_{M} $ where M = 1,2<br>\n",
    "$x_N>=0$ <br>"
   ]
  },
  {
   "cell_type": "code",
   "execution_count": null,
   "metadata": {},
   "outputs": [],
   "source": [
    "from pyomo.environ import *\n",
    "\n",
    "model = ConcreteModel()\n",
    "\n",
    "#Define Data:\n",
    "model.N = [1,2] #variable set that is a python list\n",
    "model.M = [1,2] #constraint set that is a python list\n",
    "model.c = {1:1, 2:2} # c parameters that are a function of set N, so we define as dictionary!\n",
    "model.b = {1:1, 2:2} # b parameters that are a function of set M, so we define as dictionary!\n",
    "model.a = {(1,1):3,(1,2):4,(2,1):2,(2,2):5} # a matrix parameter that is a function of [M x N], we define as a dictionary!\n",
    "print(len(model.a))\n",
    "model.x = Var(model.N, within=NonNegativeReals) #variable x(N), where N=1,2\n",
    "\n",
    "def obj_rule(model): #Function that defines the 'rule' to be sum_i c_i*x_i\n",
    "    return sum(model.c[i]*model.x[i] for i in model.N)\n",
    "model.obj = Objective(rule=obj_rule) #Instead of defining the objective as we did above, we now set it equal to the rule.\n",
    "\n",
    "def con_rule(model,m): #M functions that define the rule of sum_i a_M_i*x_i <= b_M\n",
    "    return sum(model.a[m,i]*model.x[i] for i in model.N) >= model.b[m]\n",
    "model.con = Constraint(model.M, rule=con_rule) #Instead of defining the constraint as we did above, we now set it equal to the rule.\n",
    "\n",
    "#same as above:\n",
    "solver = SolverFactory('glpk')\n",
    "solver.solve(model)\n",
    "model.pprint()\n",
    "\n"
   ]
  },
  {
   "cell_type": "markdown",
   "metadata": {},
   "source": [
    "Now, create a new  mydata.py file: with the following lines, and store it in the current directory. Try to then run the script in the next cell. \n",
    "\n",
    "\n",
    "N = [1,2] <br>\n",
    "M = [1,2] <br>\n",
    "c = {1:1, 2:2} <br> \n",
    "b = {1:1, 2:2} <br>\n",
    "a = {(1,1):3,(1,2):4,(2,1):2,(2,2):5} \n"
   ]
  },
  {
   "cell_type": "code",
   "execution_count": null,
   "metadata": {},
   "outputs": [],
   "source": [
    "from pyomo.environ import *\n",
    "\n",
    "import mydata #import data instead of putting it in the same function script\n",
    "\n",
    "model = ConcreteModel()\n",
    "\n",
    "model.x = Var(mydata.N, within=NonNegativeReals) #variable x(N), where N=1,2\n",
    "\n",
    "def obj_rule(model): #Function that defines the 'rule' to be sum_i c_i*x_i\n",
    "    return sum(mydata.c[i]*model.x[i] for i in mydata.N)\n",
    "model.obj = Objective(rule=obj_rule) #Instead of defining the objective as we did above, we now set it equal to the rule.\n",
    "\n",
    "def con_rule(model,m): #M functions that define the rule of sum_i a_M_i*x_i <= b_M\n",
    "    return sum(mydata.a[m,i]*model.x[i] for i in mydata.N) >= mydata.b[m]\n",
    "model.con = Constraint(mydata.M, rule=con_rule) #Instead of defining the constraint as we did above, we now set it equal to the rule.\n",
    "\n",
    "#same as above:\n",
    "solver = SolverFactory('glpk')\n",
    "solver.solve(model)\n",
    "model.pprint()\n"
   ]
  },
  {
   "cell_type": "markdown",
   "metadata": {},
   "source": [
    "####  EXERCISE: \n",
    "**Formulate and solve the Warehouse allocation model for the data provided at the beginning of the lecture.** <br>\n",
    "\n",
    "**SPECIFICATIONS:** <br>\n",
    " - We have a set of $N$ potential warehouse locations (we might not build all of them)<br>\n",
    " - We have a set of $M$ customer locations that need to receive product<br>\n",
    " - The cost of delivering product $(USD/ton)$ from warehouse $n$ to customer $m$ is given to us as $c_{n,m}$<br>\n",
    " - We must select at most $P$ warehouses.<br>\n",
    " - Demand for each $d_m$ customer must be met (at least). <br>\n",
    " - You can read the $c_{n,m}$ from pandas or input it in the script yourself.\n",
    "\n",
    "**Assume that:** <br>\n",
    " - $N = 3$\n",
    " - $M = 4$\n",
    " - $P = 2$\n",
    " \n",
    "|$d_m$    |   NYC   |   LA    | Chicago | Houston |\n",
    "|---------|---------|---------|---------|---------|\n",
    "|         | 1000    |  2000   |  4000   |   1500  |\n",
    "\n",
    "|$c_{n,m}$|   NYC   |   LA    | Chicago | Houston |   \n",
    "|---------|---------|---------|---------|---------|\n",
    "| Atlanta |  1956   |    1606 |   1410  |   330   |\n",
    "| Memphis |  1096   |    1792 |   531   |   567   |\n",
    "| Ashland |  485    |    2322 |   324   |   1236  |"
   ]
  },
  {
   "cell_type": "code",
   "execution_count": null,
   "metadata": {},
   "outputs": [],
   "source": [
    "from pyomo.environ import *\n",
    "\n",
    "model = ConcreteModel()\n",
    "\n",
    "#Define Data:\n",
    "model.N = ['Atlanta','Memphis','Ashland'] \n",
    "model.M = ['NYC','LA','Chicago','Houston']\n",
    " \n",
    "model.P = 2\n",
    " \n",
    "model.c = {('Atlanta','NYC'):1959,('Atlanta','LA'):1606,('Atlanta','Chicago'):1410,('Atlanta','Houston'):330,\n",
    "          ('Memphis','NYC'):1096,('Memphis','LA'):1792,('Memphis','Chicago'):531,('Memphis','Houston'):567,\n",
    "          ('Ashland','NYC'):485,('Ashland','LA'):2322,('Ashland','Chicago'):324,('Ashland','Houston'):1236} \n",
    "\n",
    "model.x = Var(model.N, model.M, within=NonNegativeReals) \n",
    "model.d = {'NYC':1000,'LA':2000,'Chicago':4000,'Houston':1500}\n",
    "\n",
    "def obj_rule(model): \n",
    "    return sum(model.c[n,m]*model.x[n,m] for n in model.N for m in model.M)\n",
    "model.obj = Objective(rule=obj_rule) \n",
    "\n",
    "def demand_con(model,m): \n",
    "    return sum(model.x[n,m] for n in model.N) >= model.d[m]\n",
    "model.con2 = Constraint(model.M, rule=demand_con) \n",
    "\n",
    "\n",
    "#same as above:\n",
    "solver = SolverFactory('glpk')\n",
    "solver.solve(model)\n",
    "model.pprint()"
   ]
  },
  {
   "cell_type": "markdown",
   "metadata": {},
   "source": [
    "### Practice: Can you use the data imported from Warehouse.xls to setup your Pyomo model?"
   ]
  },
  {
   "cell_type": "code",
   "execution_count": null,
   "metadata": {},
   "outputs": [],
   "source": []
  }
 ],
 "metadata": {
  "kernelspec": {
   "display_name": "Python 3",
   "language": "python",
   "name": "python3"
  },
  "language_info": {
   "codemirror_mode": {
    "name": "ipython",
    "version": 3
   },
   "file_extension": ".py",
   "mimetype": "text/x-python",
   "name": "python",
   "nbconvert_exporter": "python",
   "pygments_lexer": "ipython3",
   "version": "3.8.5"
  }
 },
 "nbformat": 4,
 "nbformat_minor": 2
}
