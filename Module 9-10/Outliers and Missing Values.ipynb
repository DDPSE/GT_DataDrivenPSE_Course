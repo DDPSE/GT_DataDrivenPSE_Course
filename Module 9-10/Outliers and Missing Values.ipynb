{
 "cells": [
  {
   "cell_type": "markdown",
   "metadata": {},
   "source": [
    "# Reminders:\n",
    "\n",
    "So far we have described **Principal Component Analysis**: <br><br>\n",
    " 1. Method to find **new projections** of original data, <br><br>\n",
    " 2. **Unsupervised method**, so we are not looking at a map between inputs and outputs, <br><br>\n",
    " 2. New projections are **new dimensions** that explain most of the variability of the data, <br><br>\n",
    " 3. Main idea is that **reduced number** of new dimensions will fully characterize the real trends of data, <br><br>\n",
    " 4. Reduced kept dimensions are the **Principal Components** we decide to keep, <br><br>\n",
    " 5. Left out Principal Components explain very little of the variance of data (probably just noise), <br><br>\n",
    " 6. **Limitations:** <br>\n",
    "    - New projections are **linear combinations** of original dimensions, <br>\n",
    "    - New projections are **orthogonal** to each other (reduces some of the degrees of freedom with respect to transformations of the data) <br><br>\n",
    " 7. **Applications:**<br>\n",
    "    - Visualization in reduced spaces, <br>\n",
    "    - Dimensionality reduction, <br>\n",
    "    - Clustering, <br>\n",
    "    - Noise elimination, outliers detection, <br>\n",
    "    - Identification of redundant or very correlated inputs, <br><br>\n",
    "    \n",
    "    \n",
    "**Today** we will cover: <br><br>\n",
    " 1. **Outliers detection**, <br><br>\n",
    " 2. **Techniques to handle outliers**, <br><br>\n",
    " 3. **Techniques to handle missing data**, <br><br>\n",
    "    "
   ]
  },
  {
   "cell_type": "markdown",
   "metadata": {},
   "source": [
    "## Outliers\n",
    "\n",
    "### What is an outlier?\n",
    "1. **Definition**: Observations that are far from the main population of observations, <br> or else, observations that do not belong in the same distribution of the majority of observations. <br><br>\n",
    "2. An sample can be an outlier *with respect to*:<br>\n",
    "   a. The input space: measurement really far away from the region where most samples were taken, <br>\n",
    "   b. The output space: output/response is very different from most sample responses, <br>\n",
    "   c. Both input and output space <br><br>\n",
    "   \n",
    "**Are all outliers bad data points???**\n",
    "1. If the significant deviation is only in the output measurement: \n",
    "   - Likely that it is due to a failure in measurement device or mistake. <br><br>\n",
    "   - To be able to be certain of the above: **ENOUGH DATA TO JUSTIFY IT** <br><br>\n",
    "   - **Examples:** Let's look a 1D example. We have a data set X-y, where we suspect there is a relationship: y=f(X)"
   ]
  },
  {
   "cell_type": "code",
   "execution_count": 4,
   "metadata": {},
   "outputs": [
    {
     "data": {
      "image/png": "[encoded data removed]",
      "text/plain": [
       "<matplotlib.figure.Figure at 0x24c44c6ce80>"
      ]
     },
     "metadata": {},
     "output_type": "display_data"
    }
   ],
   "source": [
    "##DATA SET 1: \n",
    "\n",
    "%matplotlib inline\n",
    "\n",
    "import numpy as np\n",
    "import matplotlib.pyplot as plt\n",
    "\n",
    "# #############################################################################\n",
    "# Generate sample data\n",
    "rng = np.random.RandomState(0)\n",
    "X = 5 * rng.rand(1000, 1).ravel()\n",
    "y = np.sin(X)\n",
    "y[::20] += 3 * (0.5 - rng.rand(X.shape[0] // 20))\n",
    "# #############################################################################\n",
    "\n",
    "# #############################################################################\n",
    "# Look at the results by plotting just y:\n",
    "plt.figure()\n",
    "plt.scatter(X, y, c='k')\n",
    "plt.xlabel('x')\n",
    "plt.ylabel('y')\n",
    "plt.show()\n",
    "# #############################################################################\n"
   ]
  },
  {
   "cell_type": "code",
   "execution_count": 5,
   "metadata": {},
   "outputs": [
    {
     "data": {
      "image/png": "[encoded data removed]",
      "text/plain": [
       "<matplotlib.figure.Figure at 0x24c46a2d748>"
      ]
     },
     "metadata": {},
     "output_type": "display_data"
    }
   ],
   "source": [
    "##DATA SET 2: \n",
    "\n",
    "%matplotlib inline\n",
    "\n",
    "import numpy as np\n",
    "import matplotlib.pyplot as plt\n",
    "\n",
    "# #############################################################################\n",
    "# Generate sample data\n",
    "rng = np.random.RandomState(0)\n",
    "X = 5 * rng.rand(50, 1)\n",
    "y = np.sin(X).ravel()\n",
    "y[::2] += 3 * (0.5 - rng.rand(X.shape[0] // 2))\n",
    "# #############################################################################\n",
    "\n",
    "# #############################################################################\n",
    "# Look at the results by plotting just y:\n",
    "plt.figure()\n",
    "plt.scatter(X, y, c='k' )\n",
    "plt.xlabel('s=x')\n",
    "plt.ylabel('y')\n",
    "plt.show()\n",
    "# #############################################################################"
   ]
  },
  {
   "cell_type": "markdown",
   "metadata": {},
   "source": [
    "**DISCUSSION:**\n",
    "1. In the above two examples, how would you identify the outliers??? <br><br>\n",
    "2. What are the main differences between Example 1 and Example 2? <br><br>\n",
    "3. What would you do to find whether a measurement is an outlier? <br><br>\n"
   ]
  },
  {
   "cell_type": "code",
   "execution_count": 11,
   "metadata": {},
   "outputs": [
    {
     "name": "stdout",
     "output_type": "stream",
     "text": [
      "2.479607671858914 1.4529942078030507\n",
      "0.1629213857401275 0.7454446257394572\n",
      "[] []\n",
      "[2.36789093 2.43156928 1.72905773 1.69915605 1.83009117 2.2779755 ] [-1.38353569 -1.67126319 -1.34890289 -1.44000188 -2.22237826 -1.68227163\n",
      " -2.40223589]\n"
     ]
    },
    {
     "data": {
      "image/png": "[encoded data removed]",
      "text/plain": [
       "<matplotlib.figure.Figure at 0x24c478af358>"
      ]
     },
     "metadata": {},
     "output_type": "display_data"
    }
   ],
   "source": [
    "#For example 1:\n",
    "# Generate sample data\n",
    "import seaborn as sns\n",
    "rng = np.random.RandomState(0)\n",
    "X = 5 * rng.rand(1000, 1).ravel()\n",
    "y = np.sin(X)\n",
    "y[::20] += 3 * (0.5 - rng.rand(X.shape[0] // 20))\n",
    "meanx = np.average(X)\n",
    "stdevx = np.std(X)\n",
    "meany = np.average(y)\n",
    "stdevy = np.std(y)\n",
    "\n",
    "# Print average and standard deviation of data:\n",
    "print(meanx,stdevx)\n",
    "print(meany,stdevy)\n",
    "\n",
    "# Does my data follow normal distribution?\n",
    "#sns.distplot(X, hist=True)\n",
    "sns.distplot(y,hist=True)\n",
    "\n",
    "# How many points lie outside +/- 2sd of data?\n",
    "Bp = X[np.where(X>=(meanx+2*stdevx))[0]]\n",
    "Bn = X[np.where(X<=(meanx-2*stdevx))[0]]\n",
    "print(Bp,Bn)\n",
    "\n",
    "Ap = y[np.where(y>=(meany+2*stdevy))[0]]\n",
    "An = y[np.where(y<=(meany-2*stdevy))[0]]\n",
    "print(Ap,An)"
   ]
  },
  {
   "cell_type": "code",
   "execution_count": 15,
   "metadata": {},
   "outputs": [
    {
     "name": "stdout",
     "output_type": "stream",
     "text": [
      "2.689825591377706 1.3613291146088793\n",
      "0.14047926804142377 0.8012347856407276\n",
      "[] []\n",
      "[2.00940261 1.90963112] [-1.62134228]\n"
     ]
    },
    {
     "data": {
      "image/png": "[encoded data removed]",
      "text/plain": [
       "<matplotlib.figure.Figure at 0x24c477d5f60>"
      ]
     },
     "metadata": {},
     "output_type": "display_data"
    }
   ],
   "source": [
    "#For example 2:\n",
    "# Generate sample data\n",
    "import seaborn as sns\n",
    "rng = np.random.RandomState(0)\n",
    "X = 5 * rng.rand(50, 1).ravel()\n",
    "y = np.sin(X)\n",
    "y[::2] += 3 * (0.5 - rng.rand(X.shape[0] // 2))\n",
    "meanx = np.average(X)\n",
    "stdevx = np.std(X)\n",
    "meany = np.average(y)\n",
    "stdevy = np.std(y)\n",
    "\n",
    "print(meanx,stdevx)\n",
    "print(meany,stdevy)\n",
    "\n",
    "# Does my data follow normal distribution?\n",
    "#sns.distplot(X, hist=True)\n",
    "sns.distplot(y,hist=True)\n",
    "\n",
    "# How many points lie outside +/- 2sd of data?\n",
    "Bp = X[np.where(X>=(meanx+2*stdevx))[0]]\n",
    "Bn = X[np.where(X<=(meanx-2*stdevx))[0]]\n",
    "print(Bp,Bn)\n",
    "\n",
    "Ap = y[np.where(y>=(meany+2*stdevy))[0]]\n",
    "An = y[np.where(y<=(meany-2*stdevy))[0]]\n",
    "print(Ap,An)"
   ]
  },
  {
   "cell_type": "markdown",
   "metadata": {},
   "source": [
    "2. If the deviation is both in the input/output space: \n",
    "   - Maybe it is not a wrong measurement, but an anomally in the performance of a system. <br><br>\n",
    "   - What we decide to do with this, depends on the application: <br> <br>\n",
    "   - **Example:** Given the following data, asked to fit a model between X-y, what would you do?<br><br>"
   ]
  },
  {
   "cell_type": "code",
   "execution_count": 16,
   "metadata": {},
   "outputs": [
    {
     "data": {
      "image/png": "[encoded data removed]",
      "text/plain": [
       "<matplotlib.figure.Figure at 0x24c4793f0b8>"
      ]
     },
     "metadata": {},
     "output_type": "display_data"
    },
    {
     "data": {
      "image/png": "[encoded data removed]",
      "text/plain": [
       "<matplotlib.figure.Figure at 0x24c47b42eb8>"
      ]
     },
     "metadata": {},
     "output_type": "display_data"
    }
   ],
   "source": [
    "##GENERATION OF DATA:\n",
    "rng = np.random.RandomState(0)\n",
    "X1 = 5 * rng.rand(50, 1).ravel()\n",
    "X2 = 0.1 * rng.rand(10,1).ravel()\n",
    "y1 = np.sin(X1)\n",
    "y2 = 10*np.sin(X2)\n",
    "X  = [*X1, *X2]\n",
    "y  = [*y1, *y2]\n",
    "##\n",
    "\n",
    "#Look at the results by plotting just y:\n",
    "plt.figure()\n",
    "plt.scatter(X, y, c='k' )\n",
    "plt.xlabel('s=x')\n",
    "plt.ylabel('y')\n",
    "plt.show()\n",
    "\n",
    "#Look at the results by plotting just x:\n",
    "plt.figure()\n",
    "plt.scatter(np.linspace(1,60,60), X, c='k' )\n",
    "plt.xlabel('s=points')\n",
    "plt.ylabel('x')\n",
    "plt.show()"
   ]
  },
  {
   "cell_type": "markdown",
   "metadata": {},
   "source": [
    "### How to detect outliers?\n",
    "\n",
    "#### By inspection:\n",
    "- Still commonly used technique in many practical applications. <br>\n",
    "- Plot output data, remove ones that are clearly far away from most. <br>\n",
    "- Can be dangerous if not considered input distribution of data. <br> <br>\n",
    "\n",
    "#### By statistical tests:\n",
    "- Use Mahalanobolis distance: is a measure of distance between distributions. <br> <br>\n",
    "- In example below (same example discussed last lecture), the M. distance is plotted for the input data. Any point that falls outside the dotted curve would be an outlier. Here, there are no outliers. <br><br>\n",
    "- Statistical software and python tools can be used to calculate this distance and produce such plots. <br><br>\n",
    "\n",
    "<img src=\"principal_components_loan_applicant_outlier_plot.png\" width=\"500\" />\n",
    "\n",
    "- Use more modern Machine Learning tools, that account for nonlinearity in data: http://scikit-learn.org/stable/modules/outlier_detection.html <br><br>\n",
    "\n",
    "<img src=\"sphx_glr_plot_anomaly_comparison_001.png\" width=\"500\" />\n",
    "\n",
    "- If problem is high-dimensional, use PCA -> project to lower dimensions -> then detect from outliers (similar to how we detected clusters!) <br> <br>\n",
    "- **ALWAYS REMEMBER:** Outliers in high-dimensional data can be very well hidden. Use statistical tests to detect them. \n",
    "\n",
    "\n",
    "### How to handle outliers?\n",
    "**Depending on type of outlier:** <br>\n",
    "1. **Remove entire measurement.** <br>\n",
    "  - Most relevant if we have the type of outliers shown in the last example above. <br><br>\n",
    "  - Entire measurement should not be used for the same prediction of majority of models. <br><br>\n",
    "2. **Remove output prediction and treat it as a missing value.** <br><br>\n",
    "  - Most relevant if we have the type of outliers of the first two problems (only in output) <br><br>\n",
    "  - BE VERY CAREFUL when doing this!!!**ASK YOURSELF** <br><br>\n",
    "    1. Do I have enough data to remove outliers?<br>\n",
    "    2. Are they really outliers or trends in my data? <br>\n",
    "    3. Always REPORT the removal of outliers when reporting results (scientific reports, progress reports, publications!) <br>\n",
    "     "
   ]
  },
  {
   "cell_type": "markdown",
   "metadata": {},
   "source": [
    "## Missing Data\n",
    "\n",
    "### How to handle missing data?\n",
    "\n",
    "<img src=\"Lecture23.png\" width=\"500\" />\n",
    "\n",
    "**There two main different approaches:** <br>\n",
    "1. Completely **disregard** any rows (samples) with missing elements. <br><br>\n",
    "   - This can be done if we have enough data remaining when removing all incomplete rows. <br>\n",
    "   - Even if we remain with enough data, we might actually lose important information by removing rows which still had measurements. <br>\n",
    "  \n",
    "2. **Imputing** missing elements <br><br>\n",
    "   - **Main idea:** even if some measurements are missing from a sample, we can infer what those are, based on the values of the sample that are available. <br>\n",
    "   - Conceptually, we can expect that \"similar\" measurements, will have similar input values. <br>\n",
    "   - Essentially, we are assuming some correlation, and predicting what an input measurement should have been, based on complete observations. <br>\n",
    "   - Many techniques exist, from simple (i.e., replacing all missing values by a mean of the data), to very complex (i.e., assuming some nonlinear relationship and interpolating values. <br>\n",
    "   - Key thing to remember: MANY examples exist that show that, a regression function is more predictive when using imputation techniques and fitting data, rather than a technique where we completely removed all incomplete rows. <br>\n",
    "   \n",
    "**WHAT YOU DECIDE TO DO DEPENDS ON:** <br><br>\n",
    "- The amount of data <br>\n",
    "- The amount of missing data <br>\n",
    "- The complexity of the data set <br>\n",
    "- The structure of the missing data patterns<br>\n",
    "\n",
    "**EXAMPLE:** (taken from http://scikit-learn.org/stable/auto_examples/plot_missing_values.html#sphx-glr-auto-examples-plot-missing-values-py)"
   ]
  },
  {
   "cell_type": "code",
   "execution_count": 3,
   "metadata": {},
   "outputs": [
    {
     "name": "stderr",
     "output_type": "stream",
     "text": [
      "C:\\Users\\fboukouvala6\\AppData\\Local\\Continuum\\anaconda3\\lib\\site-packages\\sklearn\\model_selection\\_split.py:1943: FutureWarning: You should specify a value for 'cv' instead of relying on the default value. The default value will change from 3 to 5 in version 0.22.\n",
      "  warnings.warn(CV_WARNING, FutureWarning)\n"
     ]
    },
    {
     "name": "stdout",
     "output_type": "stream",
     "text": [
      "Score with the entire dataset = 0.56\n"
     ]
    }
   ],
   "source": [
    "import numpy as np\n",
    "\n",
    "from sklearn.datasets import load_boston\n",
    "from sklearn.ensemble import RandomForestRegressor\n",
    "from sklearn.pipeline import Pipeline\n",
    "from sklearn.preprocessing import Imputer\n",
    "from sklearn.model_selection import cross_val_score\n",
    "\n",
    "rng = np.random.RandomState(0)\n",
    "\n",
    "dataset = load_boston()\n",
    "X_full, y_full = dataset.data, dataset.target\n",
    "n_samples = X_full.shape[0]\n",
    "n_features = X_full.shape[1]\n",
    "\n",
    "# Estimate the score on the entire dataset, with no missing values\n",
    "estimator = RandomForestRegressor(random_state=0, n_estimators=100)\n",
    "score = cross_val_score(estimator, X_full, y_full).mean()\n",
    "print(\"Score with the entire dataset = %.2f\" % score)\n",
    "\n",
    "# Add missing values in 75% of the lines\n",
    "#missing_rate = 0.75\n",
    "#n_missing_samples = np.floor(n_samples * missing_rate)\n",
    "#missing_samples = np.hstack((np.zeros(n_samples - n_missing_samples,\n",
    "#                                      dtype=np.bool),\n",
    "#                             np.ones(n_missing_samples,\n",
    "#                                     dtype=np.bool)))\n",
    "#rng.shuffle(missing_samples)\n",
    "#missing_features = rng.randint(0, n_features, n_missing_samples)\n",
    "\n",
    "# Estimate the score without the lines containing missing values\n",
    "#X_filtered = X_full[~missing_samples, :]\n",
    "#y_filtered = y_full[~missing_samples]\n",
    "#estimator = RandomForestRegressor(random_state=0, n_estimators=100)\n",
    "#score = cross_val_score(estimator, X_filtered, y_filtered).mean()\n",
    "#print(\"Score without the samples containing missing values = %.2f\" % score)\n",
    "\n",
    "# Estimate the score after imputation of the missing values\n",
    "#X_missing = X_full.copy()\n",
    "#X_missing[np.where(missing_samples)[0], missing_features] = 0\n",
    "#y_missing = y_full.copy()\n",
    "#estimator = Pipeline([(\"imputer\", Imputer(missing_values=0,\n",
    "#                                          strategy=\"mean\",\n",
    "#                                          axis=0)),\n",
    "#                      (\"forest\", RandomForestRegressor(random_state=0,\n",
    "#                                                       n_estimators=100))])\n",
    "#score = cross_val_score(estimator, X_missing, y_missing).mean()\n",
    "#print(\"Score after imputation of the missing values = %.2f\" % score)"
   ]
  },
  {
   "cell_type": "code",
   "execution_count": null,
   "metadata": {},
   "outputs": [],
   "source": [
    "\n",
    "\n"
   ]
  },
  {
   "cell_type": "code",
   "execution_count": null,
   "metadata": {},
   "outputs": [],
   "source": []
  }
 ],
 "metadata": {
  "kernelspec": {
   "display_name": "Python 3",
   "language": "python",
   "name": "python3"
  },
  "language_info": {
   "codemirror_mode": {
    "name": "ipython",
    "version": 3
   },
   "file_extension": ".py",
   "mimetype": "text/x-python",
   "name": "python",
   "nbconvert_exporter": "python",
   "pygments_lexer": "ipython3",
   "version": "3.7.6"
  }
 },
 "nbformat": 4,
 "nbformat_minor": 2
}
